{
 "cells": [
  {
   "cell_type": "markdown",
   "id": "0e343e00",
   "metadata": {},
   "source": [
    "# Lekce 03 Funkce\n",
    "\n",
    "Funkce: Funkce je blok kódu, který provádí určitou úlohu a může být volán z \n",
    "jiných částí programu. Funkce se používají k rozdělení velkých programů \n",
    "na menší, lépe zvládnutelné části a k opakovanému použití kódu.\n"
   ]
  },
  {
   "cell_type": "markdown",
   "id": "6a9b4b92",
   "metadata": {},
   "source": [
    "## Definice funkce\n",
    "\n",
    "Funkci definujete pomocí klíčového slova `def`, za kterým následuje název funkce, závorky s parametry funkce, následované dvojtečkou. Tělo funkce je pak \n",
    "odsazeným blokem příkazů. Nezapomeňte definovat funkce před jejich voláním v programu.\n",
    "\n",
    "Funkce může vrátit výsledek. Vracenou hodnotu definje příkaz `return`. Příkaz return  \n",
    "ukončí provádění funkce a řízení se přenese zpět do místa, kde byla funkce vyvolána. \n",
    "\n",
    "* Případná hodnota uvedená za příkazem `return` je tato hodnota funkcí vrácena.\n",
    "* Pokud za příkazem return nenásleduje žádný výraz nebo pokud ve funkci není žádný příkaz return, \n",
    "funkce implicitně vrací None."
   ]
  },
  {
   "cell_type": "code",
   "execution_count": 5,
   "id": "ce62d1d6",
   "metadata": {},
   "outputs": [],
   "source": [
    "# Define a function that adds two values\n",
    "def add(x, y):\n",
    "    return x + y"
   ]
  },
  {
   "cell_type": "markdown",
   "id": "67cfd134",
   "metadata": {},
   "source": [
    "## Volání funkce\n",
    "Chcete-li zavolat funkci, použijte její název následovaný závorkami. Pokud funkce má \n",
    "nějaké argumenty, uveďte je uvnitř závorek. \n"
   ]
  },
  {
   "cell_type": "code",
   "execution_count": 7,
   "id": "cb32e592",
   "metadata": {},
   "outputs": [
    {
     "name": "stdout",
     "output_type": "stream",
     "text": [
      "Soucet je  5\n",
      "Hello world\n",
      "[1, 2, 3, 4]\n"
     ]
    }
   ],
   "source": [
    "result = add (2,3)\n",
    "print (\"Soucet je \", result)\n",
    "\n",
    "print (add(\"Hello\", \" world\"))\n",
    "print (add([1,2], [3,4]))"
   ]
  },
  {
   "cell_type": "markdown",
   "id": "638311c0",
   "metadata": {},
   "source": [
    "## Návratová hodnota\n",
    "\n",
    "Výsledek funkce (vrácenou hodnotu) definuje příkaz `return`. Pokud potřebuje vrátit více hodnot, použijeme typ `tuple` \n"
   ]
  },
  {
   "cell_type": "code",
   "execution_count": 21,
   "id": "ae6dd422",
   "metadata": {},
   "outputs": [
    {
     "name": "stdout",
     "output_type": "stream",
     "text": [
      "(3, 9, 27)\n"
     ]
    }
   ],
   "source": [
    "# Function returning multiple values\n",
    "def multiReturnFunction(x):\n",
    "    return (x, x**2, x**3)\n",
    "# Alternative syntax: return x, x**2, x**3\n",
    "\n",
    "print (multiReturnFunction(3))\n"
   ]
  },
  {
   "cell_type": "markdown",
   "id": "73e1529d",
   "metadata": {},
   "source": [
    "Dílčí hodnoty můžemé získat pomocí unpacking syntaxe. Špatný počet argumentů vede k chybě"
   ]
  },
  {
   "cell_type": "code",
   "execution_count": 22,
   "id": "a2b1e05a",
   "metadata": {},
   "outputs": [
    {
     "name": "stdout",
     "output_type": "stream",
     "text": [
      "x*x= 9\n"
     ]
    },
    {
     "ename": "ValueError",
     "evalue": "too many values to unpack (expected 2)",
     "output_type": "error",
     "traceback": [
      "\u001b[0;31m---------------------------------------------------------------------------\u001b[0m",
      "\u001b[0;31mValueError\u001b[0m                                Traceback (most recent call last)",
      "Cell \u001b[0;32mIn[22], line 5\u001b[0m\n\u001b[1;32m      2\u001b[0m \u001b[38;5;28mprint\u001b[39m(\u001b[38;5;124m\"\u001b[39m\u001b[38;5;124mx*x=\u001b[39m\u001b[38;5;124m\"\u001b[39m, x2)\n\u001b[1;32m      4\u001b[0m \u001b[38;5;66;03m#error\u001b[39;00m\n\u001b[0;32m----> 5\u001b[0m (x,x2) \u001b[38;5;241m=\u001b[39m multiReturnFunction(\u001b[38;5;241m4\u001b[39m)\n",
      "\u001b[0;31mValueError\u001b[0m: too many values to unpack (expected 2)"
     ]
    }
   ],
   "source": [
    "(x,x2,x3)=multiReturnFunction(3)\n",
    "print(\"x*x=\", x2)\n",
    "\n",
    "#error\n",
    "(x,x2) = multiReturnFunction(4)"
   ]
  },
  {
   "cell_type": "markdown",
   "id": "7c879d90",
   "metadata": {},
   "source": [
    "## Volitelné parametry (optional arguments)\n",
    "* volitelné parametry musí být definovány na konci seznamu parametrů funkce. Zároveň je třeba definovat jejich výchozí (default) hodnotu, která se použije, pokud při volání není parametr definován. "
   ]
  },
  {
   "cell_type": "code",
   "execution_count": 17,
   "id": "6649c37b",
   "metadata": {},
   "outputs": [
    {
     "name": "stdout",
     "output_type": "stream",
     "text": [
      "Hello Bob.\n",
      "Hi John.\n"
     ]
    }
   ],
   "source": [
    "def greet(name, message=\"Hello\", end=\".\"):\n",
    "    return message+\" \"+name+end\n",
    "\n",
    "print(greet(\"Bob\"))\n",
    "print(greet(\"John\", \"Hi\"))\n",
    "\n"
   ]
  },
  {
   "cell_type": "markdown",
   "id": "0a452ea6",
   "metadata": {},
   "source": [
    "## Pojmenované argumenty (named arguments)\n",
    "* Parametry funkce můžete definovat pomocí jejich jména při volání funkce\n"
   ]
  },
  {
   "cell_type": "code",
   "execution_count": 20,
   "id": "b4051ff4",
   "metadata": {},
   "outputs": [
    {
     "name": "stdout",
     "output_type": "stream",
     "text": [
      "Hello Charlie!\n",
      "Hello Anne!\n",
      "Welcome Dave in Prague.\n"
     ]
    }
   ],
   "source": [
    "print (greet(\"Charlie\", end=\"!\"))\n",
    "print (greet(\"Anne\", end=\"!\"))\n",
    "print (greet(\"Dave\", message=\"Welcome\", end=\" in Prague.\") )"
   ]
  },
  {
   "cell_type": "markdown",
   "id": "a3812703",
   "metadata": {},
   "source": [
    "## Argumenty proměnné délky - umožňují funkci přijmout libovolný počet argumentů.\n",
    "* \t`*args` umožňuje předat funkci proměnný počet pozičních argumentů jako tuple.\n",
    "* \t`**kwargs` umožňuje předat funkci proměnný počet argumentů klíčových slov ve formě slovníku.\n"
   ]
  },
  {
   "cell_type": "code",
   "execution_count": 20,
   "id": "010e2fe6",
   "metadata": {},
   "outputs": [
    {
     "name": "stdout",
     "output_type": "stream",
     "text": [
      "The sum is: 15\n",
      "name: Alice\n",
      "age: 25\n",
      "city: New York\n"
     ]
    }
   ],
   "source": [
    "# Function with multiple arguments\n",
    "def calculate_sum (*args):\n",
    "    \"\"\"Calculate the sum of all arguments.\"\"\"\n",
    "    return sum(args)\n",
    "\n",
    "print (\"The sum is:\", calculate_sum(1, 2, 3, 4, 5))\n",
    "\n",
    "# Function with keyword arguments\n",
    "def print_details(**kwargs):\n",
    "    for key, value in kwargs.items():\n",
    "        print(key + \": \" + value)\n",
    "\n",
    "print_details(name=\"Alice\", age=\"25\", city=\"New York\")\n"
   ]
  },
  {
   "cell_type": "markdown",
   "id": "3721038e",
   "metadata": {},
   "source": [
    "## Rámec funkce a lokální proměnné (Function scope and local variables) \n",
    "* Proměnné definované v rámci funkce mají lokální rozsah a jsou přístupné pouze v rámci funkce, ve které jsou definovány. \n",
    "* Lokální proměnné jsou vytvořeny při volání funkce a zničeny po ukončení jejího provádění. \n",
    "* Ostatní funkce nebo hlavní program nemohou přímo přistupovat k lokálním proměnným definovaným v rámci funkce. \n",
    "* Pokud je proměnná odkazována v rámci funkce, ale není definována lokálně, Python ji bude hledat v nadřazeném (volajícím) rámci (rekurentně)."
   ]
  },
  {
   "cell_type": "code",
   "execution_count": 26,
   "id": "69477512",
   "metadata": {},
   "outputs": [],
   "source": [
    "c = 123\n",
    "def foo_a(a):\n",
    "    return c + a\n",
    "\n",
    "def foo_b(a):\n",
    "    c = 14 # This will be a new, local, variable (different from c above)\n",
    "    return c + a\n",
    "\n",
    "def foo_c(a):\n",
    "    c = c + 17 # This won't work, you must make your own local variable (functions are not allowed to modify )\n",
    "    return c + a"
   ]
  },
  {
   "cell_type": "code",
   "execution_count": 27,
   "id": "f46451ca",
   "metadata": {},
   "outputs": [
    {
     "name": "stdout",
     "output_type": "stream",
     "text": [
      "140\n",
      "31\n",
      "123\n"
     ]
    }
   ],
   "source": [
    "print(foo_a(17))\n",
    "print(foo_b(17))\n",
    "print(c) # The variable c outside the function is unchanged"
   ]
  },
  {
   "cell_type": "code",
   "execution_count": 28,
   "id": "0b75614d",
   "metadata": {},
   "outputs": [
    {
     "ename": "UnboundLocalError",
     "evalue": "local variable 'c' referenced before assignment",
     "output_type": "error",
     "traceback": [
      "\u001b[0;31m---------------------------------------------------------------------------\u001b[0m",
      "\u001b[0;31mUnboundLocalError\u001b[0m                         Traceback (most recent call last)",
      "Cell \u001b[0;32mIn[28], line 1\u001b[0m\n\u001b[0;32m----> 1\u001b[0m \u001b[38;5;28mprint\u001b[39m(\u001b[43mfoo_c\u001b[49m\u001b[43m(\u001b[49m\u001b[38;5;241;43m17\u001b[39;49m\u001b[43m)\u001b[49m)\n",
      "Cell \u001b[0;32mIn[26], line 10\u001b[0m, in \u001b[0;36mfoo_c\u001b[0;34m(a)\u001b[0m\n\u001b[1;32m      9\u001b[0m \u001b[38;5;28;01mdef\u001b[39;00m \u001b[38;5;21mfoo_c\u001b[39m(a):\n\u001b[0;32m---> 10\u001b[0m     c \u001b[38;5;241m=\u001b[39m \u001b[43mc\u001b[49m \u001b[38;5;241m+\u001b[39m \u001b[38;5;241m17\u001b[39m \u001b[38;5;66;03m# This won't work, you must make your own local variable (functions are not allowed to modify )\u001b[39;00m\n\u001b[1;32m     11\u001b[0m     \u001b[38;5;28;01mreturn\u001b[39;00m c \u001b[38;5;241m+\u001b[39m a\n",
      "\u001b[0;31mUnboundLocalError\u001b[0m: local variable 'c' referenced before assignment"
     ]
    }
   ],
   "source": [
    "print(foo_c(17))"
   ]
  },
  {
   "cell_type": "markdown",
   "id": "8b06149a",
   "metadata": {},
   "source": [
    "## Funkce a reference\n",
    "* argumenty jsou referencí na předávané hodnoty "
   ]
  },
  {
   "cell_type": "code",
   "execution_count": 1,
   "id": "b9c76049",
   "metadata": {},
   "outputs": [
    {
     "name": "stdout",
     "output_type": "stream",
     "text": [
      "[42, 2, 3]\n"
     ]
    }
   ],
   "source": [
    "def foo(x):\n",
    "    x[0]= 42\n",
    "\n",
    "y = [1,2,3]\n",
    "foo(y)      # This means foo(x = y), and x = y behaves as described earlier\n",
    "print(y)"
   ]
  },
  {
   "cell_type": "code",
   "execution_count": 2,
   "id": "08d85792",
   "metadata": {},
   "outputs": [
    {
     "name": "stdout",
     "output_type": "stream",
     "text": [
      "[1, 2, 3]\n"
     ]
    }
   ],
   "source": [
    "def foo(x):\n",
    "    x = [4,5,6] # asignment creates a new reference; does not change referencing object (y)\n",
    "\n",
    "y = [1,2,3]\n",
    "foo(y)\n",
    "print(y)"
   ]
  },
  {
   "cell_type": "markdown",
   "id": "88d11c60",
   "metadata": {},
   "source": [
    "## Anonymní funkce (Anonnymous, Lambda functions)\n"
   ]
  },
  {
   "cell_type": "code",
   "execution_count": 15,
   "id": "89b24fc6",
   "metadata": {},
   "outputs": [],
   "source": [
    "def axpy(a, x, y):  # axpy is a standard name for a*x + y (common in lin.alg. packages)\n",
    "    return a*x + y"
   ]
  },
  {
   "cell_type": "code",
   "execution_count": 16,
   "id": "17cb59a7",
   "metadata": {},
   "outputs": [],
   "source": [
    "f = lambda a, x, y : a*x + y"
   ]
  },
  {
   "cell_type": "code",
   "execution_count": 17,
   "id": "0c01c04e",
   "metadata": {},
   "outputs": [
    {
     "name": "stdout",
     "output_type": "stream",
     "text": [
      "10\n",
      "10\n"
     ]
    }
   ],
   "source": [
    "print( axpy(2, 3, 4) )\n",
    "print( f(2, 3, 4) )\n"
   ]
  },
  {
   "cell_type": "markdown",
   "id": "aa0d05a8",
   "metadata": {},
   "source": [
    "Obě funkce jsou identické, liší se jen způsobem definice\n",
    "\n",
    "Použití anonymních funkcí\n",
    "* Krátké, jednoduché operace\n",
    "* Pro dočasné použití\n"
   ]
  },
  {
   "cell_type": "code",
   "execution_count": 18,
   "id": "86546df0",
   "metadata": {},
   "outputs": [
    {
     "name": "stdout",
     "output_type": "stream",
     "text": [
      "[2, 4]\n"
     ]
    }
   ],
   "source": [
    "numbers = [1, 2, 3, 4, 5]\n",
    "even_numbers = list(filter(lambda x: x % 2 == 0, numbers))\n",
    "print(even_numbers)  # Output: [2, 4]"
   ]
  },
  {
   "cell_type": "markdown",
   "id": "932fd25e",
   "metadata": {},
   "source": [
    "\n",
    "Omezení\n",
    "* Omezené na jednoduchý výraz (jedem řádek)\n",
    "* Často méně čitelná logika\n"
   ]
  },
  {
   "cell_type": "markdown",
   "id": "ef9eea71",
   "metadata": {},
   "source": [
    "## Funkce `main`\n",
    "\n",
    "\n",
    "V Pythonu je `main` funkce konvencí, která se spouští, pokud je modul nebo skript přímo spuštěn. Jak to funguje?\n",
    "\n",
    "* Proměnná `__name__`:\n",
    "\n",
    "  * Každý Python modul má speciální zabudovanou proměnou `__name__`.\n",
    "  * Pokud je script spuštěn přímo, bude `__name__` mt hodnotu \"__main__\".\n",
    "  * Pokud je script importován jako modul, `__name__` bude nastaveno na jm0no modulu.\n",
    "\n",
    "* Podmínka `if __name__ == \"__main__\":`\n",
    "  * Zajistí, ze uvedené části kódu jsou provedeny pouze, když je kód scriptu spušten přímo. Nejsou provedeny, pokud je script importován jako modul.\n",
    "\n",
    "* Využití\n",
    "  * Testování scriptu\n",
    "  * Spuštění scriptu s parametry načtenými z příkazové řádky"
   ]
  },
  {
   "cell_type": "code",
   "execution_count": 23,
   "id": "a73f5cda",
   "metadata": {},
   "outputs": [],
   "source": [
    "def main():\n",
    "    # Main logic of the program\n",
    "    return\n",
    "\n",
    "# Execute the main function if the script is run directly\n",
    "if __name__ == \"__main__\":\n",
    "    main()\n"
   ]
  },
  {
   "cell_type": "code",
   "execution_count": 24,
   "id": "31a7a83a",
   "metadata": {},
   "outputs": [
    {
     "name": "stdout",
     "output_type": "stream",
     "text": [
      "Arguments passed: ['--f=/mnt/wslg/runtime-dir/jupyter/runtime/kernel-v3f6bec6b233f87396fc97d0ba568ded7afebf0534.json']\n"
     ]
    }
   ],
   "source": [
    "import sys\n",
    "\n",
    "if __name__ == \"__main__\":\n",
    "    if len(sys.argv) > 1:\n",
    "        print(f\"Arguments passed: {sys.argv[1:]}\")\n",
    "    else:\n",
    "        print(\"No arguments provided.\")"
   ]
  }
 ],
 "metadata": {
  "kernelspec": {
   "display_name": "Python 3",
   "language": "python",
   "name": "python3"
  },
  "language_info": {
   "codemirror_mode": {
    "name": "ipython",
    "version": 3
   },
   "file_extension": ".py",
   "mimetype": "text/x-python",
   "name": "python",
   "nbconvert_exporter": "python",
   "pygments_lexer": "ipython3",
   "version": "3.8.10"
  }
 },
 "nbformat": 4,
 "nbformat_minor": 5
}

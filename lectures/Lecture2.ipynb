{
 "cells": [
  {
   "cell_type": "markdown",
   "metadata": {},
   "source": [
    "# Lekce 02\n",
    "## Začínáme s Pythonem\n",
    "\n",
    "### Obsah\n",
    "* Python jako kalkulačka\n",
    "* Funkce `help`, doplňování \n",
    "* Základní datové typy\n",
    "* Konverze typů"
   ]
  },
  {
   "cell_type": "markdown",
   "metadata": {},
   "source": [
    "## Python jako kalkulačka\n",
    "V interaktivním režimu můžeme používat Python jako kalkulačku"
   ]
  },
  {
   "cell_type": "code",
   "execution_count": 71,
   "metadata": {},
   "outputs": [
    {
     "data": {
      "text/plain": [
       "16"
      ]
     },
     "execution_count": 71,
     "metadata": {},
     "output_type": "execute_result"
    }
   ],
   "source": [
    "2*8"
   ]
  },
  {
   "cell_type": "code",
   "execution_count": 72,
   "metadata": {},
   "outputs": [
    {
     "data": {
      "text/plain": [
       "12.56"
      ]
     },
     "execution_count": 72,
     "metadata": {},
     "output_type": "execute_result"
    }
   ],
   "source": [
    "2*3.14*2"
   ]
  },
  {
   "cell_type": "markdown",
   "metadata": {},
   "source": [
    "Hodnoty můžeme uložit do pojmenované proměnné (variable) a následně použít"
   ]
  },
  {
   "cell_type": "code",
   "execution_count": 73,
   "metadata": {},
   "outputs": [
    {
     "name": "stdout",
     "output_type": "stream",
     "text": [
      "6\n"
     ]
    }
   ],
   "source": [
    "a = 2\n",
    "b = 3\n",
    "plocha = a*b\n",
    "print(plocha)"
   ]
  },
  {
   "cell_type": "markdown",
   "metadata": {},
   "source": [
    "## Funkce `help`\n",
    "\n",
    "Funkci `help` múžete použít pro získání nápovědy ke keždé funci, knihovně, proměnné"
   ]
  },
  {
   "cell_type": "code",
   "execution_count": 74,
   "metadata": {
    "collapsed": false,
    "slideshow": {
     "slide_type": "slide"
    }
   },
   "outputs": [
    {
     "name": "stdout",
     "output_type": "stream",
     "text": [
      "Help on built-in function len in module builtins:\n",
      "\n",
      "len(obj, /)\n",
      "    Return the number of items in a container.\n",
      "\n"
     ]
    }
   ],
   "source": [
    "help(len)"
   ]
  },
  {
   "cell_type": "markdown",
   "metadata": {},
   "source": [
    "## Automatické doplňování pomocí Tab (Tab-completion)"
   ]
  },
  {
   "cell_type": "code",
   "execution_count": 75,
   "metadata": {
    "collapsed": true
   },
   "outputs": [],
   "source": [
    "message=\"Hello World!\""
   ]
  },
  {
   "cell_type": "markdown",
   "metadata": {
    "collapsed": true
   },
   "source": [
    "```python\n",
    "len(mes + `Tab`\n",
    "\n",
    "len(message\n",
    "```"
   ]
  },
  {
   "cell_type": "markdown",
   "metadata": {},
   "source": [
    "* Tab/doplňování není dobré jen pro dolnění, ale umí také zobrazit dostupné funkce\n",
    "```python\n",
    "x. + `Tab`                                                                               \n",
    "x.capitalize    x.format_map    x.isprintable   x.partition     x.splitlines             \n",
    "x.casefold      x.index         x.isspace       x.replace       x.startswith             \n",
    "x.center        x.isalnum       x.istitle       x.rfind         x.strip                  \n",
    "x.count         x.isalpha       x.isupper       x.rindex        x.swapcase               \n",
    "x.encode        x.isdecimal     x.join          x.rjust         x.title                  \n",
    "x.endswith      x.isdigit       x.ljust         x.rpartition    x.translate                   \n",
    "x.expandtabs    x.isidentifier  x.lower         x.rsplit        x.upper                       \n",
    "x.find          x.islower       x.lstrip        x.rstrip        x.zfill\n",
    "x.format        x.isnumeric     x.maketrans     x.split   \n",
    "```"
   ]
  },
  {
   "cell_type": "code",
   "execution_count": 76,
   "metadata": {
    "collapsed": true
   },
   "outputs": [],
   "source": [
    "x = 'hello world!'"
   ]
  },
  {
   "cell_type": "markdown",
   "metadata": {},
   "source": [
    "# Chyby"
   ]
  },
  {
   "cell_type": "markdown",
   "metadata": {},
   "source": [
    "* Syntaktické chyby jsou časté"
   ]
  },
  {
   "cell_type": "code",
   "execution_count": 77,
   "metadata": {
    "collapsed": false
   },
   "outputs": [
    {
     "ename": "SyntaxError",
     "evalue": "invalid syntax (1818009567.py, line 1)",
     "output_type": "error",
     "traceback": [
      "\u001b[0;36m  Cell \u001b[0;32mIn[77], line 1\u001b[0;36m\u001b[0m\n\u001b[0;31m    x = 123 + /34\u001b[0m\n\u001b[0m              ^\u001b[0m\n\u001b[0;31mSyntaxError\u001b[0m\u001b[0;31m:\u001b[0m invalid syntax\n"
     ]
    }
   ],
   "source": [
    "x = 123 + /34"
   ]
  },
  {
   "cell_type": "markdown",
   "metadata": {},
   "source": [
    "* Chybová hlášení jsou názorná"
   ]
  },
  {
   "cell_type": "code",
   "execution_count": null,
   "metadata": {
    "collapsed": false
   },
   "outputs": [
    {
     "ename": "ZeroDivisionError",
     "evalue": "division by zero",
     "output_type": "error",
     "traceback": [
      "\u001b[1;31m---------------------------------------------------------------------------\u001b[0m\n\u001b[1;31mZeroDivisionError\u001b[0m                         Traceback (most recent call last)",
      "\u001b[1;32m<ipython-input-83-a4428419d44f>\u001b[0m in \u001b[0;36m<module>\u001b[1;34m()\u001b[0m\n\u001b[1;32m----> 1\u001b[1;33m \u001b[1;36m132\u001b[0m\u001b[1;33m/\u001b[0m\u001b[1;36m0\u001b[0m\u001b[1;33m\u001b[0m\u001b[0m\n\u001b[0m",
      "\u001b[1;31mZeroDivisionError\u001b[0m: division by zero"
     ]
    }
   ],
   "source": [
    "132/0"
   ]
  },
  {
   "cell_type": "markdown",
   "metadata": {},
   "source": [
    "# Proměnné a datové typy (Variables and basic data types)"
   ]
  },
  {
   "cell_type": "markdown",
   "metadata": {},
   "source": [
    "* Zjistit datový typ libovolné hodnoty lze pomocí funkce `type`"
   ]
  },
  {
   "cell_type": "code",
   "execution_count": null,
   "metadata": {
    "collapsed": false
   },
   "outputs": [
    {
     "data": {
      "text/plain": [
       "float"
      ]
     },
     "execution_count": 12,
     "metadata": {},
     "output_type": "execute_result"
    }
   ],
   "source": [
    "type(3.14)"
   ]
  },
  {
   "cell_type": "code",
   "execution_count": null,
   "metadata": {
    "collapsed": false
   },
   "outputs": [
    {
     "data": {
      "text/plain": [
       "str"
      ]
     },
     "execution_count": 13,
     "metadata": {},
     "output_type": "execute_result"
    }
   ],
   "source": [
    "type('Hello World')"
   ]
  },
  {
   "cell_type": "code",
   "execution_count": null,
   "metadata": {
    "collapsed": false
   },
   "outputs": [
    {
     "data": {
      "text/plain": [
       "int"
      ]
     },
     "execution_count": 11,
     "metadata": {},
     "output_type": "execute_result"
    }
   ],
   "source": [
    "type(100)"
   ]
  },
  {
   "cell_type": "code",
   "execution_count": null,
   "metadata": {
    "collapsed": false
   },
   "outputs": [
    {
     "data": {
      "text/plain": [
       "builtin_function_or_method"
      ]
     },
     "execution_count": 57,
     "metadata": {},
     "output_type": "execute_result"
    }
   ],
   "source": [
    "type(len)"
   ]
  },
  {
   "cell_type": "markdown",
   "metadata": {},
   "source": [
    "* Typ je sám o sobě hodnota typu 'type'"
   ]
  },
  {
   "cell_type": "code",
   "execution_count": null,
   "metadata": {
    "collapsed": false
   },
   "outputs": [
    {
     "data": {
      "text/plain": [
       "type"
      ]
     },
     "execution_count": 58,
     "metadata": {},
     "output_type": "execute_result"
    }
   ],
   "source": [
    "type(int)"
   ]
  },
  {
   "cell_type": "markdown",
   "metadata": {},
   "source": [
    "## Typové konverze"
   ]
  },
  {
   "cell_type": "markdown",
   "metadata": {},
   "source": [
    "* Přetypování (typovou konverzi) lze provést pomocí zabudovaných funkcí"
   ]
  },
  {
   "cell_type": "code",
   "execution_count": null,
   "metadata": {
    "collapsed": false
   },
   "outputs": [
    {
     "data": {
      "text/plain": [
       "int"
      ]
     },
     "execution_count": 82,
     "metadata": {},
     "output_type": "execute_result"
    }
   ],
   "source": [
    "x = int('123')\n",
    "type(x)"
   ]
  },
  {
   "cell_type": "code",
   "execution_count": null,
   "metadata": {
    "collapsed": false
   },
   "outputs": [
    {
     "data": {
      "text/plain": [
       "str"
      ]
     },
     "execution_count": 88,
     "metadata": {},
     "output_type": "execute_result"
    }
   ],
   "source": [
    "x = str(45.3)\n",
    "type(x)"
   ]
  },
  {
   "cell_type": "markdown",
   "metadata": {},
   "source": [
    "Ale konverze musí dávat smysl"
   ]
  },
  {
   "cell_type": "code",
   "execution_count": null,
   "metadata": {
    "collapsed": false
   },
   "outputs": [
    {
     "ename": "ValueError",
     "evalue": "invalid literal for int() with base 10: 'Carl'",
     "output_type": "error",
     "traceback": [
      "\u001b[1;31m---------------------------------------------------------------------------\u001b[0m\n\u001b[1;31mValueError\u001b[0m                                Traceback (most recent call last)",
      "\u001b[1;32m<ipython-input-90-0cc1cda27bff>\u001b[0m in \u001b[0;36m<module>\u001b[1;34m()\u001b[0m\n\u001b[1;32m----> 1\u001b[1;33m \u001b[0mx\u001b[0m \u001b[1;33m=\u001b[0m \u001b[0mint\u001b[0m\u001b[1;33m(\u001b[0m\u001b[1;34m'Carl'\u001b[0m\u001b[1;33m)\u001b[0m\u001b[1;33m\u001b[0m\u001b[0m\n\u001b[0m",
      "\u001b[1;31mValueError\u001b[0m: invalid literal for int() with base 10: 'Carl'"
     ]
    }
   ],
   "source": [
    "x = int('Carl')"
   ]
  },
  {
   "cell_type": "markdown",
   "metadata": {},
   "source": [
    "# Moduly"
   ]
  },
  {
   "cell_type": "markdown",
   "metadata": {},
   "source": [
    "* Moduly představují knihovny, které můžeme importovat a získat tak přístup k jejich funkcím.\n",
    "* Importování modulu zpřístupní jeho funkce v tzv. pojmenovaném prostoru (namespace), uvnitř kterého se funkce modulu nacházejí. \n",
    "* Defaultně je modul importován do namespace se stejným jménem. \n",
    "* Namespaces jsou užitečné pro zabránění kolizí ve jménech."
   ]
  },
  {
   "cell_type": "markdown",
   "metadata": {},
   "source": [
    "## Importing modules"
   ]
  },
  {
   "cell_type": "code",
   "execution_count": null,
   "metadata": {
    "collapsed": true
   },
   "outputs": [
    {
     "data": {
      "text/plain": [
       "2.23606797749979"
      ]
     },
     "execution_count": 41,
     "metadata": {},
     "output_type": "execute_result"
    }
   ],
   "source": [
    "import math\n",
    "math.sqrt(5)"
   ]
  },
  {
   "cell_type": "markdown",
   "metadata": {},
   "source": [
    "##  Import modulu do pojmenovaného namespace"
   ]
  },
  {
   "cell_type": "code",
   "execution_count": null,
   "metadata": {
    "collapsed": false
   },
   "outputs": [
    {
     "data": {
      "text/plain": [
       "2.23606797749979"
      ]
     },
     "execution_count": 77,
     "metadata": {},
     "output_type": "execute_result"
    }
   ],
   "source": [
    "import math as m\n",
    "m.sqrt(5)"
   ]
  },
  {
   "cell_type": "markdown",
   "metadata": {},
   "source": [
    "## Selectivní import"
   ]
  },
  {
   "cell_type": "code",
   "execution_count": null,
   "metadata": {
    "collapsed": true
   },
   "outputs": [
    {
     "data": {
      "text/plain": [
       "-1.8369701987210297e-16"
      ]
     },
     "execution_count": 103,
     "metadata": {},
     "output_type": "execute_result"
    }
   ],
   "source": [
    "from math import cos, pi\n",
    "cos(1.5*pi)"
   ]
  },
  {
   "cell_type": "code",
   "execution_count": null,
   "metadata": {
    "collapsed": false
   },
   "outputs": [
    {
     "name": "stdout",
     "output_type": "stream",
     "text": [
      "3.141592653589793\n"
     ]
    }
   ],
   "source": [
    "from math import pi as paj\n",
    "print(paj)"
   ]
  },
  {
   "cell_type": "code",
   "execution_count": null,
   "metadata": {
    "collapsed": true
   },
   "outputs": [
    {
     "ename": "NameError",
     "evalue": "name 'sin' is not defined",
     "output_type": "error",
     "traceback": [
      "\u001b[1;31m---------------------------------------------------------------------------\u001b[0m\n\u001b[1;31mNameError\u001b[0m                                 Traceback (most recent call last)",
      "\u001b[1;32m<ipython-input-105-6afa25a275e4>\u001b[0m in \u001b[0;36m<module>\u001b[1;34m()\u001b[0m\n\u001b[1;32m----> 1\u001b[1;33m \u001b[0msin\u001b[0m\u001b[1;33m(\u001b[0m\u001b[1;36m5\u001b[0m\u001b[1;33m)\u001b[0m \u001b[1;31m# Only cos and pi was imported, this will fail.\u001b[0m\u001b[1;33m\u001b[0m\u001b[0m\n\u001b[0m",
      "\u001b[1;31mNameError\u001b[0m: name 'sin' is not defined"
     ]
    }
   ],
   "source": [
    "sin(5) # Only cos and pi was imported, this will fail."
   ]
  },
  {
   "cell_type": "markdown",
   "metadata": {},
   "source": [
    "# Základní datové typy Pythonu"
   ]
  },
  {
   "cell_type": "markdown",
   "metadata": {},
   "source": [
    "# Čísla (Numbers)\n",
    "\n",
    "Python podporuje různé typy čísel, včetně \n",
    "* celých čísel (int), \n",
    "* čísel s pohyblivou řádovou čárkou (float) a \n",
    "* komplexních čísel (complex).\n"
   ]
  },
  {
   "cell_type": "code",
   "execution_count": null,
   "metadata": {},
   "outputs": [
    {
     "data": {
      "text/plain": [
       "complex"
      ]
     },
     "execution_count": 14,
     "metadata": {},
     "output_type": "execute_result"
    }
   ],
   "source": [
    "type(10)\n",
    "type(3.14159265)\n",
    "type(1+2j)\n"
   ]
  },
  {
   "cell_type": "markdown",
   "metadata": {},
   "source": [
    "Základní operace s číselnými hodnotami"
   ]
  },
  {
   "cell_type": "code",
   "execution_count": null,
   "metadata": {},
   "outputs": [
    {
     "name": "stdout",
     "output_type": "stream",
     "text": [
      "a = 7.5\n",
      "b = 2.5\n",
      "c = 12.5\n",
      "d = 2.0\n",
      "e = 55.90169943749474\n",
      "f = 0.0\n"
     ]
    }
   ],
   "source": [
    "x = 5\n",
    "y = 2.5\n",
    "# Basic arithmetic operations\n",
    "a = x + y  # Addition\n",
    "b = x- y # Subtraction\n",
    "c = x * y # Multiplication\n",
    "d = x / y  # Division\n",
    "e = x ** y # Exponentiation\n",
    "f = x % y  # Modulo\n",
    "# Displaying the results\n",
    "print(\"a =\", a)\n",
    "print(\"b =\", b)\n",
    "print(\"c =\", c)\n",
    "print(\"d =\", d)\n",
    "print(\"e =\", e)\n",
    "print(\"f =\", f)"
   ]
  },
  {
   "cell_type": "markdown",
   "metadata": {},
   "source": [
    "# Řetezce (Strings)\n",
    "\n",
    "Řetězec je posloupnost znaků uzavřená v uvozovkách (jednoduchých nebo dvojitých). \n",
    "\n",
    "Základní operace na řetezcích znaků jsou\n",
    "* Indexování (operátor [])\n",
    "* Spojování (Contactenation)\n",
    "* Formátování (Formatting)\n"
   ]
  },
  {
   "cell_type": "code",
   "execution_count": null,
   "metadata": {},
   "outputs": [
    {
     "name": "stdout",
     "output_type": "stream",
     "text": [
      "H\n",
      "d\n",
      "lo w\n",
      "Hello\n",
      "world\n",
      "Hello Jan!\n",
      "JanJanJan\n",
      "11\n",
      "The value of x is 5 and the value of y is 10\n"
     ]
    }
   ],
   "source": [
    "\n",
    "# Indexing and slicing\n",
    "my_string = \"Hello world\"\n",
    "print(my_string[0]) # Output: 'H'\n",
    "print(my_string[-1]) # Output: 'd'\n",
    "print(my_string[3:7]) # Output: 'lo w'\n",
    "print(my_string[:5]) # Output: 'Hello'\n",
    "print(my_string[6:]) # Output: 'world'\n",
    "\n",
    "# Concatenation and repetition\n",
    "greeting = \"Hello\"\n",
    "name = \"Jan\"\n",
    "message = greeting + \" \" + name + \"!\"\n",
    "print(message) # Output: 'Hello Jan!'\n",
    "print(name * 3) # Output: 'JanJanJan'\n",
    "\n",
    "\n",
    "# Length\n",
    "print(len(my_string))  # Output: 11\n",
    "\n",
    "# Formatting\n",
    "x = 5\n",
    "y = 10\n",
    "formatted_string = \"The value of x is {} and the value of y is {}\".format(x, y)\n",
    "print(formatted_string)  # Output: 'The value of x is 5 and the value of y is 10'"
   ]
  },
  {
   "cell_type": "markdown",
   "metadata": {},
   "source": [
    "* Řetezce v Pythonu jsou tzv. neměnné (immutable)"
   ]
  },
  {
   "cell_type": "code",
   "execution_count": null,
   "metadata": {
    "collapsed": true
   },
   "outputs": [
    {
     "ename": "TypeError",
     "evalue": "'str' object does not support item assignment",
     "output_type": "error",
     "traceback": [
      "\u001b[0;31m---------------------------------------------------------------------------\u001b[0m",
      "\u001b[0;31mTypeError\u001b[0m                                 Traceback (most recent call last)",
      "Cell \u001b[0;32mIn[24], line 2\u001b[0m\n\u001b[1;32m      1\u001b[0m x \u001b[38;5;241m=\u001b[39m \u001b[38;5;124m'\u001b[39m\u001b[38;5;124mHello World\u001b[39m\u001b[38;5;124m'\u001b[39m \u001b[38;5;66;03m# or \"Hello World\", \"\"\"Hello World\"\"\", '''Hello World'''\u001b[39;00m\n\u001b[0;32m----> 2\u001b[0m \u001b[43mx\u001b[49m\u001b[43m[\u001b[49m\u001b[38;5;241;43m0\u001b[39;49m\u001b[43m]\u001b[49m \u001b[38;5;241m=\u001b[39m \u001b[38;5;124m'\u001b[39m\u001b[38;5;124mY\u001b[39m\u001b[38;5;124m'\u001b[39m\n",
      "\u001b[0;31mTypeError\u001b[0m: 'str' object does not support item assignment"
     ]
    }
   ],
   "source": [
    "x = 'Hello World' # or \"Hello World\", \"\"\"Hello World\"\"\", '''Hello World'''\n",
    "x[0] = 'Y'"
   ]
  },
  {
   "cell_type": "markdown",
   "metadata": {},
   "source": [
    "* Místo toho je nutné vytvořit novou hodnotu typu řetězec"
   ]
  },
  {
   "cell_type": "code",
   "execution_count": null,
   "metadata": {
    "collapsed": false
   },
   "outputs": [
    {
     "name": "stdout",
     "output_type": "stream",
     "text": [
      "Yello World\n"
     ]
    }
   ],
   "source": [
    "y = 'Y' + x[1:]\n",
    "print(y)"
   ]
  },
  {
   "cell_type": "markdown",
   "metadata": {},
   "source": [
    "* Speciální znaky je nutné zapsat pomocí speciální syntaxe"
   ]
  },
  {
   "cell_type": "code",
   "execution_count": null,
   "metadata": {
    "collapsed": true
   },
   "outputs": [
    {
     "name": "stdout",
     "output_type": "stream",
     "text": [
      "Hello\n",
      "World\n"
     ]
    }
   ],
   "source": [
    "x = 'Hello\\nWorld'\n",
    "print(x)"
   ]
  },
  {
   "cell_type": "markdown",
   "metadata": {},
   "source": [
    "# Seznamy (Lists)"
   ]
  },
  {
   "cell_type": "markdown",
   "metadata": {},
   "source": [
    "* Seznamy jsou kolekce polozek přístupné pomocí celočíselného indexu. Seznam se definuje seznamem hodnot  \n",
    "uzavřených v hranatých závorkách [] a oddělených čárkami"
   ]
  },
  {
   "cell_type": "code",
   "execution_count": null,
   "metadata": {
    "collapsed": false
   },
   "outputs": [
    {
     "data": {
      "text/plain": [
       "3"
      ]
     },
     "execution_count": 84,
     "metadata": {},
     "output_type": "execute_result"
    }
   ],
   "source": [
    "x = [43, 10, 15]\n",
    "len(x)"
   ]
  },
  {
   "cell_type": "markdown",
   "metadata": {},
   "source": [
    "* Seznamy mohou obsahovat položky různých typů (včetně dalších seznamů)"
   ]
  },
  {
   "cell_type": "code",
   "execution_count": null,
   "metadata": {
    "collapsed": false
   },
   "outputs": [],
   "source": [
    "x = [[1, 2, 3], [4, 2], [9, 4, 2]]\n",
    "y = ['Hello', 'World']\n",
    "z = [123, 2.43, 'Hello']"
   ]
  },
  {
   "cell_type": "markdown",
   "metadata": {},
   "source": [
    " * Základní operace na seznamech\n",
    " \n"
   ]
  },
  {
   "cell_type": "code",
   "execution_count": null,
   "metadata": {},
   "outputs": [
    {
     "name": "stdout",
     "output_type": "stream",
     "text": [
      "1\n",
      "5\n",
      "[3, 4]\n",
      "[1, 2, 3]\n",
      "[4, 5]\n",
      "[1, 2, 3, 4, 5, 6]\n",
      "[1, 2, 3, 4, 5, 6, 7, 8]\n",
      "[1, 2, 3, 4, 5, 6, 7]\n",
      "[1, 2, 'Hello', 3, 4, 5, 6, 7]\n",
      "[1, 2, 'Hello', 4, 5, 6, 7]\n"
     ]
    }
   ],
   "source": [
    "# Indexing and slicing\n",
    "my_list = [1, 2, 3, 4, 5]\n",
    "print(my_list[0]) # Output: 1\n",
    "print(my_list[-1]) # Output: 5\n",
    "print(my_list[2:4]) # Output: [3, 4]\n",
    "print(my_list[:3]) # Output: [1, 2, 3]\n",
    "print(my_list[3:]) # Output: [4, 5]\n",
    "\n",
    "# Modifying\n",
    "my_list.append(6)\n",
    "print(my_list) # Output: [1, 2, 3, 4, 5, 6]\n",
    "my_list.extend([7, 8]) \n",
    "print(my_list) # Output: [1, 2, 3, 4, 5, 6, 7, 8]\n",
    "my_list.pop() # Removes the last\n",
    "print(my_list) # Output: [1, 2, 3, 4, 5, 6, 7]\n",
    "my_list.insert(2, \"Hello\")\n",
    "print(my_list) # Output: [1, 2, 'Hello', 3, 4, 5, 6, 7]\n",
    "my_list.remove(3)\n",
    "print(my_list) # Output: [1, 2, 'Hello', 4, 5, 6, 7]"
   ]
  },
  {
   "cell_type": "markdown",
   "metadata": {},
   "source": [
    "* Tuples are like immutable lists, and many usecases have different object types"
   ]
  },
  {
   "cell_type": "markdown",
   "metadata": {},
   "source": [
    "# Tuples\n",
    "\n",
    "* Tuples jsou optimalizované neměnné seznamy\n",
    "* Vhodné pro perezentaci seznamu hodnot s různými typy"
   ]
  },
  {
   "cell_type": "code",
   "execution_count": null,
   "metadata": {
    "collapsed": false
   },
   "outputs": [
    {
     "name": "stdout",
     "output_type": "stream",
     "text": [
      "(3.14, <built-in function sqrt>, 'John')\n"
     ]
    }
   ],
   "source": [
    "x = (3.14, math.sqrt, 'John')\n",
    "x = 3.14, math.sqrt, 'John'   # You may skip the paranthesis\n",
    "print(x)"
   ]
  },
  {
   "cell_type": "markdown",
   "metadata": {},
   "source": [
    "* Tuple-functions\n",
    "\n",
    "```python\n",
    "x.count    x.index\n",
    "```"
   ]
  },
  {
   "cell_type": "markdown",
   "metadata": {},
   "source": [
    "# Množiny (Sets)"
   ]
  },
  {
   "cell_type": "markdown",
   "metadata": {},
   "source": [
    "* Sety jsou kontejnery jedinečných hodnot"
   ]
  },
  {
   "cell_type": "code",
   "execution_count": null,
   "metadata": {
    "collapsed": false
   },
   "outputs": [
    {
     "name": "stdout",
     "output_type": "stream",
     "text": [
      "{1, 2, 3, 6, 7}\n",
      "{1, 2, 3, 6, 7, 8}\n",
      "{1, 6}\n"
     ]
    }
   ],
   "source": [
    "x = {1, 2, 3, 2, 7, 2, 3, 2, 6}\n",
    "print(x)\n",
    "x.add(8)\n",
    "print(x)\n",
    "y = x.intersection({1, 4, 5, 6, 10})\n",
    "print(y)"
   ]
  },
  {
   "cell_type": "markdown",
   "metadata": {},
   "source": [
    "# Slovníky (Dictionaries, Maps)"
   ]
  },
  {
   "cell_type": "markdown",
   "metadata": {},
   "source": [
    "* Dictionaries jsou důležitým, velmi častým a flexibilním typem.\n",
    "\n",
    "* Slovník je vlastně  kolekce dvojic klíč-\n",
    "hodnota, klíč musí být unikátní."
   ]
  },
  {
   "cell_type": "code",
   "execution_count": null,
   "metadata": {
    "collapsed": false
   },
   "outputs": [
    {
     "name": "stdout",
     "output_type": "stream",
     "text": [
      "{'John': 37, 'Sara': 25, 'Lisa': 45}\n"
     ]
    }
   ],
   "source": [
    "x = {'John': 37, 'Sara': 25, 'Lisa': 45}\n",
    "print(x)"
   ]
  },
  {
   "cell_type": "markdown",
   "metadata": {},
   "source": [
    "* Typický scénář je vytvoření prázdného slovníku a postupné přidávání nových záznamů do něj"
   ]
  },
  {
   "cell_type": "code",
   "execution_count": null,
   "metadata": {
    "collapsed": false
   },
   "outputs": [],
   "source": [
    "x = dict() # {} would also work  (similar functions as one would expect for list() set())\n",
    "x['John'] = 37\n",
    "x['Sara'] = 25\n",
    "x['Lisa'] = 45"
   ]
  },
  {
   "cell_type": "code",
   "execution_count": null,
   "metadata": {
    "collapsed": false
   },
   "outputs": [
    {
     "name": "stdout",
     "output_type": "stream",
     "text": [
      "37\n"
     ]
    }
   ],
   "source": [
    "print(x['John'])"
   ]
  },
  {
   "cell_type": "markdown",
   "metadata": {},
   "source": [
    "* Testování, zda daný klíč existuje: `in` and `not in`"
   ]
  },
  {
   "cell_type": "markdown",
   "metadata": {},
   "source": [
    "print( 'Lisa' in x )\n",
    "print( 'Jeff' not in x )"
   ]
  },
  {
   "cell_type": "markdown",
   "metadata": {},
   "source": [
    "* Získání seznamu klíčů a odpovídajících hodnot:"
   ]
  },
  {
   "cell_type": "code",
   "execution_count": null,
   "metadata": {
    "collapsed": false
   },
   "outputs": [
    {
     "name": "stdout",
     "output_type": "stream",
     "text": [
      "dict_keys(['John', 'Sara', 'Lisa'])\n",
      "dict_values([37, 25, 45])\n",
      "dict_items([('John', 37), ('Sara', 25), ('Lisa', 45)])\n"
     ]
    }
   ],
   "source": [
    "print( x.keys() )\n",
    "print( x.values() )\n",
    "print( x.items() )"
   ]
  },
  {
   "cell_type": "markdown",
   "metadata": {},
   "source": [
    "* Odebírání položek \n"
   ]
  },
  {
   "cell_type": "code",
   "execution_count": null,
   "metadata": {},
   "outputs": [
    {
     "name": "stdout",
     "output_type": "stream",
     "text": [
      "{'Sara': 25, 'Lisa': 45}\n"
     ]
    }
   ],
   "source": [
    "del (x['John'])\n",
    "print(x)\n"
   ]
  },
  {
   "cell_type": "markdown",
   "metadata": {},
   "source": [
    "# Tuple, List and Dict unpacking"
   ]
  },
  {
   "cell_type": "markdown",
   "metadata": {},
   "source": [
    "* šikovný způsob jak extrahovat jednotlivé položky "
   ]
  },
  {
   "cell_type": "code",
   "execution_count": 1,
   "metadata": {
    "collapsed": false
   },
   "outputs": [
    {
     "ename": "NameError",
     "evalue": "name 'math' is not defined",
     "output_type": "error",
     "traceback": [
      "\u001b[0;31m---------------------------------------------------------------------------\u001b[0m",
      "\u001b[0;31mNameError\u001b[0m                                 Traceback (most recent call last)",
      "Cell \u001b[0;32mIn[1], line 1\u001b[0m\n\u001b[0;32m----> 1\u001b[0m x \u001b[38;5;241m=\u001b[39m (\u001b[38;5;241m3.14\u001b[39m, \u001b[43mmath\u001b[49m\u001b[38;5;241m.\u001b[39msqrt, \u001b[38;5;124m'\u001b[39m\u001b[38;5;124mJohn\u001b[39m\u001b[38;5;124m'\u001b[39m)\n\u001b[1;32m      2\u001b[0m a, b, c \u001b[38;5;241m=\u001b[39m x\n\u001b[1;32m      3\u001b[0m a, b, c \u001b[38;5;241m=\u001b[39m (\u001b[38;5;241m3.14\u001b[39m, math\u001b[38;5;241m.\u001b[39msqrt, \u001b[38;5;124m'\u001b[39m\u001b[38;5;124mJohn\u001b[39m\u001b[38;5;124m'\u001b[39m)\n",
      "\u001b[0;31mNameError\u001b[0m: name 'math' is not defined"
     ]
    }
   ],
   "source": [
    "x = (3.14, math.sqrt, 'John')\n",
    "a, b, c = x\n",
    "a, b, c = (3.14, math.sqrt, 'John')\n",
    "a, b, c = 3.14, math.sqrt, 'John'"
   ]
  },
  {
   "cell_type": "code",
   "execution_count": null,
   "metadata": {
    "collapsed": false
   },
   "outputs": [
    {
     "name": "stdout",
     "output_type": "stream",
     "text": [
      "Hello World\n",
      "1 2\n",
      "('John', 37) ('Lisa', 45)\n"
     ]
    }
   ],
   "source": [
    "x = ['Hello', 'Foo', 'World']\n",
    "a, b, c = x\n",
    "print(a, c)\n",
    "\n",
    "x = {1, 2, 2}\n",
    "a, b = x\n",
    "print(a, b)\n",
    "\n",
    "x = {'John': 37, 'Sara': 25, 'Lisa': 45}\n",
    "a, b, c = x.items()\n",
    "print(a, c)"
   ]
  },
  {
   "cell_type": "markdown",
   "metadata": {},
   "source": [
    "## Reference a kopie\n",
    "* Přiřazení (Assignments) pouze přiřadí referenci na daný objekt! (vyjímkou jsou imutable typy jako tuple ci string)"
   ]
  },
  {
   "cell_type": "code",
   "execution_count": 2,
   "metadata": {},
   "outputs": [
    {
     "name": "stdout",
     "output_type": "stream",
     "text": [
      "[1, 2, 3, 4, 5]\n"
     ]
    }
   ],
   "source": [
    "x = [1,2,3]    # Create a list object and binds x to that object.\n",
    "y = x          # Binds y to that same object x\n",
    "y += [4,5]     # +=  for lists means \"append to list\"\n",
    "print(x)"
   ]
  },
  {
   "cell_type": "code",
   "execution_count": 3,
   "metadata": {},
   "outputs": [
    {
     "name": "stdout",
     "output_type": "stream",
     "text": [
      "[1, 2, 3]\n"
     ]
    }
   ],
   "source": [
    "x = [1,2,3]    # Create a list object and bind x to that object.\n",
    "y = x          # Bind y to that same object\n",
    "y = y + [4,5]  # Create a new object from the list+list operation and re-bind y to that new object\n",
    "print(x)"
   ]
  },
  {
   "cell_type": "code",
   "execution_count": 13,
   "metadata": {},
   "outputs": [
    {
     "name": "stdout",
     "output_type": "stream",
     "text": [
      "1: ([1, 2, 3], [1, 2, 3])\n",
      "2: ([1, 2, 3, 4, 5], [1, 2, 3, 4, 5])\n",
      "3: ([1, 2, 3, 4, 5], [1, 2, 3, 4, 5])\n"
     ]
    }
   ],
   "source": [
    "x = [1,2,3]    # Create a list object and bind x to that object\n",
    "z = (x, x)     # Create a tuple object which contains references which are bound to the same object\n",
    "print('1:', z)\n",
    "x += [4,5]     # Append to list\n",
    "print('2:', z)\n",
    "x = [7,8]      # Rebind name x to a new list\n",
    "print('3:', z)"
   ]
  },
  {
   "cell_type": "markdown",
   "metadata": {},
   "source": [
    "Proměnná `z` se nezměnila (tuples jsou neměnné, imutable), `z` stále ukazuje na stejný tuple obsahující (x,x)."
   ]
  },
  {
   "cell_type": "code",
   "execution_count": 14,
   "metadata": {},
   "outputs": [
    {
     "name": "stdout",
     "output_type": "stream",
     "text": [
      "4: ([1, 2, 3, 4, 5, 9], [1, 2, 3, 4, 5, 9])\n"
     ]
    }
   ],
   "source": [
    "z[0].append(9)\n",
    "print('4:',z)"
   ]
  },
  {
   "cell_type": "markdown",
   "metadata": {},
   "source": [
    "## Funkce a reference\n",
    "* argumenty jsou referencí na předávané hodnoty "
   ]
  },
  {
   "cell_type": "code",
   "execution_count": 15,
   "metadata": {},
   "outputs": [
    {
     "name": "stdout",
     "output_type": "stream",
     "text": [
      "[42, 2, 3]\n"
     ]
    }
   ],
   "source": [
    "def foo(x):\n",
    "    x[0]= 42\n",
    "\n",
    "y = [1,2,3]\n",
    "foo(y)      # This means foo(x = y), and x = y behaves as described earlier\n",
    "print(y)"
   ]
  },
  {
   "cell_type": "code",
   "execution_count": null,
   "metadata": {},
   "outputs": [
    {
     "name": "stdout",
     "output_type": "stream",
     "text": [
      "[1, 2, 3]\n"
     ]
    }
   ],
   "source": [
    "def foo(x):\n",
    "    x = [4,5,6] # asignment creates a new reference; does not change referencing object (y)\n",
    "\n",
    "y = [1,2,3]\n",
    "foo(y)\n",
    "print(y)"
   ]
  }
 ],
 "metadata": {
  "kernelspec": {
   "display_name": "Python 3",
   "language": "python",
   "name": "python3"
  },
  "language_info": {
   "codemirror_mode": {
    "name": "ipython",
    "version": 3
   },
   "file_extension": ".py",
   "mimetype": "text/x-python",
   "name": "python",
   "nbconvert_exporter": "python",
   "pygments_lexer": "ipython3",
   "version": "3.8.10"
  }
 },
 "nbformat": 4,
 "nbformat_minor": 0
}

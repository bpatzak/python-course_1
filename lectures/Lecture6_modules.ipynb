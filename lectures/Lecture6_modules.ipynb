{
 "cells": [
  {
   "cell_type": "markdown",
   "id": "26b474d7",
   "metadata": {},
   "source": [
    "# Moduly \n",
    "\n",
    "Dnes se naučíme vytvářet a importovat moduly (modules) a knihovny (packages)\n",
    "* Modul je soubor obsahující definice a příkazy jazyka Python. Umožňuje opakované použití kódu v různých programech nebo projektech Pythonu.- \n",
    "* Knihovna nebo balíček je často externí kolekce modulů \n",
    "nebo balíčků, které poskytují předem napsané funkce pro řešení konkrétních \n",
    "problémů nebo provádění konkrétních úkolů. Rozšiřují funkčnost jazyka \n",
    "Python tím, že poskytují hotový kód pro různé účely. Jsou obvykle vyvíjeny a \n",
    "udržovány komunitou Pythonu nebo vývojáři třetích stran\n",
    "\n",
    "Dnes jsou balíčky dostupné prakticky pro všechno - od tvorby webového rozhranní po strojové učení.\n",
    "Dobrým startovacím místem, pokud hledáte balíček pro konrétní věc je jakýkoliv webový vyhledávač, případně také Python Package Index (https://pypi.python.org/pypi), kde je registrováno více jak 690 tisíc balíčků. Často existuje více balíčků pro daný problém. "
   ]
  },
  {
   "cell_type": "markdown",
   "id": "cabc1eb8",
   "metadata": {},
   "source": [
    "\n",
    "* Moduly mohou obsahovat funkce, třídy, proměnné a další definice, přístupné v jejich jmenném prostoru (namespace)\n",
    "* Vlastní moduly můžete vytvářet tak, že kód jazyka Python napíšete do samostatných souborů .py. \n",
    "* Chcete-li modul použít ve svém kódu, musíte jej importovat pomocí příkazu import. \n",
    "* Každý modul \n",
    "* Po importu můžete přistupovat k funkcím, třídám nebo proměnným definovaným v modulu \n",
    "pomocí názvu modulu následovaného tečkovou notací."
   ]
  },
  {
   "cell_type": "code",
   "execution_count": 69,
   "id": "8f887b6c",
   "metadata": {},
   "outputs": [
    {
     "name": "stdout",
     "output_type": "stream",
     "text": [
      "Area of unit circle is 3.141592654\n"
     ]
    }
   ],
   "source": [
    "import math\n",
    "\n",
    "area = math.pi * 1.0 ** 2\n",
    "print(\"Area of unit circle is {:10.9f}\".format(area))"
   ]
  },
  {
   "cell_type": "markdown",
   "id": "3af13531",
   "metadata": {},
   "source": [
    "## Definice vlastního modulu\n",
    "\n",
    "Uvažujme následující soubor `circle.py`:\n",
    "\n",
    "```python\n",
    "import math\n",
    "\n",
    "def area (radius):\n",
    "    return math.pi*radius ** 2\n",
    "\n",
    "def circumference (radius):\n",
    "    return 2.0*math.pi * radius\n",
    "```"
   ]
  },
  {
   "cell_type": "code",
   "execution_count": 70,
   "id": "83930445",
   "metadata": {},
   "outputs": [
    {
     "name": "stdout",
     "output_type": "stream",
     "text": [
      "Area of unit circle is 3.141592654\n",
      "Circumference of unit circle is 6.283185307\n"
     ]
    }
   ],
   "source": [
    "import sys\n",
    "import os\n",
    "\n",
    "# Add a Data directory to the system path, so that we can import modules from there\n",
    "sys.path.append(os.path.join(os.getcwd(), 'lectures/Data')) \n",
    "import circle\n",
    "\n",
    "print(\"Area of unit circle is {:10.9f}\".format(circle.area(1.0)))\n",
    "print(\"Circumference of unit circle is {:10.9f}\".format(circle.circumference(1.0)))"
   ]
  },
  {
   "cell_type": "markdown",
   "id": "93a74c16",
   "metadata": {},
   "source": [
    "## Uvod do základních modulů\n",
    "\n",
    "* NumPy - the library for linear algebra in Python\n",
    "* Matplotlib - Visualization with Python\n",
    "* Pandas - a fast, powerful, flexible and easy to use data analysis and manipulation tool\n"
   ]
  },
  {
   "cell_type": "markdown",
   "id": "d2902104",
   "metadata": {},
   "source": [
    "## NumPy - the library for linear algebra in Python\n",
    "https://numpy.org/\n",
    "\n",
    "Proč NumPy?\n",
    "\n",
    "Python seznamy obsahují odkazy na objekty místo samotných dat. Přestože to činí Python listy velmi flexibilními, z pohledu výkonu nebo využití paměti to není optimální. \n",
    "NumPy ukládá data přímo ve svém objektu pole. Data jsou navíc uložena v paměti kontinuálně, aby se ještě více zlepšil výkon. Poměrně mnoho dalších externích knihoven (například SciPy) očekává, že data budou ve formátu NumPy, aby mohly fungovat nebo fungovat efektivně. \n"
   ]
  },
  {
   "cell_type": "markdown",
   "id": "de9fe99c",
   "metadata": {},
   "source": [
    "Hlavním datovým typem NumPy je objekt pole, který může obsahovat N-dimenzionální pole. Všechny prvky v poli musí být stejného typu. Podporované typy zahrnují: \n",
    "* int8, int16, int32, int64, int (= int32 nebo int64), \n",
    "* uint8, uint16, uint32, uint64, \n",
    "* float16, float32, float64 (= float), \n",
    "* complex64, complex128 (= complex). \n",
    "Typ je automaticky vybrán na základě vstupu, pokud není specifikovaný typ."
   ]
  },
  {
   "cell_type": "code",
   "execution_count": 71,
   "id": "dabda3ba",
   "metadata": {},
   "outputs": [
    {
     "name": "stdout",
     "output_type": "stream",
     "text": [
      "[ 4  7 21]\n",
      "<class 'numpy.int64'>\n"
     ]
    }
   ],
   "source": [
    "import numpy as np\n",
    "a = np.array([1, 3, 4])\n",
    "b = np.array([3, 2, 5], dtype=np.int8)\n",
    "c = a * b + 1\n",
    "print(c)\n",
    "print(type(c[0]))"
   ]
  },
  {
   "cell_type": "markdown",
   "id": "9f39a943",
   "metadata": {},
   "source": [
    "V uvedeném příkladu jsme vytvořili pole NumPy z pythonového seznamu. To je jeden ze způsobů, jak vytvořit pole NumPy, více způsobů bude ukázáno později. \n",
    "\n",
    "Tvar (shape) pole je n-tice. Například můžete použít tvarovou n-tici k vytvoření prázdných polí apod. pomocí funkcí zeros(), ones() nebo empty()."
   ]
  },
  {
   "cell_type": "code",
   "execution_count": 72,
   "id": "e639cae4",
   "metadata": {},
   "outputs": [
    {
     "name": "stdout",
     "output_type": "stream",
     "text": [
      "[[1.  3. ]\n",
      " [2.  7. ]\n",
      " [0.4 6. ]]\n",
      "[[0.+0.j 0.+0.j 0.+0.j 0.+0.j]\n",
      " [0.+0.j 0.+0.j 0.+0.j 0.+0.j]]\n"
     ]
    }
   ],
   "source": [
    "a = np.array([[1., 3.],\n",
    "              [2., 7.],\n",
    "              [.4, 6.]])\n",
    "np.shape(a)\n",
    "print(a)\n",
    "b = np.zeros((2,4), dtype=np.complex64)\n",
    "print(b)"
   ]
  },
  {
   "cell_type": "markdown",
   "id": "3cd65ac7",
   "metadata": {},
   "source": [
    "Pro vytvoření řady čísel můžete použít metodu arange(start=0, stop, step=1) pro celá čísla. \n",
    "Poznámka: stejně jako u krájení, start je včetně, stop je vyjma. \n",
    "\n",
    "Pro desetinná čísla použijte linspace(start, stop, num=10). Poznámka: obě krajní hodnoty jsou včetně!"
   ]
  },
  {
   "cell_type": "code",
   "execution_count": 73,
   "id": "83bdfbf9",
   "metadata": {},
   "outputs": [
    {
     "name": "stdout",
     "output_type": "stream",
     "text": [
      "a = [0 1 2]\n",
      "b = [24 22 20 18 16 14 12]\n",
      "c = [-1.  -0.5  0.   0.5  1. ]\n"
     ]
    }
   ],
   "source": [
    "a = np.arange(3)\n",
    "b = np.arange(stop = 10, start = 24, step = -2)\n",
    "print(\"a = {}\".format(a))\n",
    "print(\"b = {}\".format(b))\n",
    "c = np.linspace (-1, 1, 5)\n",
    "print(\"c = {}\".format(c))"
   ]
  },
  {
   "cell_type": "markdown",
   "id": "827d8d37",
   "metadata": {},
   "source": [
    "Nyní je čas začít pracovat s NumPy.\n",
    "První věc, kterou je třeba poznamenat, je, že při práci s NumPy poli se operace provádějí na každém prvku."
   ]
  },
  {
   "cell_type": "code",
   "execution_count": 74,
   "id": "1283c1f5",
   "metadata": {},
   "outputs": [
    {
     "name": "stdout",
     "output_type": "stream",
     "text": [
      "a = [0 1 2 3]\n",
      "b = [1 2 3 4]\n",
      "c = [1 3 5 7]\n"
     ]
    }
   ],
   "source": [
    "import numpy as np\n",
    "a = np.arange(4)\n",
    "b = a + 1\n",
    "c = a + b\n",
    "print(\"a = {}\".format(a))\n",
    "print(\"b = {}\".format(b))\n",
    "print(\"c = {}\".format(c))"
   ]
  },
  {
   "cell_type": "markdown",
   "id": "fa521e93",
   "metadata": {},
   "source": [
    "I když se násobí, pole NumPy se zpracovávají prvek po prvku, když je to možné."
   ]
  },
  {
   "cell_type": "code",
   "execution_count": 75,
   "id": "64b5c3bd",
   "metadata": {},
   "outputs": [
    {
     "name": "stdout",
     "output_type": "stream",
     "text": [
      "a = [0 1 2 3]\n",
      "b = [1.  1.5 2.  2.5]\n",
      "c = [0.  1.5 4.  7.5]\n"
     ]
    }
   ],
   "source": [
    "a = np.arange(4)\n",
    "b = np.linspace(1, 2.5, 4)\n",
    "c = a * b\n",
    "print(\"a = {}\".format(a))\n",
    "print(\"b = {}\".format(b))\n",
    "print(\"c = {}\".format(c))"
   ]
  },
  {
   "cell_type": "markdown",
   "id": "46922d2f",
   "metadata": {},
   "source": [
    "NumPy automaticky přiřazuje typ každému poli a automaticky povyšuje výsledky operací s poli na správný typ."
   ]
  },
  {
   "cell_type": "code",
   "execution_count": 76,
   "id": "6355ffbd",
   "metadata": {},
   "outputs": [
    {
     "name": "stdout",
     "output_type": "stream",
     "text": [
      "<class 'numpy.int64'> <class 'numpy.float64'> <class 'numpy.float64'>\n"
     ]
    }
   ],
   "source": [
    "print(type(a[0]), type(b[0]), type(c[0]))"
   ]
  },
  {
   "cell_type": "markdown",
   "id": "4862beb6",
   "metadata": {},
   "source": [
    "Pokud jsou tvary operandů nekompatibilní, NumPy vám vyhodí chybu:"
   ]
  },
  {
   "cell_type": "code",
   "execution_count": 77,
   "id": "f6e6e0ba",
   "metadata": {},
   "outputs": [
    {
     "ename": "ValueError",
     "evalue": "operands could not be broadcast together with shapes (4,) (3,) ",
     "output_type": "error",
     "traceback": [
      "\u001b[0;31m---------------------------------------------------------------------------\u001b[0m",
      "\u001b[0;31mValueError\u001b[0m                                Traceback (most recent call last)",
      "Cell \u001b[0;32mIn[77], line 2\u001b[0m\n\u001b[1;32m      1\u001b[0m b \u001b[38;5;241m=\u001b[39m np\u001b[38;5;241m.\u001b[39mlinspace(\u001b[38;5;241m1\u001b[39m, \u001b[38;5;241m2\u001b[39m, \u001b[38;5;241m3\u001b[39m)\n\u001b[0;32m----> 2\u001b[0m c \u001b[38;5;241m=\u001b[39m \u001b[43ma\u001b[49m\u001b[43m \u001b[49m\u001b[38;5;241;43m*\u001b[39;49m\u001b[43m \u001b[49m\u001b[43mb\u001b[49m\n",
      "\u001b[0;31mValueError\u001b[0m: operands could not be broadcast together with shapes (4,) (3,) "
     ]
    }
   ],
   "source": [
    "b = np.linspace(1, 2, 3)\n",
    "c = a * b"
   ]
  },
  {
   "cell_type": "markdown",
   "id": "3b411f8b",
   "metadata": {},
   "source": [
    "## Indexování a řezání (Indexing and Slicing)\n",
    "\n",
    "V mnoha algoritmech musíte pracovat s částmi pole, tj. použít pouze vybrané prvky. \n",
    "Když mluvíme o indexování, vybíráme data pro specifické indexy z pole. Pro indexování můžete použít Python seznamy nebo NumPy pole jako indexová pole."
   ]
  },
  {
   "cell_type": "code",
   "execution_count": null,
   "id": "53fb60ec",
   "metadata": {},
   "outputs": [
    {
     "name": "stdout",
     "output_type": "stream",
     "text": [
      "a = [ 1.   2.5  4.   5.5  7.   8.5 10. ]\n",
      "index = [0 2 3]\n",
      "\n",
      "1.0\n",
      "[1.  4.  5.5]\n",
      "[1.  4.  5.5]\n"
     ]
    }
   ],
   "source": [
    "a = np.linspace(1., 10., 7)\n",
    "index = np.array([0, 2, 3])\n",
    "\n",
    "print(\"a = {}\".format(a))\n",
    "print(\"index = {}\".format(index))\n",
    "print()\n",
    "print(a[0])          # Single element\n",
    "print(a[ [0, 2, 3] ])# Indexing with index array - Python list\n",
    "print(a[index])      # Indexing with index array - NumPy array"
   ]
  },
  {
   "cell_type": "markdown",
   "id": "a10223cf",
   "metadata": {},
   "source": [
    "Když mluvíme o krájení, vybíráme specifická data kontinuálně nebo v pravidelném vzoru."
   ]
  },
  {
   "cell_type": "code",
   "execution_count": null,
   "id": "014bd602",
   "metadata": {},
   "outputs": [
    {
     "name": "stdout",
     "output_type": "stream",
     "text": [
      "[1.  2.5]\n",
      "[ 1.  4.  7. 10.]\n",
      "[10.   8.5  7.   5.5  4.   2.5]\n"
     ]
    }
   ],
   "source": [
    "print(a[0:2])        # Slicing: Elements from (and including) no. 0 to no. 2 (not including)\n",
    "print(a[::2])        # Slicing: Every second element from start to end\n",
    "print(a[:0:-1])      # Slicing: Every element _except_ the first one, in reverse order"
   ]
  },
  {
   "cell_type": "markdown",
   "id": "e6ea95aa",
   "metadata": {},
   "source": [
    "Můžete také použít pole booleánů jako \"maskovací\" pole k výběru specifických hodnot."
   ]
  },
  {
   "cell_type": "code",
   "execution_count": null,
   "id": "fc95969f",
   "metadata": {},
   "outputs": [
    {
     "name": "stdout",
     "output_type": "stream",
     "text": [
      "[False False False  True  True  True  True]\n",
      "[ 5.5  7.   8.5 10. ]\n"
     ]
    }
   ],
   "source": [
    "mask = a > 4\n",
    "print(mask)\n",
    "print(a[mask])"
   ]
  },
  {
   "cell_type": "markdown",
   "id": "f983a511",
   "metadata": {},
   "source": [
    "NumPy pole mohou mít libovolné rozměry, indexování následuje stejný vzor jako pro jedno rozměří. Různé rozměry jsou odděleny čárkou (,)."
   ]
  },
  {
   "cell_type": "code",
   "execution_count": null,
   "id": "b969acdd",
   "metadata": {},
   "outputs": [
    {
     "name": "stdout",
     "output_type": "stream",
     "text": [
      "a = \n",
      "[[[ 0  1  2  3]\n",
      "  [ 4  5  6  7]]\n",
      "\n",
      " [[ 8  9 10 11]\n",
      "  [12 13 14 15]]\n",
      "\n",
      " [[16 17 18 19]\n",
      "  [20 21 22 23]]]\n",
      "\n",
      "a[0,:,:] = \n",
      "[[0 1 2 3]\n",
      " [4 5 6 7]]\n",
      "\n",
      "a[:,1,:] = \n",
      "[[ 4  5  6  7]\n",
      " [12 13 14 15]\n",
      " [20 21 22 23]]\n",
      "\n",
      "a[:,:,2] = \n",
      "[[ 2  6]\n",
      " [10 14]\n",
      " [18 22]]\n"
     ]
    }
   ],
   "source": [
    "a = np.arange(24).reshape(3, 2, 4)\n",
    "print(\"a = \\n{}\".format(a))\n",
    "print()\n",
    "print(\"a[0,:,:] = \\n{}\".format(a[0,:,:]))    # \"part 0\"\n",
    "print()\n",
    "print(\"a[:,1,:] = \\n{}\".format(a[:,1,:]))    # \"row 1\"\n",
    "print()\n",
    "print(\"a[:,:,2] = \\n{}\".format(a[:,:,2]))    # \"column 2\""
   ]
  },
  {
   "cell_type": "markdown",
   "id": "29242bd8",
   "metadata": {},
   "source": [
    "Velmi silnou funkcí NumPy je tzv. vysílání (broadcasting). \n",
    "\n",
    "Pomocí vysílání lze provádět aritmetické operace na poli s kompatibilními rozměry (tj. tam, kde je počet prvků stejný v zvažovaných rozměrech). \n",
    "\n",
    "Představme si, že chceme vytvořit matici 4x5 násobením prvků jednoho pole o délce 4 (řádky) a jednoho o délce 5 (sloupce). Použijte newaxis."
   ]
  },
  {
   "cell_type": "code",
   "execution_count": null,
   "id": "51c2a982",
   "metadata": {},
   "outputs": [
    {
     "name": "stdout",
     "output_type": "stream",
     "text": [
      "a = \n",
      "[1.  1.5 2.  2.5]\n",
      "b = \n",
      "[2.  2.5 3.  3.5 4. ]\n",
      "c = \n",
      "[[ 2.    2.5   3.    3.5   4.  ]\n",
      " [ 3.    3.75  4.5   5.25  6.  ]\n",
      " [ 4.    5.    6.    7.    8.  ]\n",
      " [ 5.    6.25  7.5   8.75 10.  ]]\n"
     ]
    }
   ],
   "source": [
    "a = np.linspace( 1., 2.5, 4 )\n",
    "b = np.linspace( 2., 4., 5 )\n",
    "print(\"a = \\n{}\".format(a))\n",
    "print(\"b = \\n{}\".format(b))\n",
    "c = a[ :, np.newaxis ] * b[ np.newaxis, : ]\n",
    "print(\"c = \\n{}\".format(c))"
   ]
  },
  {
   "cell_type": "markdown",
   "id": "faeb509c",
   "metadata": {},
   "source": [
    "Co je vlastně a[ :, np.newaxis] ?"
   ]
  },
  {
   "cell_type": "code",
   "execution_count": null,
   "id": "67778d6f",
   "metadata": {},
   "outputs": [
    {
     "name": "stdout",
     "output_type": "stream",
     "text": [
      "[[1. ]\n",
      " [1.5]\n",
      " [2. ]\n",
      " [2.5]]\n"
     ]
    }
   ],
   "source": [
    "print(a[ :, np.newaxis ])"
   ]
  },
  {
   "cell_type": "code",
   "execution_count": null,
   "id": "688686a4",
   "metadata": {},
   "outputs": [
    {
     "name": "stdout",
     "output_type": "stream",
     "text": [
      "[[1.  1.  1.  1.  1. ]\n",
      " [1.5 1.5 1.5 1.5 1.5]\n",
      " [2.  2.  2.  2.  2. ]\n",
      " [2.5 2.5 2.5 2.5 2.5]]\n"
     ]
    }
   ],
   "source": [
    "print (a[ :, np.newaxis ] * np.ones(5))"
   ]
  },
  {
   "cell_type": "markdown",
   "id": "369be729",
   "metadata": {},
   "source": [
    "* nová osa se automaticky rozšíří na potřebný počet prvků, kopírující (broadcasting) data! \n",
    "* Pro další způsoby práce s poli se podívejte na metody NumPy where(), argsort(), concatenate(), hstack() a vstack()"
   ]
  },
  {
   "cell_type": "markdown",
   "id": "60c2a135",
   "metadata": {},
   "source": [
    "## Numerika s NumPy\n",
    "V NumPy je k dispozici mnoho numerických rutin pro manipulaci s jeho poli, ty zahrnují:\n",
    "* Matice a lineární algebru\n",
    "* Fourierovy transformace\n",
    "* Generátory náhodných čísel\n",
    "* Polynomy\n",
    "* Všechny standardní matematické funkce: sin, cosh, exp, log, log10...\n",
    "* Funkce pro zkoumání: max, min, průměr, medián, znaménko, oříznout\n",
    "* Obecné funkce pro pole: součet, součin...\n",
    "* Kumulativní funkce: kumulativní součet, kumulativní součin\n",
    "* Derivace: trapz, diff, gradient\n",
    "* Násobení polí a matic: dot, tensordot, cross, convolv\n",
    "* A více..., podívejte se na referenční příručku NumPy (https://docs.scipy.org/doc/numpy/reference/) pro úplný seznam."
   ]
  },
  {
   "cell_type": "markdown",
   "id": "3ee3cc36",
   "metadata": {},
   "source": [
    "## Příklad: Součty a součiny\n",
    "* Pro součty a součinypoužijte numpy.sum a numpy.prod\n",
    "* Pro práci pouze přes jednu osu přidejte argument * axis=osa_k_součtu *"
   ]
  },
  {
   "cell_type": "code",
   "execution_count": null,
   "id": "18295588",
   "metadata": {},
   "outputs": [
    {
     "name": "stdout",
     "output_type": "stream",
     "text": [
      "a =\n",
      "[[[ 0  1  2  3]\n",
      "  [ 4  5  6  7]\n",
      "  [ 8  9 10 11]]\n",
      "\n",
      " [[12 13 14 15]\n",
      "  [16 17 18 19]\n",
      "  [20 21 22 23]]]\n",
      "\n",
      "np.prod(a) = 0\n",
      "np.sum(a) = 276\n",
      "\n",
      "np.prod(a, axis=1) =\n",
      "[[   0   45  120  231]\n",
      " [3840 4641 5544 6555]]\n",
      "\n",
      "np.sum(a, axis=2) =\n",
      "[[ 6 22 38]\n",
      " [54 70 86]]\n"
     ]
    }
   ],
   "source": [
    "a = np.arange(24).reshape(2, 3, 4)\n",
    "print(\"a =\\n{}\".format(a))\n",
    "print()\n",
    "print(\"np.prod(a) = {}\".format( np.prod(a) ))\n",
    "print(\"np.sum(a) = {}\".format( np.sum(a) ))\n",
    "print()\n",
    "print(\"np.prod(a, axis=1) =\\n{}\".format( np.prod(a, axis=1) ))\n",
    "print()\n",
    "print(\"np.sum(a, axis=2) =\\n{}\".format( np.sum(a, axis=2) ))"
   ]
  },
  {
   "cell_type": "markdown",
   "id": "f63eb4b5",
   "metadata": {},
   "source": [
    "## Příklad: Diferenciace\n",
    "Pro převzetí rozdílu mezi sousedními prvky použijte numpy.diff( f, n=1, axis=-1)\n",
    "n je počet, kolikrát by měl být rozdíl proveden, axis je osa, na které se má pracovat (výchozí je poslední osa)\n"
   ]
  },
  {
   "cell_type": "markdown",
   "id": "cadc5343",
   "metadata": {},
   "source": [
    "* To approximate the gradient $$\\frac{df(x_n)}{dx} \\approx \\frac{f(x_{n+1} - 2f(x_n) + f(x_{n-1})}{2\\Delta x}$$,\n",
    "    * use **numpy.gradient(f , [dx, dy, ....])**,\n",
    "    * Example $f(x) = \\cos(x)  \\Rightarrow \\frac{df}{dx}(x) = -\\sin(x)$"
   ]
  },
  {
   "cell_type": "code",
   "execution_count": null,
   "id": "04267602",
   "metadata": {},
   "outputs": [],
   "source": [
    "x = np.linspace(0, 2*np.pi, num=1000)\n",
    "dx = x[1] - x[0]\n",
    "  \n",
    "f = np.cos(x)  \n",
    "df_dx = np.gradient(f, dx)\n",
    "\n",
    "np.testing.assert_array_almost_equal(df_dx, -np.sin(x), decimal=2)"
   ]
  },
  {
   "cell_type": "code",
   "execution_count": null,
   "id": "063ab5ea",
   "metadata": {},
   "outputs": [
    {
     "data": {
      "text/plain": [
       "Text(0.5, 0, 'x')"
      ]
     },
     "execution_count": 17,
     "metadata": {},
     "output_type": "execute_result"
    },
    {
     "data": {
      "image/png": "[encoded data removed]",
      "text/plain": [
       "<Figure size 640x480 with 1 Axes>"
      ]
     },
     "metadata": {},
     "output_type": "display_data"
    }
   ],
   "source": [
    "import matplotlib.pyplot as plt\n",
    "plt.plot(x, f, 'r')\n",
    "plt.plot(x, df_dx, 'b')\n",
    "plt.legend((\"$f(x)=cos(x)$\", \"$df/dx(x) = -sin(x)$\"))\n",
    "plt.xlabel('x')"
   ]
  },
  {
   "cell_type": "markdown",
   "id": "0a5e5a02",
   "metadata": {},
   "source": [
    "## Příklad: Vektorové a maticové násobení\n",
    "Jak bylo uvedeno výše, všechny (standardní) operace na NumPy poli jsou prováděny prvek po prvku.\n",
    "\n",
    "Pro provedení násobení typu vektor/matice můžete použít metody numpy.dot(a, b) a numpy.cross(a, b). Poznámka: NumPy pole mají také metodu dot, viz příklad níže.\n",
    "\n",
    "Shrnutí:\n",
    "* $a\\cdot b = \\sum_i a_i b_i$ (výsledek je skalární)\n",
    "* $a\\times b = \\sum_{j,k} \\epsilon_{ijk} a_j b_k$ (výsledek je jednorozměrné pole)\n",
    "\n",
    "(Prvky $\\epsilon_{i,j,k}$mají hodnotu 1, pokud jsou indexy ve stejném pořadí nebo permutovaném pořadí, -1 pokud jsou v opačném pořadí a 0 pokud jsou dva indexy stejné: Např. i=1, j=2, k=0 -> 1, i=2, j=1, k=0 -> -1, i,j=2, k=0 -> 0)"
   ]
  },
  {
   "cell_type": "code",
   "execution_count": null,
   "id": "0f4097eb",
   "metadata": {},
   "outputs": [
    {
     "name": "stdout",
     "output_type": "stream",
     "text": [
      "a = [1. 2. 3.]\n",
      "b = [2. 1. 0.]\n",
      "\n",
      "a . b = 4.0 (dot product)\n",
      "a x b = [-3.  6. -3.] (cross product)\n",
      "\n",
      "a . b = 4.0\n",
      "\n",
      "a * b = [2. 2. 0.] (elementwise)\n"
     ]
    }
   ],
   "source": [
    "a = np.array([1., 2., 3.])\n",
    "b = np.array([2., 1., 0.])\n",
    "print(\"a = {}\".format(a))\n",
    "print(\"b = {}\".format(b))\n",
    "print()\n",
    "print(\"a . b = {} (dot product)\".format(np.dot(a, b)))\n",
    "print(\"a x b = {} (cross product)\".format(np.cross(a, b)))\n",
    "print()\n",
    "print(\"a . b = {}\".format(a.dot(b)))\n",
    "print()\n",
    "print(\"a * b = {} (elementwise)\".format(a * b))"
   ]
  },
  {
   "cell_type": "markdown",
   "id": "5a3ea885",
   "metadata": {},
   "source": [
    "Příklad: Proveďte násobení typu matice a vektoru pomocí jednoho 2D a jednoho 1D pole NumPy:"
   ]
  },
  {
   "cell_type": "code",
   "execution_count": null,
   "id": "67559f15",
   "metadata": {},
   "outputs": [
    {
     "name": "stdout",
     "output_type": "stream",
     "text": [
      "A =\n",
      "[[0 1 2]\n",
      " [3 4 5]\n",
      " [6 7 8]]\n",
      "b = [1.  1.5 2. ]\n",
      "\n",
      "c = A . b = [ 5.5 19.  32.5]\n"
     ]
    }
   ],
   "source": [
    "A = np.arange(9).reshape((3,3))\n",
    "b = np.linspace(1., 2., 3)\n",
    "\n",
    "print(\"A =\\n{}\".format(A))\n",
    "print(\"b = {}\".format(b))\n",
    "print()\n",
    "\n",
    "c = A.dot(b)\n",
    "print(\"c = A . b = {}\".format(c))"
   ]
  },
  {
   "cell_type": "markdown",
   "id": "5ce08c39",
   "metadata": {},
   "source": [
    "Příklad: Proveďte maticovou násobení typu matice-matice pomocí dvou 2D NumPy polí:"
   ]
  },
  {
   "cell_type": "code",
   "execution_count": null,
   "id": "c110611b",
   "metadata": {},
   "outputs": [
    {
     "name": "stdout",
     "output_type": "stream",
     "text": [
      "A =\n",
      "[[0 1 2]\n",
      " [3 4 5]\n",
      " [6 7 8]]\n",
      "B =\n",
      "[[2 6 7]\n",
      " [6 1 4]\n",
      " [8 5 3]]\n",
      "\n",
      "C = A . B =\n",
      "[[ 22  11  10]\n",
      " [ 70  47  52]\n",
      " [118  83  94]]\n",
      "\n",
      "A * B =\n",
      "[[ 0  6 14]\n",
      " [18  4 20]\n",
      " [48 35 24]]  (elementwise!)\n"
     ]
    }
   ],
   "source": [
    "A = np.arange(9).reshape((3,3))\n",
    "B = np.random.randint(0,10,(3,3))\n",
    "print(\"A =\\n{}\".format(A))\n",
    "print(\"B =\\n{}\".format(B))\n",
    "print()\n",
    "\n",
    "C = A.dot(B)\n",
    "print(\"C = A . B =\\n{}\".format(C))\n",
    "print()\n",
    "print(\"A * B =\\n{}  (elementwise!)\".format(A*B))"
   ]
  },
  {
   "cell_type": "markdown",
   "id": "1ad7ced8",
   "metadata": {},
   "source": [
    "* Pro 2D pole můžete získat transpozici pomocí zobrazení \"T\", například B.T.  \n",
    "* Stejně tak můžete získat konjugaci pomocí metody conjugate nebo conj.  \n",
    "* Pro obecnější operaci podobnou transpozici se podívejte na metodu swapaxes z modulu array a NumPy, která vám dá pohled na vaše vícerozměrné pole s vyměněnými libovolnými 2 osami. (B.T je jednoduše B.swapaxes(0, 1)!)  \n",
    "* Pomocí podmodulu numpy.linalg můžete provádět další operace na polích podobných maticím.  \n",
    "  * norm(A): norma matice nebo vektoru (výchozí 2-norma)  \n",
    "  * det(A): determinant 2D rovnocenných polí  \n",
    "  * solve(A, b): řešení lineárních rovnic.  \n",
    "  * qr(A) QR-faktorizace  \n",
    "  * inv(A), pinv(A): inverzní matice a pseudo inverzní  \n",
    "  * eig(A), eigvals(A), eigh(A), eigvalsh(A): vlastní hodnoty a vlastní vektory  \n",
    "  * svd(A): dekompozice singulární hodnoty."
   ]
  },
  {
   "cell_type": "markdown",
   "id": "962bbdad",
   "metadata": {},
   "source": [
    "Příklad: inverze "
   ]
  },
  {
   "cell_type": "code",
   "execution_count": null,
   "id": "64377112",
   "metadata": {},
   "outputs": [
    {
     "name": "stdout",
     "output_type": "stream",
     "text": [
      "B =\n",
      "[[2 6 7]\n",
      " [6 1 4]\n",
      " [8 5 3]]\n",
      "\n",
      "Binv =\n",
      "[[-0.08333333  0.08333333  0.08333333]\n",
      " [ 0.06862745 -0.24509804  0.16666667]\n",
      " [ 0.10784314  0.18627451 -0.16666667]]\n",
      "\n",
      "B . Binv = \n",
      "[[ 1.00000000e+00  0.00000000e+00 -5.55111512e-17]\n",
      " [ 0.00000000e+00  1.00000000e+00 -2.22044605e-16]\n",
      " [ 0.00000000e+00  0.00000000e+00  1.00000000e+00]]\n",
      "\n",
      "Binv . B = \n",
      "[[ 1.00000000e+00 -5.55111512e-17  5.55111512e-17]\n",
      " [ 0.00000000e+00  1.00000000e+00 -5.55111512e-17]\n",
      " [ 0.00000000e+00 -5.55111512e-17  1.00000000e+00]]\n"
     ]
    }
   ],
   "source": [
    "import numpy.linalg as la\n",
    "\n",
    "Binv = la.inv(B)\n",
    "\n",
    "print(\"B =\\n{}\\n\".format(B))\n",
    "print(\"Binv =\\n{}\\n\".format(Binv))\n",
    "\n",
    "print(\"B . Binv = \\n{}\\n\".format(B.dot(Binv)))\n",
    "print(\"Binv . B = \\n{}\".format(Binv.dot(B)))"
   ]
  },
  {
   "cell_type": "markdown",
   "id": "d9472bd5",
   "metadata": {},
   "source": [
    "# Vizualizace\n",
    "\n",
    "* Potřeba vizualizovat výsledky a data pro lepší pochopení je velmi běžný úkol.\n",
    "* Pro Python je dominantní balíček Matplotlib - pro 2D grafy (nějaká podpora pro 3D existuje) \n",
    "  "
   ]
  },
  {
   "cell_type": "markdown",
   "id": "9313f532",
   "metadata": {},
   "source": [
    "## Matplotlib\n",
    "\n",
    "Co je Matplotlib?\n",
    "\n",
    "Z domovské stránky Matplotlib (http://matplotlib.org/):\n",
    "* Matplotlib je 2D knihovna pro vykreslování v Pythonu, která produkuje publikovatelné kvalitní obrázky v různých formátech pro tisk a interaktivní prostředí napříč platformami. Matplotlib lze používat ve skriptech Pythonu, v prostředí python a ipython (podobně jako MATLAB® nebo Mathematica®), na serverech webových aplikací a v šesti sadách nástrojů pro grafické uživatelské rozhraní.\n",
    "* Matplotlib se snaží udělat jednoduché věci jednoduchými a složité věci možnými. Můžete generovat grafy, histogramy, výkonové spektra, sloupcové grafy, chyby grafy, rozptylové grafy atd. jen s několika řádky kódu. Pro ukázku se podívejte na snímky obrazovky, miniatury a adresář příkladů.\n",
    "* Pro jednoduché vykreslování poskytuje rozhraní `pyplot` rozhraní podobné MATLABu, zejména když je kombinováno s IPythonem. Pro pokročilé uživatele máte plnou kontrolu nad styly čar, vlastnostmi písma, vlastnostmi os atd., prostřednictvím orientovaného objektového rozhraní nebo prostřednictvím sady funkcí známých uživatelům MATLABu. Viz https://matplotlib.org/stable/tutorials/pyplot.html#sphx-glr-tutorials-pyplot-py"
   ]
  },
  {
   "cell_type": "code",
   "execution_count": null,
   "id": "8291c103",
   "metadata": {},
   "outputs": [
    {
     "data": {
      "image/png": "[encoded data removed]",
      "text/plain": [
       "<Figure size 640x480 with 1 Axes>"
      ]
     },
     "metadata": {},
     "output_type": "display_data"
    }
   ],
   "source": [
    "import matplotlib.pyplot as plt\n",
    "\n",
    "plt.plot([1, 2, 3, 4], [1, 4, 9, 16])\n",
    "plt.ylabel('some numbers')\n",
    "plt.show()\n"
   ]
  },
  {
   "cell_type": "markdown",
   "id": "2a037d5c",
   "metadata": {},
   "source": [
    "### Formátování \n"
   ]
  },
  {
   "cell_type": "code",
   "execution_count": null,
   "id": "f57f050d",
   "metadata": {},
   "outputs": [
    {
     "data": {
      "image/png": "[encoded data removed]",
      "text/plain": [
       "<Figure size 640x480 with 1 Axes>"
      ]
     },
     "metadata": {},
     "output_type": "display_data"
    }
   ],
   "source": [
    "import numpy as np\n",
    "\n",
    "# evenly sampled time at 200ms intervals\n",
    "t = np.arange(0., 5., 0.2)\n",
    "\n",
    "# red dashes, blue squares and green triangles\n",
    "plt.plot(t, t, 'r--', t, t**2, 'bs', t, t**3, 'g^')\n",
    "plt.show()"
   ]
  },
  {
   "cell_type": "markdown",
   "id": "43815bc5",
   "metadata": {},
   "source": [
    "### Podgrafy\n",
    "K vytvoření podgrafů můžete buď použít základní rutiny pyplot:\n",
    "* matplotlib.pyplot.subplots(nrows=1, ncols=1, sharex=False, sharey=False, squeeze=True, subplot_kw=None, gridspec_kw=None, **fig_kw) - vytváří figure a osy pro všechny podgrafy najednou: fig1, (ax1, ax2, ...)\n",
    "* matplotlib.pyplot.subplot(*args, **kwargs) - vytvoří jeden objekt osy, typické použití je:\n",
    "  * subplot(nrows, ncols, plot_number), např. subplot(2, 1, 1), subplot(211)\n",
    "  * Oba tyto příkazy dávají mřížku 2 x 1 a ukazují na první podgraf, podobně jako v Matlabu\n",
    "\n",
    "(Parametr figure figsize se používá společně s metodou pyplot figaspect() k ovládání poměru stran figure, aby se lépe přizpůsobil obrazovce v níže uvedených příkladech)"
   ]
  },
  {
   "cell_type": "markdown",
   "id": "efa6faa1",
   "metadata": {},
   "source": [
    "### Histogramy\n",
    "Histogramy vytváříte pomocí hist(y, bins=10, normed=False, histtype= ...)\n",
    "\n",
    "Podívejte se na vestavěnou nápovědu nebo online dokumentaci pro mnohem více možností!"
   ]
  },
  {
   "cell_type": "code",
   "execution_count": null,
   "id": "78d21af4",
   "metadata": {},
   "outputs": [
    {
     "data": {
      "image/png": "[encoded data removed]",
      "text/plain": [
       "<Figure size 1600x400 with 2 Axes>"
      ]
     },
     "metadata": {},
     "output_type": "display_data"
    }
   ],
   "source": [
    "ar = 0.25\n",
    "x = 100 + 15 * np.random.randn(10000)\n",
    "\n",
    "fig1 = plt.figure(figsize=plt.figaspect(ar))\n",
    "\n",
    "ax1 = fig1.add_subplot(121)\n",
    "ax1.hist(x, bins=40, density=True, edgecolor='C0', facecolor='g', alpha=0.75)\n",
    "\n",
    "ax2 = fig1.add_subplot(122)\n",
    "ax2.hist(x, bins=20, histtype='stepfilled', facecolor='PowderBlue', alpha=0.5)\n",
    "plt.text(60, 125, r'$\\mu=100,\\ \\sigma=15$')\n",
    "plt.show()"
   ]
  },
  {
   "cell_type": "markdown",
   "id": "055052d8",
   "metadata": {},
   "source": [
    "### Vrstevnicové grafy\n",
    "Můžete vytvářet vyplněné a nevyplněné výškové  grafy pomocí funkcí contourf a contour. Pro specifikaci barevné mapy použijte klíčový argument cmap=. (Tyto můžete najít v modulu matplotlib.pyplot.cm, zkuste dir(plt.cm), abyste viděli, co je k dispozici)."
   ]
  },
  {
   "cell_type": "code",
   "execution_count": null,
   "id": "a207895a",
   "metadata": {},
   "outputs": [
    {
     "data": {
      "image/png": "[encoded data removed]",
      "text/plain": [
       "<Figure size 960x480 with 2 Axes>"
      ]
     },
     "metadata": {},
     "output_type": "display_data"
    }
   ],
   "source": [
    "x = np.linspace(-4*np.pi, 4*np.pi)\n",
    "X, Y = np.meshgrid(x, x)\n",
    "R = np.sqrt(X**2 + Y**2)\n",
    "Z = np.sin(R) / R\n",
    "\n",
    "plt.figure(figsize=plt.figaspect(0.5))\n",
    "\n",
    "plt.subplot(121)\n",
    "plt.contour(X, Y, Z, 15, cmap=plt.cm.RdBu)\n",
    "plt.axis('image')\n",
    "\n",
    "plt.subplot(122)\n",
    "plt.contourf(X, Y, Z, 15, cmap=plt.cm.summer)\n",
    "plt.axis('image')\n",
    "\n",
    "plt.show()\n"
   ]
  },
  {
   "cell_type": "markdown",
   "id": "3a6b30cd",
   "metadata": {},
   "source": [
    "## Pandas \n",
    "powerful data manipulation and analysis library for Python\n",
    "### Základní datové struktury v modulu Pandas\n",
    "Pandas poskytuje dva typy tříd pro zpracování dat:\n",
    "* Series: jednorozměrné označené pole, které obsahuje data jakéhokoli typu, například celá čísla, řetězce, objekty Pythonu atd. Je to v podstatě sloupec dat s přidruženým indexem.\n",
    "* DataFrame: dvourozměrná datová struktura, která obsahuje data jako dvourozměrné pole podobně jako excelová tabulka s řádky a sloupci. Skládá se z několika objektů Series se zarovnaným společným indexem."
   ]
  },
  {
   "cell_type": "markdown",
   "id": "27cb191d",
   "metadata": {},
   "source": [
    "Vytváření DataFrame předáním slovníku objektů, kde klíče jsou názvy sloupců a hodnoty jsou hodnotami sloupců:"
   ]
  },
  {
   "cell_type": "code",
   "execution_count": 66,
   "id": "c1e92c79",
   "metadata": {},
   "outputs": [
    {
     "name": "stdout",
     "output_type": "stream",
     "text": [
      "      Name  Height Qualification\n",
      "0     John     5.5           BSc\n",
      "1     Emma     6.0           BBA\n",
      "2  Michael     5.8           MBA\n",
      "3   Sophia     5.3           BSc\n"
     ]
    }
   ],
   "source": [
    "import pandas as pd\n",
    "\n",
    "# Creating a DataFrame\n",
    "data = {\n",
    "'Name': ['John', 'Emma', 'Michael', 'Sophia'],\n",
    "'Height': [5.5, 6.0, 5.8, 5.3],\n",
    "'Qualification': ['BSc', 'BBA', 'MBA', 'BSc']\n",
    "}\n",
    "df = pd.DataFrame(data)\n",
    "print(df)"
   ]
  },
  {
   "cell_type": "code",
   "execution_count": 67,
   "id": "c6edc7ac",
   "metadata": {},
   "outputs": [
    {
     "name": "stdout",
     "output_type": "stream",
     "text": [
      "Shape: (4, 3)\n",
      "<class 'pandas.core.frame.DataFrame'>\n",
      "RangeIndex: 4 entries, 0 to 3\n",
      "Data columns (total 3 columns):\n",
      " #   Column         Non-Null Count  Dtype  \n",
      "---  ------         --------------  -----  \n",
      " 0   Name           4 non-null      object \n",
      " 1   Height         4 non-null      float64\n",
      " 2   Qualification  4 non-null      object \n",
      "dtypes: float64(1), object(2)\n",
      "memory usage: 224.0+ bytes\n",
      "Info: None\n"
     ]
    }
   ],
   "source": [
    "# Getting shape, info\n",
    "print('Shape:', df.shape)\n",
    "print('Info:', df.info())"
   ]
  },
  {
   "cell_type": "code",
   "execution_count": 68,
   "id": "d7e1e915",
   "metadata": {},
   "outputs": [
    {
     "name": "stdout",
     "output_type": "stream",
     "text": [
      "         Height\n",
      "count  4.000000\n",
      "mean   5.650000\n",
      "std    0.310913\n",
      "min    5.300000\n",
      "25%    5.450000\n",
      "50%    5.650000\n",
      "75%    5.850000\n",
      "max    6.000000\n"
     ]
    }
   ],
   "source": [
    "# Getting statistical summary\n",
    "print(df.describe())"
   ]
  },
  {
   "cell_type": "markdown",
   "id": "214ef962",
   "metadata": {},
   "source": [
    "Přidání řádků a sloupců\n",
    "\n",
    "Nové řádky a sloupce můžete snadno přidat do stávajícího DataFrame. Například pro přidání nového sloupce:"
   ]
  },
  {
   "cell_type": "code",
   "execution_count": 19,
   "id": "154ffd71",
   "metadata": {},
   "outputs": [
    {
     "name": "stdout",
     "output_type": "stream",
     "text": [
      "      Name  Height Qualification   Address\n",
      "0     John     5.5           BSc  New York\n",
      "1     Emma     6.0           BBA    London\n",
      "2  Michael     5.8           MBA    Sydney\n",
      "3   Sophia     5.3           BSc   Toronto\n"
     ]
    }
   ],
   "source": [
    "# Adding a new column\n",
    "df['Address'] = ['New York', 'London', 'Sydney', 'Toronto']\n",
    "print(df)"
   ]
  },
  {
   "cell_type": "markdown",
   "id": "516aa71e",
   "metadata": {},
   "source": [
    "Chcete-li přidat nový řádek, můžete použít vlastnost .loc:"
   ]
  },
  {
   "cell_type": "code",
   "execution_count": 20,
   "id": "691fd281",
   "metadata": {},
   "outputs": [
    {
     "name": "stdout",
     "output_type": "stream",
     "text": [
      "      Name  Height Qualification   Address\n",
      "0     John     5.5           BSc  New York\n",
      "1     Emma     6.0           BBA    London\n",
      "2  Michael     5.8           MBA    Sydney\n",
      "3   Sophia     5.3           BSc   Toronto\n",
      "4      Amy     5.2           BIT    Boston\n"
     ]
    }
   ],
   "source": [
    "# Adding a new row\n",
    "df.loc[len(df.index)] = ['Amy', 5.2, 'BIT', 'Boston']\n",
    "print(df)"
   ]
  },
  {
   "cell_type": "markdown",
   "id": "95e9f4b7",
   "metadata": {},
   "source": [
    "Odstranění řádků a sloupcůPro odstranění řádků a sloupců můžete použít metodu drop(). \n",
    "\n",
    "Například pro smazání sloupce:"
   ]
  },
  {
   "cell_type": "code",
   "execution_count": 21,
   "id": "3d08dc9a",
   "metadata": {},
   "outputs": [
    {
     "name": "stdout",
     "output_type": "stream",
     "text": [
      "      Name Qualification   Address\n",
      "0     John           BSc  New York\n",
      "1     Emma           BBA    London\n",
      "2  Michael           MBA    Sydney\n",
      "3   Sophia           BSc   Toronto\n",
      "4      Amy           BIT    Boston\n"
     ]
    }
   ],
   "source": [
    "# Deleting a column\n",
    "df.drop('Height', axis=1, inplace=True)\n",
    "print(df)"
   ]
  },
  {
   "cell_type": "markdown",
   "id": "bb035d86",
   "metadata": {},
   "source": [
    "Pro smazání řádku"
   ]
  },
  {
   "cell_type": "code",
   "execution_count": 22,
   "id": "f80aeddc",
   "metadata": {},
   "outputs": [
    {
     "name": "stdout",
     "output_type": "stream",
     "text": [
      "     Name Qualification   Address\n",
      "0    John           BSc  New York\n",
      "1    Emma           BBA    London\n",
      "3  Sophia           BSc   Toronto\n",
      "4     Amy           BIT    Boston\n"
     ]
    }
   ],
   "source": [
    "# Deleting a row\n",
    "df.drop(2, axis=0, inplace=True)\n",
    "print(df)"
   ]
  },
  {
   "cell_type": "markdown",
   "id": "c872e8e0",
   "metadata": {},
   "source": [
    "Přejmenování sloupců a řádků\n",
    "\n",
    "Můžete přejmenovat sloupce a řádky pomocí metody rename(). Například, chcete-li přejmenovat sloupce:"
   ]
  },
  {
   "cell_type": "code",
   "execution_count": 23,
   "id": "0dd7d751",
   "metadata": {},
   "outputs": [
    {
     "name": "stdout",
     "output_type": "stream",
     "text": [
      "  First_Name Degree   Address\n",
      "0       John    BSc  New York\n",
      "1       Emma    BBA    London\n",
      "3     Sophia    BSc   Toronto\n",
      "4        Amy    BIT    Boston\n"
     ]
    }
   ],
   "source": [
    "# Renaming columns\n",
    "df.rename(columns={'Name': 'First_Name', 'Qualification': 'Degree'}, inplace=True)\n",
    "print(df)"
   ]
  },
  {
   "cell_type": "code",
   "execution_count": 24,
   "id": "c5a6eb17",
   "metadata": {},
   "outputs": [
    {
     "name": "stdout",
     "output_type": "stream",
     "text": [
      "  First_Name Degree   Address\n",
      "A       John    BSc  New York\n",
      "B       Emma    BBA    London\n",
      "D     Sophia    BSc   Toronto\n",
      "4        Amy    BIT    Boston\n"
     ]
    }
   ],
   "source": [
    "# Renaming rows\n",
    "df.rename(index={0: 'A', 1: 'B', 3: 'D'}, inplace=True)\n",
    "print(df)"
   ]
  },
  {
   "cell_type": "markdown",
   "id": "224ef75a",
   "metadata": {},
   "source": [
    "Odstranění sloupců a řádků\n",
    "\n",
    "Můžete odstranit sloupce a řádky pomocí metody drop(). Například pro odstranění sloupce:"
   ]
  },
  {
   "cell_type": "code",
   "execution_count": 25,
   "id": "d8c3be86",
   "metadata": {},
   "outputs": [
    {
     "name": "stdout",
     "output_type": "stream",
     "text": [
      "  First_Name Degree\n",
      "A       John    BSc\n",
      "B       Emma    BBA\n",
      "D     Sophia    BSc\n",
      "4        Amy    BIT\n"
     ]
    }
   ],
   "source": [
    "# Dropping a column\n",
    "df = df.drop('Address', axis=1)\n",
    "print(df)"
   ]
  },
  {
   "cell_type": "code",
   "execution_count": 26,
   "id": "b20d89b1",
   "metadata": {},
   "outputs": [
    {
     "name": "stdout",
     "output_type": "stream",
     "text": [
      "  First_Name Degree\n",
      "A       John    BSc\n",
      "D     Sophia    BSc\n",
      "4        Amy    BIT\n"
     ]
    }
   ],
   "source": [
    "# Dropping a row\n",
    "df = df.drop('B', axis=0)\n",
    "print(df)"
   ]
  },
  {
   "cell_type": "markdown",
   "id": "46c9ea22",
   "metadata": {},
   "source": [
    "Zobrazování dat\n",
    "\n",
    "Použijte DataFrame.head() a DataFrame.tail() pro zobrazení horních a dolních řádků rámce."
   ]
  },
  {
   "cell_type": "code",
   "execution_count": 27,
   "id": "46eec625",
   "metadata": {},
   "outputs": [
    {
     "data": {
      "text/html": [
       "<div>\n",
       "<style scoped>\n",
       "    .dataframe tbody tr th:only-of-type {\n",
       "        vertical-align: middle;\n",
       "    }\n",
       "\n",
       "    .dataframe tbody tr th {\n",
       "        vertical-align: top;\n",
       "    }\n",
       "\n",
       "    .dataframe thead th {\n",
       "        text-align: right;\n",
       "    }\n",
       "</style>\n",
       "<table border=\"1\" class=\"dataframe\">\n",
       "  <thead>\n",
       "    <tr style=\"text-align: right;\">\n",
       "      <th></th>\n",
       "      <th>First_Name</th>\n",
       "      <th>Degree</th>\n",
       "    </tr>\n",
       "  </thead>\n",
       "  <tbody>\n",
       "    <tr>\n",
       "      <th>A</th>\n",
       "      <td>John</td>\n",
       "      <td>BSc</td>\n",
       "    </tr>\n",
       "    <tr>\n",
       "      <th>D</th>\n",
       "      <td>Sophia</td>\n",
       "      <td>BSc</td>\n",
       "    </tr>\n",
       "    <tr>\n",
       "      <th>4</th>\n",
       "      <td>Amy</td>\n",
       "      <td>BIT</td>\n",
       "    </tr>\n",
       "  </tbody>\n",
       "</table>\n",
       "</div>"
      ],
      "text/plain": [
       "  First_Name Degree\n",
       "A       John    BSc\n",
       "D     Sophia    BSc\n",
       "4        Amy    BIT"
      ]
     },
     "execution_count": 27,
     "metadata": {},
     "output_type": "execute_result"
    }
   ],
   "source": [
    "df.head()\n"
   ]
  },
  {
   "cell_type": "code",
   "execution_count": null,
   "id": "b83e2e72",
   "metadata": {},
   "outputs": [
    {
     "data": {
      "text/html": [
       "<div>\n",
       "<style scoped>\n",
       "    .dataframe tbody tr th:only-of-type {\n",
       "        vertical-align: middle;\n",
       "    }\n",
       "\n",
       "    .dataframe tbody tr th {\n",
       "        vertical-align: top;\n",
       "    }\n",
       "\n",
       "    .dataframe thead th {\n",
       "        text-align: right;\n",
       "    }\n",
       "</style>\n",
       "<table border=\"1\" class=\"dataframe\">\n",
       "  <thead>\n",
       "    <tr style=\"text-align: right;\">\n",
       "      <th></th>\n",
       "      <th>First_Name</th>\n",
       "      <th>Degree</th>\n",
       "    </tr>\n",
       "  </thead>\n",
       "  <tbody>\n",
       "    <tr>\n",
       "      <th>D</th>\n",
       "      <td>Sophia</td>\n",
       "      <td>BSc</td>\n",
       "    </tr>\n",
       "    <tr>\n",
       "      <th>4</th>\n",
       "      <td>Amy</td>\n",
       "      <td>BIT</td>\n",
       "    </tr>\n",
       "  </tbody>\n",
       "</table>\n",
       "</div>"
      ],
      "text/plain": [
       "  First_Name Degree\n",
       "D     Sophia    BSc\n",
       "4        Amy    BIT"
      ]
     },
     "execution_count": 43,
     "metadata": {},
     "output_type": "execute_result"
    }
   ],
   "source": [
    "df.tail(2)"
   ]
  },
  {
   "cell_type": "markdown",
   "id": "937f0215",
   "metadata": {},
   "source": [
    "DataFrame.sort_index() řadí podle osy:"
   ]
  },
  {
   "cell_type": "code",
   "execution_count": null,
   "id": "0cd7e6be",
   "metadata": {},
   "outputs": [
    {
     "data": {
      "text/html": [
       "<div>\n",
       "<style scoped>\n",
       "    .dataframe tbody tr th:only-of-type {\n",
       "        vertical-align: middle;\n",
       "    }\n",
       "\n",
       "    .dataframe tbody tr th {\n",
       "        vertical-align: top;\n",
       "    }\n",
       "\n",
       "    .dataframe thead th {\n",
       "        text-align: right;\n",
       "    }\n",
       "</style>\n",
       "<table border=\"1\" class=\"dataframe\">\n",
       "  <thead>\n",
       "    <tr style=\"text-align: right;\">\n",
       "      <th></th>\n",
       "      <th>Degree</th>\n",
       "      <th>First_Name</th>\n",
       "    </tr>\n",
       "  </thead>\n",
       "  <tbody>\n",
       "    <tr>\n",
       "      <th>A</th>\n",
       "      <td>BSc</td>\n",
       "      <td>John</td>\n",
       "    </tr>\n",
       "    <tr>\n",
       "      <th>D</th>\n",
       "      <td>BSc</td>\n",
       "      <td>Sophia</td>\n",
       "    </tr>\n",
       "    <tr>\n",
       "      <th>4</th>\n",
       "      <td>BIT</td>\n",
       "      <td>Amy</td>\n",
       "    </tr>\n",
       "  </tbody>\n",
       "</table>\n",
       "</div>"
      ],
      "text/plain": [
       "  Degree First_Name\n",
       "A    BSc       John\n",
       "D    BSc     Sophia\n",
       "4    BIT        Amy"
      ]
     },
     "execution_count": 44,
     "metadata": {},
     "output_type": "execute_result"
    }
   ],
   "source": [
    "df.sort_index(axis=1, ascending=True)"
   ]
  },
  {
   "cell_type": "markdown",
   "id": "6ef03e25",
   "metadata": {},
   "source": [
    "DataFrame.sort_values() třídí podle hodnot:"
   ]
  },
  {
   "cell_type": "code",
   "execution_count": null,
   "id": "d817b8f0",
   "metadata": {},
   "outputs": [
    {
     "data": {
      "text/html": [
       "<div>\n",
       "<style scoped>\n",
       "    .dataframe tbody tr th:only-of-type {\n",
       "        vertical-align: middle;\n",
       "    }\n",
       "\n",
       "    .dataframe tbody tr th {\n",
       "        vertical-align: top;\n",
       "    }\n",
       "\n",
       "    .dataframe thead th {\n",
       "        text-align: right;\n",
       "    }\n",
       "</style>\n",
       "<table border=\"1\" class=\"dataframe\">\n",
       "  <thead>\n",
       "    <tr style=\"text-align: right;\">\n",
       "      <th></th>\n",
       "      <th>First_Name</th>\n",
       "      <th>Degree</th>\n",
       "    </tr>\n",
       "  </thead>\n",
       "  <tbody>\n",
       "    <tr>\n",
       "      <th>4</th>\n",
       "      <td>Amy</td>\n",
       "      <td>BIT</td>\n",
       "    </tr>\n",
       "    <tr>\n",
       "      <th>A</th>\n",
       "      <td>John</td>\n",
       "      <td>BSc</td>\n",
       "    </tr>\n",
       "    <tr>\n",
       "      <th>D</th>\n",
       "      <td>Sophia</td>\n",
       "      <td>BSc</td>\n",
       "    </tr>\n",
       "  </tbody>\n",
       "</table>\n",
       "</div>"
      ],
      "text/plain": [
       "  First_Name Degree\n",
       "4        Amy    BIT\n",
       "A       John    BSc\n",
       "D     Sophia    BSc"
      ]
     },
     "execution_count": 45,
     "metadata": {},
     "output_type": "execute_result"
    }
   ],
   "source": [
    "df.sort_values(by=\"First_Name\")"
   ]
  },
  {
   "cell_type": "markdown",
   "id": "4258c923",
   "metadata": {},
   "source": [
    "### Selekce a filtrování\n",
    "Získejte položku ([]) \n",
    "Pro DataFrame, předání jediného štítku vybere sloupec a vrátí Series ekvivalentní df.A:"
   ]
  },
  {
   "cell_type": "code",
   "execution_count": 28,
   "id": "cb569c3b",
   "metadata": {},
   "outputs": [
    {
     "data": {
      "text/plain": [
       "A      John\n",
       "D    Sophia\n",
       "4       Amy\n",
       "Name: First_Name, dtype: object"
      ]
     },
     "execution_count": 28,
     "metadata": {},
     "output_type": "execute_result"
    }
   ],
   "source": [
    "df[\"First_Name\"]"
   ]
  },
  {
   "cell_type": "markdown",
   "id": "676cfae3",
   "metadata": {},
   "source": [
    "Pro DataFrame, předání řezu: vybírá odpovídající řádky:"
   ]
  },
  {
   "cell_type": "code",
   "execution_count": 29,
   "id": "5e7e55f6",
   "metadata": {},
   "outputs": [
    {
     "data": {
      "text/html": [
       "<div>\n",
       "<style scoped>\n",
       "    .dataframe tbody tr th:only-of-type {\n",
       "        vertical-align: middle;\n",
       "    }\n",
       "\n",
       "    .dataframe tbody tr th {\n",
       "        vertical-align: top;\n",
       "    }\n",
       "\n",
       "    .dataframe thead th {\n",
       "        text-align: right;\n",
       "    }\n",
       "</style>\n",
       "<table border=\"1\" class=\"dataframe\">\n",
       "  <thead>\n",
       "    <tr style=\"text-align: right;\">\n",
       "      <th></th>\n",
       "      <th>First_Name</th>\n",
       "      <th>Degree</th>\n",
       "    </tr>\n",
       "  </thead>\n",
       "  <tbody>\n",
       "    <tr>\n",
       "      <th>A</th>\n",
       "      <td>John</td>\n",
       "      <td>BSc</td>\n",
       "    </tr>\n",
       "    <tr>\n",
       "      <th>D</th>\n",
       "      <td>Sophia</td>\n",
       "      <td>BSc</td>\n",
       "    </tr>\n",
       "  </tbody>\n",
       "</table>\n",
       "</div>"
      ],
      "text/plain": [
       "  First_Name Degree\n",
       "A       John    BSc\n",
       "D     Sophia    BSc"
      ]
     },
     "execution_count": 29,
     "metadata": {},
     "output_type": "execute_result"
    }
   ],
   "source": [
    "df[0:2]"
   ]
  },
  {
   "cell_type": "markdown",
   "id": "dde90d3a",
   "metadata": {},
   "source": [
    "Filtrování"
   ]
  },
  {
   "cell_type": "code",
   "execution_count": 36,
   "id": "bed18f2e",
   "metadata": {},
   "outputs": [
    {
     "name": "stdout",
     "output_type": "stream",
     "text": [
      "      Name  Age\n",
      "1      Bob   30\n",
      "2  Charlie   35\n",
      "3   Bernie   40\n"
     ]
    }
   ],
   "source": [
    "data = {'Name': ['Alice', 'Bob', 'Charlie', 'Bernie'], 'Age': [25, 30, 35, 40]}\n",
    "df2 = pd.DataFrame(data)\n",
    "# Filtering rows where Age is greater than 30\n",
    "filtered_df = df2[df2['Age'] > 28]\n",
    "print(filtered_df)"
   ]
  },
  {
   "cell_type": "code",
   "execution_count": 38,
   "id": "d10abb13",
   "metadata": {},
   "outputs": [
    {
     "data": {
      "text/html": [
       "<div>\n",
       "<style scoped>\n",
       "    .dataframe tbody tr th:only-of-type {\n",
       "        vertical-align: middle;\n",
       "    }\n",
       "\n",
       "    .dataframe tbody tr th {\n",
       "        vertical-align: top;\n",
       "    }\n",
       "\n",
       "    .dataframe thead th {\n",
       "        text-align: right;\n",
       "    }\n",
       "</style>\n",
       "<table border=\"1\" class=\"dataframe\">\n",
       "  <thead>\n",
       "    <tr style=\"text-align: right;\">\n",
       "      <th></th>\n",
       "      <th>Name</th>\n",
       "      <th>Age</th>\n",
       "    </tr>\n",
       "  </thead>\n",
       "  <tbody>\n",
       "    <tr>\n",
       "      <th>1</th>\n",
       "      <td>Bob</td>\n",
       "      <td>30</td>\n",
       "    </tr>\n",
       "    <tr>\n",
       "      <th>3</th>\n",
       "      <td>Bernie</td>\n",
       "      <td>40</td>\n",
       "    </tr>\n",
       "  </tbody>\n",
       "</table>\n",
       "</div>"
      ],
      "text/plain": [
       "     Name  Age\n",
       "1     Bob   30\n",
       "3  Bernie   40"
      ]
     },
     "execution_count": 38,
     "metadata": {},
     "output_type": "execute_result"
    }
   ],
   "source": [
    "df2[(df2['Age'] > 28) & (df2['Name'].str.startswith('B'))]"
   ]
  },
  {
   "cell_type": "markdown",
   "id": "477e6801",
   "metadata": {},
   "source": [
    "### Indexování"
   ]
  },
  {
   "cell_type": "code",
   "execution_count": null,
   "id": "2365ba46",
   "metadata": {},
   "outputs": [
    {
     "data": {
      "text/html": [
       "<div>\n",
       "<style scoped>\n",
       "    .dataframe tbody tr th:only-of-type {\n",
       "        vertical-align: middle;\n",
       "    }\n",
       "\n",
       "    .dataframe tbody tr th {\n",
       "        vertical-align: top;\n",
       "    }\n",
       "\n",
       "    .dataframe thead th {\n",
       "        text-align: right;\n",
       "    }\n",
       "</style>\n",
       "<table border=\"1\" class=\"dataframe\">\n",
       "  <thead>\n",
       "    <tr style=\"text-align: right;\">\n",
       "      <th></th>\n",
       "      <th>Degree</th>\n",
       "      <th>First_Name</th>\n",
       "    </tr>\n",
       "  </thead>\n",
       "  <tbody>\n",
       "    <tr>\n",
       "      <th>A</th>\n",
       "      <td>BSc</td>\n",
       "      <td>John</td>\n",
       "    </tr>\n",
       "    <tr>\n",
       "      <th>D</th>\n",
       "      <td>BSc</td>\n",
       "      <td>Sophia</td>\n",
       "    </tr>\n",
       "    <tr>\n",
       "      <th>4</th>\n",
       "      <td>BIT</td>\n",
       "      <td>Amy</td>\n",
       "    </tr>\n",
       "  </tbody>\n",
       "</table>\n",
       "</div>"
      ],
      "text/plain": [
       "  Degree First_Name\n",
       "A    BSc       John\n",
       "D    BSc     Sophia\n",
       "4    BIT        Amy"
      ]
     },
     "execution_count": 48,
     "metadata": {},
     "output_type": "execute_result"
    }
   ],
   "source": [
    "df.loc[:, [\"Degree\", \"First_Name\"]]"
   ]
  },
  {
   "cell_type": "code",
   "execution_count": null,
   "id": "21648c84",
   "metadata": {},
   "outputs": [
    {
     "data": {
      "text/plain": [
       "'BSc'"
      ]
     },
     "execution_count": 49,
     "metadata": {},
     "output_type": "execute_result"
    }
   ],
   "source": [
    "df.at['A', 'Degree']"
   ]
  },
  {
   "cell_type": "code",
   "execution_count": null,
   "id": "490846bf",
   "metadata": {},
   "outputs": [
    {
     "data": {
      "text/html": [
       "<div>\n",
       "<style scoped>\n",
       "    .dataframe tbody tr th:only-of-type {\n",
       "        vertical-align: middle;\n",
       "    }\n",
       "\n",
       "    .dataframe tbody tr th {\n",
       "        vertical-align: top;\n",
       "    }\n",
       "\n",
       "    .dataframe thead th {\n",
       "        text-align: right;\n",
       "    }\n",
       "</style>\n",
       "<table border=\"1\" class=\"dataframe\">\n",
       "  <thead>\n",
       "    <tr style=\"text-align: right;\">\n",
       "      <th></th>\n",
       "      <th>First_Name</th>\n",
       "    </tr>\n",
       "  </thead>\n",
       "  <tbody>\n",
       "    <tr>\n",
       "      <th>A</th>\n",
       "      <td>John</td>\n",
       "    </tr>\n",
       "    <tr>\n",
       "      <th>D</th>\n",
       "      <td>Sophia</td>\n",
       "    </tr>\n",
       "  </tbody>\n",
       "</table>\n",
       "</div>"
      ],
      "text/plain": [
       "  First_Name\n",
       "A       John\n",
       "D     Sophia"
      ]
     },
     "execution_count": 50,
     "metadata": {},
     "output_type": "execute_result"
    }
   ],
   "source": [
    "df.iloc[0:2, 0:1]"
   ]
  },
  {
   "cell_type": "code",
   "execution_count": null,
   "id": "9de27f03",
   "metadata": {},
   "outputs": [
    {
     "data": {
      "text/plain": [
       "'BSc'"
      ]
     },
     "execution_count": 51,
     "metadata": {},
     "output_type": "execute_result"
    }
   ],
   "source": [
    "df.iat[1, 1]"
   ]
  },
  {
   "cell_type": "code",
   "execution_count": null,
   "id": "50abd176",
   "metadata": {},
   "outputs": [],
   "source": [
    "df.iat[1, 1] = 'PhD'"
   ]
  },
  {
   "cell_type": "markdown",
   "id": "bcde5df3",
   "metadata": {},
   "source": [
    "### Sloučení a spojování dat v Pandasu \n",
    "\n",
    "Tato část se zabývá technikami kombinování více DataFrame nebo Series do jednoho DataFrame. Tyto operace jsou nezbytné pro integraci datových sad a lze je provádět několika způsoby: \n",
    "#### Sloučení DataFrame: Kombinuje data na základě společného sloupce nebo indexu pomocí funkcí jako merge nebo join. Existují různé typy spojení: \n",
    "* Vnitřní spojení (`inner`): Udrží řádky, které se shodují v obou DataFrame. \n",
    "* Levé spojení (`left`): Udrží všechny řádky z levého DataFrame a shodné údaje z pravého. \n",
    "* Pravé spojení (`right`) a vnější (`outer`) spojení jsou podobné, ale liší se v pravidlech uchovávání dat."
   ]
  },
  {
   "cell_type": "code",
   "execution_count": 43,
   "id": "83acaf0b",
   "metadata": {},
   "outputs": [
    {
     "name": "stdout",
     "output_type": "stream",
     "text": [
      "Inner Merge:\n",
      "       Name  Age        Role\n",
      "0     John   28     Manager\n",
      "1  Michael   30  Developper\n",
      "2   Sophia   22     Analyst\n",
      "\n",
      "Outer Merge:\n",
      "       Name   Age        Role\n",
      "0     John  28.0     Manager\n",
      "1     Emma  26.0         NaN\n",
      "2  Michael  30.0  Developper\n",
      "3   Sophia  22.0     Analyst\n",
      "4      Bob   NaN     Analyst\n"
     ]
    }
   ],
   "source": [
    "data = {\n",
    "'Name': ['John', 'Emma', 'Michael', 'Sophia'],\n",
    "'Age': [28, 26, 30, 22],\n",
    "}\n",
    "df1 = pd.DataFrame(data)\n",
    "df2 = pd.DataFrame({\n",
    "'Name': ['John', 'Bob', 'Michael', 'Sophia'],\n",
    "'Role': ['Manager', 'Analyst', 'Developper', 'Analyst']\n",
    "})\n",
    "# Merging DataFrames on the 'Name' column (inner join)\n",
    "df_merged_inner = pd.merge(df1, df2, on='Name', how='inner')\n",
    "print(\"Inner Merge:\\n\", df_merged_inner)\n",
    "\n",
    "# Merging DataFrames with outer join\n",
    "df_merged_outer = pd.merge(df1, df2, on='Name', how='outer')\n",
    "print(\"\\nOuter Merge:\\n\", df_merged_outer)\n"
   ]
  },
  {
   "cell_type": "markdown",
   "id": "0a59021d",
   "metadata": {},
   "source": [
    "### Spojování (Contactenating)\n"
   ]
  },
  {
   "cell_type": "code",
   "execution_count": 44,
   "id": "62216e6a",
   "metadata": {},
   "outputs": [
    {
     "name": "stdout",
     "output_type": "stream",
     "text": [
      "Concatenated DataFrame:\n",
      "       Name  Years_Experience       Role\n",
      "0    Alice                 2    Manager\n",
      "1  Charlie                 3    Analyst\n",
      "2   Edward                 4  Developer\n",
      "3    Grace                 6         HR\n",
      "4     John                 5   Designer\n",
      "5     Lily                 3  Developer\n"
     ]
    }
   ],
   "source": [
    "data = {'Name': ['Alice', 'Charlie', 'Edward', 'Grace'],'Years_Experience': [2, 3, 4, 6],'Role': ['Manager', 'Analyst', 'Developer', 'HR']}\n",
    "df = pd.DataFrame(data)\n",
    "\n",
    "# New DataFrame to concatenate\n",
    "new_data = {'Name': ['John', 'Lily'],'Years_Experience': [5, 3],'Role': ['Designer', 'Developer']}\n",
    "new_df = pd.DataFrame(new_data)\n",
    "\n",
    "# Concatenate the original and new DataFrames along rows (axis=0)\n",
    "concatenated_df = pd.concat([df, new_df], axis=0, ignore_index=True)\n",
    "\n",
    "print(\"Concatenated DataFrame:\\n\", concatenated_df)"
   ]
  },
  {
   "cell_type": "markdown",
   "id": "e1427478",
   "metadata": {},
   "source": [
    "### Agregace a seskupování v Pandas jsou mocné nástroje pro analýzu a shrnutí dat. \n",
    "Seskupování umožňuje segmentovat vaše data do kategorií, zatímco agregace provádí operace (jako součet, průměr nebo počet) na těchto skupinách, aby získala poznatky. Funkce groupby() se běžně používá k seskupování dat, následovaná agregacemi, jako je sum(), mean() nebo vlastními funkcemi pro statistickou analýzu."
   ]
  },
  {
   "cell_type": "code",
   "execution_count": 57,
   "id": "679431e0",
   "metadata": {},
   "outputs": [
    {
     "name": "stdout",
     "output_type": "stream",
     "text": [
      "                Age  Salary\n",
      "Proffession                \n",
      "Administrator  40.0    45.0\n",
      "Developper     28.5    65.0\n",
      "Teacher        45.5    47.5\n",
      "              Age                 Salary                \n",
      "              min max  mean count    min max  mean count\n",
      "Proffession                                             \n",
      "Administrator  40  40  40.0     1     45  45  45.0     1\n",
      "Developper     22  35  28.5     2     60  70  65.0     2\n",
      "Teacher        35  56  45.5     2     45  50  47.5     2\n"
     ]
    }
   ],
   "source": [
    "workers=pd.DataFrame({\"Proffession\": [\"Teacher\", \"Teacher\", \"Administrator\",\n",
    " \"Developper\", \"Developper\"], \"Age\":[56, 35, 40, 22, 35], \"Salary\":[50, 45, 45,\n",
    "60, 70]})\n",
    "gr=workers.groupby(\"Proffession\").mean()\n",
    "print(gr)\n",
    "gr=workers.groupby(\"Proffession\").agg(['min', 'max', 'mean', 'count'])\n",
    "print(gr)"
   ]
  },
  {
   "cell_type": "markdown",
   "id": "23add0c6",
   "metadata": {},
   "source": [
    " Pivot Tables in Pandas: Reshape data based on column values. The .pivot_table() method is particularly powerful for creating aggregated views of data."
   ]
  },
  {
   "cell_type": "code",
   "execution_count": 52,
   "id": "f5e9a87a",
   "metadata": {},
   "outputs": [
    {
     "name": "stdout",
     "output_type": "stream",
     "text": [
      "         Date Category  Values\n",
      "0  2024-10-01        A      10\n",
      "1  2024-10-01        A      20\n",
      "2  2024-10-02        A      15\n",
      "3  2024-10-02        B      25\n",
      "\n",
      "\n",
      "Category       A     B\n",
      "Date                  \n",
      "2024-10-01  30.0   NaN\n",
      "2024-10-02  15.0  25.0\n"
     ]
    }
   ],
   "source": [
    "data = {'Date': ['2024-10-01', '2024-10-01', '2024-10-02', '2024-10-02'],'Category': ['A', 'A', 'A', 'B'],'Values': [10, 20, 15, 25]}\n",
    "df = pd.DataFrame(data)\n",
    "print(df)\n",
    "print(\"\\n\")\n",
    "pivot_table = df.pivot_table(values='Values', index='Date', columns='Category', aggfunc='sum')\n",
    "print(pivot_table)"
   ]
  },
  {
   "cell_type": "markdown",
   "id": "cfc79b36",
   "metadata": {},
   "source": [
    "## Plotting with Pandas"
   ]
  },
  {
   "cell_type": "code",
   "execution_count": 78,
   "id": "ea3c7e6b",
   "metadata": {},
   "outputs": [
    {
     "data": {
      "text/plain": [
       "<matplotlib.axes._subplots.AxesSubplot at 0x7fc5982ff8e0>"
      ]
     },
     "execution_count": 78,
     "metadata": {},
     "output_type": "execute_result"
    },
    {
     "data": {
      "image/png": "[encoded data removed]",
      "text/plain": [
       "<Figure size 640x480 with 1 Axes>"
      ]
     },
     "metadata": {},
     "output_type": "display_data"
    }
   ],
   "source": [
    "workers=pd.DataFrame({\"Proffession\": [\"Teacher\", \"Teacher\", \"Administrator\",\n",
    " \"Developper\", \"Developper\"], \"Age\":[56, 35, 40, 22, 35], \"Salary\":[50, 45, 45,\n",
    "60, 70]})\n",
    "workers.plot.bar(x='Proffession', title='Salary by Profession')"
   ]
  },
  {
   "cell_type": "markdown",
   "id": "320d317b",
   "metadata": {},
   "source": [
    "## Další populární moduly\n",
    "* Data Science and Numerical Computing\n",
    "  * SciPy: Builds on NumPy for advanced scientific computations like optimization, integration, and signal processing (https://scipy.org/).\n",
    "* Machine Learning and AI\n",
    "  * TensorFlow: A robust framework for building and training machine learning models (https://www.tensorflow.org/.)\n",
    "  * PyTorch: Popular for deep learning, offering dynamic computation graphs.\n",
    "* Web Development\n",
    "  * Flask: Lightweight web framework for building APIs and web applications (https://flask.palletsprojects.com/en/stable/).\n",
    "  * Django: Full-stack web framework with built-in ORM, admin panel, and security features.\n",
    "  * FastAPI: High-performance framework for building APIs with automatic OpenAPI documentation.\n",
    "  * Requests: Simplifies HTTP requests for web scraping and API interactions (https://docs.python-requests.org/en/latest/index.html#).\n",
    "* Database and Storage\n",
    "  * SQL Database Support\n",
    "    * SQLAlchemy: ORM and SQL toolkit (https://www.sqlalchemy.org/).\n",
    "    * psycopg2: Native PostgreSQL driver\n",
    "    * mysql-connector: Official MySQL interface (https://www.mysql.com/products/connector/).\n",
    "  * NoSQL Integration\n",
    "    * pymongo: MongoDB driver (https://pymongo.readthedocs.io/en/stable/).\n",
    "    * redis-py: Redis client\n",
    "    * cassandra-driver: Apache Cassandra interface\n",
    "  * Cloud Storage Access\n",
    "    * boto3: Amazon S3 operations\n",
    "    * google-cloud-storage: GCP storage\n",
    "    * azure-storage-blob: Azure blob storage\n",
    "* Unit testing tools\n",
    "  * unittest\tBuilt-in assertions, test case classes\tStandard testing needs\n",
    "  * PyTest\tFixtures, plugins, parameterization\tAdvanced testing scenarios\n",
    "  * nose2\tTest discovery, plugins\tExtended unittest functionality\n",
    "* GUI frameworks\n",
    "  * Tkinter\tSimple apps\tBasic widgets, easy to learn\tAll platforms\n",
    "  * PyQt/PySide\tEnterprise apps\tRich component set, Qt integration\tCross-platform\n",
    "  * wxPython\tNative look apps\tOS-native widgets\tWindows, Mac, Linux\n",
    "* Data persistence\n",
    "  * Pickle\n",
    "  * json\n",
    "  * marshal\n",
    "* BIM\n",
    "  * IfcOpenShell: The open source IFC toolkit and geometry engine (https://ifcopenshell.org/) \n",
    "\n",
    "\n",
    "\n",
    "\n"
   ]
  }
 ],
 "metadata": {
  "kernelspec": {
   "display_name": "Python 3",
   "language": "python",
   "name": "python3"
  },
  "language_info": {
   "codemirror_mode": {
    "name": "ipython",
    "version": 3
   },
   "file_extension": ".py",
   "mimetype": "text/x-python",
   "name": "python",
   "nbconvert_exporter": "python",
   "pygments_lexer": "ipython3",
   "version": "3.8.10"
  }
 },
 "nbformat": 4,
 "nbformat_minor": 5
}

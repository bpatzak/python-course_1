{
 "cells": [
  {
   "cell_type": "markdown",
   "id": "fd2592d5",
   "metadata": {},
   "source": [
    "# Programování v Pythonu 1\n",
    "\n",
    "## Obsah\n",
    "* Cíl kurzu\n",
    "* Požadavky\n",
    "* Instalace: prostředí, IDE, Jupyter Notebook\n",
    "* První kroky"
   ]
  },
  {
   "cell_type": "markdown",
   "id": "2367c6c9",
   "metadata": {},
   "source": [
    "## Cíl kurzu\n",
    "V tomto kurzu se naučíte základům programování v nejpopulárnějším jazyku Python. Dílčí cíle jsou:  \n",
    "\n",
    "* Porozumění základům: během tohoto kurzu pochopíte základní pojmy, jako jsou proměnné, datové typy, operátory, tok řízení (příkazy if-else, cykly) a základní vstupní a výstupní operace.\n",
    "* Znalost syntaxe: klíčové je seznámit se se syntaxí jazyka Python. Budete procvičovat psaní a čtení kódu jazyka Python, abyste si osvojil_a jeho strukturu a pravidla.\n",
    "* Základní datové struktury: seznámíte se základními datovými strukturami, jako jsou seznamy, tuply, slovníky a množiny, a pochopíte jejich vlastnosti a případy použití.\n",
    "* Funkce a modulární programování: pochopíte koncept funkcí, včetně definování, volání a předávání parametrů. Seznámíte s modulárním programováním a výhodami rozdělení kódu na opakovaně použitelné funkce.\n",
    "* Práce se soubory: Klíčové je porozumět tomu, jak číst ze souborů a zapisovat do nich. Seznámíte s operacemi se soubory, jako je otevírání, čtení, zápis a zavírání souborů, a také s ošetřením chyb.\n",
    "* Ladění a řešení problémů: osvojíte si dovednosti při identifikaci a řešení chyb ve svém kódu. Naučíte se techniky ladění, včetně používání chybových hlášení, příkazů pro tisk a nástrojů pro ladění.\n",
    "* Dokumentace: naučíte se psát jasné a stručné komentáře ke kódu a používat systémy pro správu verzí.\n",
    "\n",
    "## Metodické pokyny pro samostudium:\n",
    "Tento materiál má Vám pomoci doplnit znalosti Pythonu získané na přednáškách a cvičení. Pokud chcete ovládnout jakýkoliv programovací jazyk, je velice důležité abyste nechali dost času na samostudium. Materiál je rozdělen do 13 témat, se kterými se setkáte během semestru. Máte k dispozici interaktivní Jupyter Notebooky s domácími úkoly. Vřele doporučujeme se snažit je vypracovat samostatně, bez použiti Stack Overflow nebo velkých jazykových modelů jako ChatGPT, abyste opravdu porozuměli základním principům programování. "
   ]
  },
  {
   "cell_type": "markdown",
   "id": "1f62711d",
   "metadata": {},
   "source": [
    "## Požadavky a organizace kurzu\n",
    "### Vyučující\n",
    "* Bořek Patzák, borek.patzak@cvut.cz\n",
    "* XY\n",
    "\n",
    "### Liteartura\n",
    "* Podklady k přednáškám a cvičením (online)\n",
    "* C. Horstmann: Python for everyone\n",
    "* Python.org tutorial\n",
    "\n",
    "### Požadavky\n",
    "* Úspěšné vypracování semestrální úlohy\n"
   ]
  },
  {
   "cell_type": "markdown",
   "id": "01f7609e",
   "metadata": {},
   "source": [
    "## Proč Python?\n",
    "Python je dlouhodobě nejpopulárnější programovací jazyk, vhodný pro vývoj multiplatformních alikací, integraci ale i numerické výpočty. [TIOBE index](https://www.tiobe.com/tiobe-index/) ilustruje popularitu jednotlivých jazyků:\n",
    "\n",
    "![TIOBE index](Figures/TIOBE-index.png)\n",
    "\n",
    "\n",
    "## O jazyku Python\n",
    "* Jednoduchá, kompaktní syntaxe\n",
    "* Multiplatformní, interaktivní interpretovaný jazyk \n",
    "* Podobný koncept jako v jiných jazycích (Java, C++, C#)\n",
    "* Rozsáhlá knihovna modulů\n",
    "* Velká komunita vývojářů a uživatelů\n",
    "\n",
    "* Garbage collection (jako Matlab, Java) \n",
    "* Dynamické typování (jako Matlab, na rozdíl od Javy) \n",
    "* Kompiluje se do bytecode (jako Java, Matlab v některých případech) \n",
    "* Objektově orientované programování (jako Java, na rozdíl od Matlabu) \n",
    "* Má koncept referencí (jako Java, na rozdíl od Matlabu) \n",
    "\n",
    "![Porovnání některých používaných jazyků](Figures/ComparingLanguages.png)\n",
    "\n"
   ]
  },
  {
   "cell_type": "markdown",
   "id": "8e581efc",
   "metadata": {},
   "source": [
    "## Instalace\n",
    "* Python lze do počítače nainstalovat několika způsoby. Můžete si vybrat některou z následujících možností:\n",
    "  * Pomocí oficiálního [instalačního programu Pythonu](https://www.python.org/downloads/)\n",
    "  * Pomocí distribučního balíčku: některédistribuce, jako například [Anaconda](https://docs.anaconda.com/anaconda/install/windows/) obsahují Python a vybrané balíčky a nástroje.\n",
    "\n",
    "* Použití cloudového prostředí: Některácloudová prostředí, například [Google colab](http://colab.research.google.com/) nebo [Jupyter Lite](https://jupyterlite.readthedocs.io/en/stable/_static/lab/index.html) umožňují spouštět kód Pythonu přímo v prohlížeči, aniž byste museli Python instalovat na lokální počítač\n"
   ]
  },
  {
   "cell_type": "markdown",
   "id": "1fe3df42",
   "metadata": {},
   "source": [
    "### Integrated development environment (IDE)\n",
    "V našem kurzu budeme používat především tzv. zápisníky Jupyter (Jupyter Notebook), které umožňují integrovat dokumentaci, kód programu a jeho výstupy. Existuje mnoho IDE, které jej podporují:\n",
    "* Visual Studio Code](https://code.visualstudio.com/) je multiplatformní editor kódu, který obsahuje podporu pro zápisníky Jupyter Notebooks prostřednictvím svého rozšíření Python.\n",
    "* Další populární IDE: [PyCharm](https://www.jetbrains.com/help/pycharm/installation-guide.html), [Spyder](https://www.spyder-ide.org/), JupyterLab.\n",
    "* [Google Colab](http://colab.research.google.com/) nebo [Jupyter Lite](https://jupyterlite.readthedocs.io/en/stable/_static/lab/index.html) spouští Jupyter Notebooks přímo v prohlížeči.\n",
    "\n",
    "\n"
   ]
  },
  {
   "cell_type": "markdown",
   "id": "a04befbb",
   "metadata": {},
   "source": [
    "## Cvičení \n",
    "* Můžete si přinést vlastní notebook pokud potřebujete pomoci s instalací\n",
    "* První kroky s Jupyter Notebookem"
   ]
  }
 ],
 "metadata": {
  "language_info": {
   "name": "python"
  }
 },
 "nbformat": 4,
 "nbformat_minor": 5
}

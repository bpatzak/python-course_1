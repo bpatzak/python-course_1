{
 "cells": [
  {
   "attachments": {},
   "cell_type": "markdown",
   "metadata": {},
   "source": [
    "# Tma 9: Testování a ládění"
   ]
  },
  {
   "attachments": {},
   "cell_type": "markdown",
   "metadata": {},
   "source": [
    "## Chyby\n",
    "### SyntaxError\n",
    "\n",
    "Pravděpodobně jste se už setkali s několika typy chyb. Například při spouštění nasledujícího kódu se vypíše chyba typu SyntaxError: "
   ]
  },
  {
   "cell_type": "code",
   "execution_count": 1,
   "metadata": {},
   "outputs": [
    {
     "ename": "SyntaxError",
     "evalue": "Missing parentheses in call to 'print'. Did you mean print(...)? (465266069.py, line 1)",
     "output_type": "error",
     "traceback": [
      "\u001b[1;36m  Cell \u001b[1;32mIn[1], line 1\u001b[1;36m\u001b[0m\n\u001b[1;33m    print[]\u001b[0m\n\u001b[1;37m    ^\u001b[0m\n\u001b[1;31mSyntaxError\u001b[0m\u001b[1;31m:\u001b[0m Missing parentheses in call to 'print'. Did you mean print(...)?\n"
     ]
    }
   ],
   "source": [
    "print[]"
   ]
  },
  {
   "attachments": {},
   "cell_type": "markdown",
   "metadata": {},
   "source": [
    "To znamená, že struktura nebo formát kódu jsou nesprávné a neodpovídají očekávané syntaxi definované jazykem Python.\n",
    "\n",
    "Mezi nejčastější příčiny chyby `SyntaxError` patří:\n",
    "\n",
    "1. Chybně napsaná klíčová slova: Použití nesprávného pravopisu klíčových slov jazyka Python nebo vyhrazených slov může vyvolat chybu `SyntaxError`. Například použití \"eli\" místo \"elif\" nebo \"int\" místo \"in\" způsobí chybu `SyntaxError`.\n",
    "\n",
    "2. Chybějící nebo nesprávně použité závorky.\n",
    "\n",
    "3. Chybějící nebo nesprávně umístěné dvojtečky: Python se spoléhá na dvojtečky při označování začátku nového bloku nebo sady kódu, například v definicích funkcí, cyklech, podmíněných souborech nebo definicích tříd. \n",
    "\n",
    "4. Chyby v odřádkování: Python používá odsazení k označení rozsahu a struktury bloků kódu. Nedůsledné nebo nesprávné odsazení, například záměna tabulátorů a mezer nebo nesprávné úrovně odsazení, může vyvolat chybu `SyntaxError`.\n",
    "\n",
    "### NameError\n",
    "\n",
    "V Pythonu `NameError` je typ chyby, která nastane, když interpret narazí na proměnnou nebo jméno, které není definováno nebo je nelze v aktuálním oboru najít. Znamená to, že jméno, které se snažíte použít, neexistuje nebo nebylo definováno před odkazem.\n"
   ]
  },
  {
   "cell_type": "code",
   "execution_count": 2,
   "metadata": {},
   "outputs": [
    {
     "ename": "NameError",
     "evalue": "name 'variable' is not defined",
     "output_type": "error",
     "traceback": [
      "\u001b[1;31m---------------------------------------------------------------------------\u001b[0m",
      "\u001b[1;31mNameError\u001b[0m                                 Traceback (most recent call last)",
      "Cell \u001b[1;32mIn[2], line 1\u001b[0m\n\u001b[1;32m----> 1\u001b[0m \u001b[39mprint\u001b[39m(variable)\n",
      "\u001b[1;31mNameError\u001b[0m: name 'variable' is not defined"
     ]
    }
   ],
   "source": [
    "print(variable)"
   ]
  },
  {
   "attachments": {},
   "cell_type": "markdown",
   "metadata": {},
   "source": [
    "\n",
    "Mezi nejčastější příčiny chyby `NameError` patří:\n",
    "\n",
    "1. Chybně napsané názvy proměnných: Pokud při pokusu o přístup k proměnné nebo její použití chybně napíšete její název, Python vyvolá chybu `NameError`. Pokud například definujete proměnnou jako `count`, ale později ji označíte jako `coutn`, dojde k chybě `NameError`.\n",
    "\n",
    "2. Chybějící přiřazení proměnné: Pokud se pokusíte použít proměnnou dříve, než jí byla přiřazena hodnota, Python vyvolá chybu `NameError`. Ujistěte se, že proměnným je přiřazena hodnota dříve, než se na ně v kódu odkazujete.\n",
    "\n",
    "3. Proměnné mimo obor: Python uplatňuje pravidla rozsahu, což znamená, že proměnné jsou přístupné pouze v rámci svého definovaného rozsahu. Pokud se pokusíte přistupovat k proměnné mimo její obor, bude vyvolána chyba `NameError`. Pokud například definujete proměnnou v rámci funkce a pokusíte se k ní přistupovat mimo tuto funkci, dojde k chybě `NameError`.\n",
    "\n",
    "4. Nesprávný název funkce nebo modulu: Pokud chybně zadáte název funkce nebo modulu, Python vyvolá chybu `NameError`, protože nemůže najít odkazovanou funkci nebo modul. Dvakrát zkontrolujte názvy svých funkcí a ujistěte se, že importujete správné moduly.\n",
    "\n",
    "5. Stínování vestavěných názvů: Pokud definujete proměnnou nebo funkci se stejným názvem jako vestavěný název Pythonu, bude stínovat nebo přepisovat vestavěný název. V důsledku toho bude odkazování na vestavěný název vyvolávat chybu `NameError`. Vyhněte se používání názvů, které jsou v rozporu s vestavěnými názvy jazyka Python.\n",
    "\n",
    "### ZeroDivisionError\n",
    "\n",
    "Chyba `ZeroDivisionError` je typ chyby, která nastane při pokusu o dělení čísla nulou. Je vyvolána, když interpret narazí na operaci dělení, při níž je dělitel (číslo, kterým dělíte) nula."
   ]
  },
  {
   "cell_type": "code",
   "execution_count": 3,
   "metadata": {},
   "outputs": [
    {
     "ename": "ZeroDivisionError",
     "evalue": "division by zero",
     "output_type": "error",
     "traceback": [
      "\u001b[1;31m---------------------------------------------------------------------------\u001b[0m",
      "\u001b[1;31mZeroDivisionError\u001b[0m                         Traceback (most recent call last)",
      "Cell \u001b[1;32mIn[3], line 1\u001b[0m\n\u001b[1;32m----> 1\u001b[0m \u001b[39m3\u001b[39;49m \u001b[39m/\u001b[39;49m \u001b[39m0\u001b[39;49m\n",
      "\u001b[1;31mZeroDivisionError\u001b[0m: division by zero"
     ]
    }
   ],
   "source": [
    "3 / 0"
   ]
  },
  {
   "attachments": {},
   "cell_type": "markdown",
   "metadata": {},
   "source": [
    "### TypeError\n",
    "\n",
    "`TypeError` je typ chyby, která nastane, když je operace nebo funkce provedena na objektu nevhodného typu. Označuje, že operandy nebo argumenty poskytnuté operaci nebo funkci nejsou kompatibilní s očekávaným typem."
   ]
  },
  {
   "cell_type": "code",
   "execution_count": 4,
   "metadata": {},
   "outputs": [
    {
     "ename": "TypeError",
     "evalue": "can only concatenate str (not \"int\") to str",
     "output_type": "error",
     "traceback": [
      "\u001b[1;31m---------------------------------------------------------------------------\u001b[0m",
      "\u001b[1;31mTypeError\u001b[0m                                 Traceback (most recent call last)",
      "Cell \u001b[1;32mIn[4], line 1\u001b[0m\n\u001b[1;32m----> 1\u001b[0m \u001b[39m\"\u001b[39;49m\u001b[39mHello World\u001b[39;49m\u001b[39m\"\u001b[39;49m \u001b[39m+\u001b[39;49m \u001b[39m3\u001b[39;49m\n",
      "\u001b[1;31mTypeError\u001b[0m: can only concatenate str (not \"int\") to str"
     ]
    }
   ],
   "source": [
    "\"Hello World\" + 3"
   ]
  },
  {
   "attachments": {},
   "cell_type": "markdown",
   "metadata": {},
   "source": [
    "\n",
    "Mezi nejčastější příčiny `TypeError` patří:\n",
    "\n",
    "1. Nesprávné typy argumentů: Pokud jsou při volání funkce nebo metody zadané argumenty jiného typu, než jaký funkce očekává, vyvolá se `TypeError`. Například předání řetězce funkci, která očekává argument v podobě celého čísla.\n",
    "\n",
    "2. Nepodporované typy operandů: Některé operace, například aritmetické operace nebo porovnávání, mohou vyžadovat specifické typy operandů. Pokud zadané operandy nejsou kompatibilní s danou operací, dojde k chybě `TypeError`. Například při pokusu o aritmetické operace s řetězcem nebo při porovnávání objektů různých typů.\n",
    "\n",
    "3. Nekompatibilní typy objektů: Některé objekty mají specifické požadavky nebo očekávání ohledně typů objektů, se kterými mohou interagovat. Pokud je při operaci nebo volání metody použit nekompatibilní objekt, může být vyvolána chyba `TypeError`. Například při pokusu o spojení seznamu a celého čísla.\n",
    "\n",
    "4. Nesprávné použití metod nebo funkcí: Při nesprávném použití metody nebo funkce může dojít k chybě `TypeError`. Může jít o předání nesprávného počtu argumentů, neuvedení povinných argumentů nebo použití nesprávných názvů argumentů.\n",
    "\n",
    "### ModuleNotFoundError\n",
    "\n",
    "`ModuleNotFoundError` je typ chyby, která nastane, když překladač nemůže najít a importovat modul, který je v kódu požadován. Znamená to, že importovaný modul nelze nalézt ve vyhledávacích cestách, kde Python hledá moduly."
   ]
  },
  {
   "cell_type": "code",
   "execution_count": 5,
   "metadata": {},
   "outputs": [
    {
     "ename": "ModuleNotFoundError",
     "evalue": "No module named 'module'",
     "output_type": "error",
     "traceback": [
      "\u001b[1;31m---------------------------------------------------------------------------\u001b[0m",
      "\u001b[1;31mModuleNotFoundError\u001b[0m                       Traceback (most recent call last)",
      "Cell \u001b[1;32mIn[5], line 1\u001b[0m\n\u001b[1;32m----> 1\u001b[0m \u001b[39mimport\u001b[39;00m \u001b[39mmodule\u001b[39;00m\n",
      "\u001b[1;31mModuleNotFoundError\u001b[0m: No module named 'module'"
     ]
    }
   ],
   "source": [
    "import module"
   ]
  },
  {
   "attachments": {},
   "cell_type": "markdown",
   "metadata": {},
   "source": [
    "\n",
    "Mezi nejčastější příčiny chyby `ModuleNotFoundError` patří:\n",
    "\n",
    "1. Chybně napsaný název modulu: Pokud při pokusu o import modulu chybně napíšete jeho název, Python vyvolá chybu `ModuleNotFoundError`. Pokud se například pokusíte importovat modul se jménem \"math\" jako \"mathh\" (`import mathh`), dojde k chybě `ModuleNotFoundError`.\n",
    "\n",
    "2. Nesprávná cesta k modulu: Pokud se modul, který se snažíte importovat, nachází v jiném adresáři, než ze kterého spouštíte skript, může být nutné zadat správnou cestu k modulu. Neuvedete-li správnou cestu k modulu, dojde k chybě `ModuleNotFoundError`.\n",
    "\n",
    "3. Chybějící nebo odinstalovaný modul: Pokud modul, který se pokoušíte importovat, není v prostředí Pythonu nainstalován, protože není součástí standardní knihovny nebo protože jste jej nenainstalovali samostatně, zobrazí se chyba `ModuleNotFoundError`. V takovém případě musíte chybějící modul nainstalovat pomocí správce balíčků, jako je například `pip`, a teprve potom jej můžete importovat.\n",
    "\n",
    "### Ostatní typy chyb\n",
    "\n",
    "Zde je několik významných typů chyb:\n",
    "\n",
    "1. `ValueError`: Tato chyba nastane, když funkce obdrží argument správného typu, ale nevhodné hodnoty. Signalizuje, že předávaná hodnota je neplatná nebo mimo přijatelný rozsah.\n",
    "\n",
    "2. `IndexError`: Tato chyba nastane při pokusu o přístup k seznamu, tuple nebo řetězci pomocí indexu, který je mimo rozsah. Signalizuje, že zadaný index je příliš velký.\n",
    "\n",
    "3. `KeyError`: Tato chyba nastane, když se pokusíte přistoupit ke slovníku pomocí klíče, který ve slovníku neexistuje. Signalizuje, že zadaný klíč se ve slovníku nenachází.\n",
    "\n",
    "4. `AttributeError`: Tato chyba nastane, když se pokusíte přistoupit nebo použít atribut nebo metodu, která u objektu neexistuje. Označuje, že objekt nemá zadaný atribut nebo metodu.\n",
    "\n",
    "5. `FileNotFoundError`: Tato chyba nastane, když se pokusíte přistoupit k souboru, který neexistuje nebo jej nelze nalézt na zadané cestě. Označuje, že soubor, ke kterému se pokoušíte přistupovat, není k dispozici.\n",
    "\n",
    "6. `IndentationError`: Tato chyba nastane, když je problém s odsazením kódu. Znamená, že kód není správně odsazen nebo že existují nekonzistentní úrovně odsazení.\n",
    "\n",
    "## Testování\n",
    "\n",
    "V modulu `my_module.py` vytvořte funkci `sum_function(string)`, která vrátí součet všech číslic v řetězci.\n",
    "\n",
    "### Ruční testování"
   ]
  },
  {
   "cell_type": "code",
   "execution_count": 4,
   "metadata": {},
   "outputs": [
    {
     "data": {
      "text/plain": [
       "10"
      ]
     },
     "execution_count": 4,
     "metadata": {},
     "output_type": "execute_result"
    }
   ],
   "source": [
    "from my_module import sum_digits\n",
    "sum_digits('Hello World! 1, 2, 3, 4')"
   ]
  },
  {
   "attachments": {},
   "cell_type": "markdown",
   "metadata": {},
   "source": [
    "### Automaticke spuštění testu\n",
    "\n",
    "Pokud přidáme na konec souboru `my_module.py`\n",
    "\n",
    "```python\n",
    "if __name__ == '__main__':\n",
    "    print(sum_digits('Hello World! 1, 2, 3, 4'))\n",
    "```\n",
    "\n",
    "testovací kód se spustí, když spustíme skript `my_module.py` přímo:"
   ]
  },
  {
   "cell_type": "code",
   "execution_count": 1,
   "metadata": {},
   "outputs": [
    {
     "name": "stdout",
     "output_type": "stream",
     "text": [
      "10\n"
     ]
    }
   ],
   "source": [
    "%run my_module.py"
   ]
  },
  {
   "attachments": {},
   "cell_type": "markdown",
   "metadata": {},
   "source": [
    "### Testování pomocí modulu `doctest`\n",
    "\n",
    "Modul `doctest` je testovací framework, který umožňuje psát testy přímo v dokumentačních řetězcích kódu (docstrings). Poskytuje způsob, jak vytvářet testy, které jsou vloženy do dokumentace kódu a mohou být automaticky prováděny a ověřovány.\n",
    "\n",
    "Modul `doctest` funguje následovně:\n",
    "\n",
    "1. Psaní testů: Testy píšete ve formě interaktivních příkladů v rámci docstringů vašich funkcí, modulů nebo tříd. Každý testovací příklad se skládá z výrazu nebo příkazu jazyka Python, za kterým následuje očekávaný výstup. \n",
    "\n",
    "2. Spouštění testů: Pro spuštění testů můžete použít funkci `doctest.testmod()`, která automaticky objeví a provede testy v docstrings. Tato funkce vyhledá docstringy, které obsahují příklady testů, a provede úryvky kódu, přičemž porovná skutečný výstup s očekávaným výstupem.\n",
    "\n",
    "3. Zpráva o testech: Modul `doctest` informuje o výsledcích testů, včetně počtu provedených testů, počtu selhání a všech výjimek vyvolaných během provádění testu. \n",
    "\n",
    "Hlavní výhodou použití modulu `doctest` je, že testy jsou umístěny v dokumentaci kódu, což usnadňuje údržbu testů společně s kódem. Podporuje samostatnou a aktuální dokumentaci, která zároveň slouží jako spustitelné testy.\n",
    "\n",
    "Zde je příklad, který ilustruje použití `doctest`:\n",
    "\n",
    "```python\n",
    "def add(a, b):\n",
    "    \"\"\"\n",
    "    Function to add two numbers.\n",
    "    Examples:\n",
    "    >>> add(2, 3)\n",
    "    5\n",
    "    >>> add(5, -2)\n",
    "    3\n",
    "    \"\"\"\n",
    "    return a + b\n",
    "\n",
    "if __name__ == \"__main__\":\n",
    "    import doctest\n",
    "    doctest.testmod()\n",
    "```\n",
    "\n",
    "V tomto příkladu má funkce `add()` doctecstringy, které obsahují příklady testů. Funkce `doctest.testmod()` slouží ke spuštění testů. Po spuštění funkce `doctest` objeví testy v docstrings, provede úryvky kódu a porovná výsledky s očekávaným výstupem.\n",
    "\n",
    "Spuštěním skriptu modul `doctest` provede testy a poskytne souhrn výsledků testů. Pokud všechny testy projdou, není generován žádný výstup. Pokud některý test selže, modul `doctest` vyvolá výjimku a zobrazí podrobnosti o selhání.\n",
    "\n",
    "Modul `doctest` je odlehčený testovací rámec vhodný pro jednoduché a samostatné testy vložené do řetězců dokumentů. Pro složitější testovací scénáře můžete zvážit použití specializovaných testovacích frameworků, jako je `unittest`."
   ]
  },
  {
   "cell_type": "code",
   "execution_count": 7,
   "metadata": {},
   "outputs": [
    {
     "name": "stdout",
     "output_type": "stream",
     "text": [
      "Trying:\n",
      "    add(2, 3)\n",
      "Expecting:\n",
      "    5\n",
      "ok\n",
      "Trying:\n",
      "    add(5, -2)\n",
      "Expecting:\n",
      "    3\n",
      "ok\n",
      "1 items had no tests:\n",
      "    __main__\n",
      "1 items passed all tests:\n",
      "   2 tests in __main__.add\n",
      "2 tests in 2 items.\n",
      "2 passed and 0 failed.\n",
      "Test passed.\n"
     ]
    }
   ],
   "source": [
    "%run Data/module_with_doctest.py -v"
   ]
  },
  {
   "attachments": {},
   "cell_type": "markdown",
   "metadata": {},
   "source": [
    "## Výjimky (Exceptions)\n",
    "\n",
    "Výjimky jsou v jazyce Python mechanismem pro zpracování a hlášení chyb, které se vyskytnou během provádění programu. Když nastane výjimečný stav, je vyvolán objekt výjimky, který lze následně zachytit a zpracovat příslušným kódem. Výjimky jsou reprezentovány třídami a každý typ chyby má svou vlastní odpovídající třídu výjimek. Už jsme posali řádu vestavěných typů výjimek jako `ZeroDivisionError`, `TypeError`, `ValueError`, atd. Můžete si také vytvořit vlastní třídy výjimek pro zpracování specifických typů chyb v kódu.\n",
    "\n",
    "**Vyvolání výjimek**: Výjimky lze vyvolat explicitně pomocí příkazu `raise`. Když nastane výjimečný stav, můžete vyvoláním výjimky přerušit normální průběh provádění a předat řízení obsluze výjimky."
   ]
  },
  {
   "cell_type": "code",
   "execution_count": 5,
   "metadata": {},
   "outputs": [
    {
     "ename": "ValueError",
     "evalue": "The input value is not a digit.",
     "output_type": "error",
     "traceback": [
      "\u001b[1;31m---------------------------------------------------------------------------\u001b[0m",
      "\u001b[1;31mValueError\u001b[0m                                Traceback (most recent call last)",
      "Cell \u001b[1;32mIn[5], line 3\u001b[0m\n\u001b[0;32m      1\u001b[0m a \u001b[39m=\u001b[39m \u001b[39minput\u001b[39m(\u001b[39m'\u001b[39m\u001b[39mInput a digit from 0-9: \u001b[39m\u001b[39m'\u001b[39m)\n\u001b[0;32m      2\u001b[0m \u001b[39mif\u001b[39;00m a \u001b[39mnot\u001b[39;00m \u001b[39min\u001b[39;00m \u001b[39m'\u001b[39m\u001b[39m012345679\u001b[39m\u001b[39m'\u001b[39m:\n\u001b[1;32m----> 3\u001b[0m     \u001b[39mraise\u001b[39;00m \u001b[39mValueError\u001b[39;00m(\u001b[39m'\u001b[39m\u001b[39mThe input value is not a digit.\u001b[39m\u001b[39m'\u001b[39m)\n",
      "\u001b[1;31mValueError\u001b[0m: The input value is not a digit."
     ]
    }
   ],
   "source": [
    "a = input('Input a digit from 0-9: ')\n",
    "if a not in '012345679':\n",
    "    raise ValueError('The input value is not a digit.')"
   ]
  },
  {
   "attachments": {},
   "cell_type": "markdown",
   "metadata": {},
   "source": [
    "**Obsluha výjimek**: Obsluha výjimek umožňuje řízeně zachytávat a zpracovávat výjimky. Můžete použít blok `try-except` pro zachycení konkrétních výjimek nebo obecnější blok `except` pro zachycení jakékoli výjimky. Uvnitř bloku `except` můžete zadat kód pro zpracování výjimky, například protokolování chybové zprávy, opakování operace nebo provedení jiné vhodné akce."
   ]
  },
  {
   "cell_type": "code",
   "execution_count": 3,
   "metadata": {},
   "outputs": [
    {
     "name": "stdout",
     "output_type": "stream",
     "text": [
      "Result: 5.0\n",
      "Error: Division by zero is not allowed.\n"
     ]
    }
   ],
   "source": [
    "def divide(a, b):\n",
    "    try:\n",
    "        result = a / b\n",
    "        print(\"Result:\", result)\n",
    "    except ZeroDivisionError:\n",
    "        print(\"Error: Division by zero is not allowed.\")\n",
    "\n",
    "divide(10, 2)   # Result: 5.0\n",
    "divide(10, 0)   # Error: Division by zero is not allowed."
   ]
  },
  {
   "attachments": {},
   "cell_type": "markdown",
   "metadata": {},
   "source": [
    "**Obsluha více výjimek**: Výjimky můžete zpracovávat vícekrát, a to zadáním více bloků `except`, z nichž každý odpovídá určitému typu výjimky. To vám umožní zajistit různou logiku obsluhy pro různé typy výjimek.\n"
   ]
  },
  {
   "cell_type": "code",
   "execution_count": 8,
   "metadata": {},
   "outputs": [
    {
     "name": "stdout",
     "output_type": "stream",
     "text": [
      "Error: Only division of numerical values is allowed.\n"
     ]
    }
   ],
   "source": [
    "def divide(a, b):\n",
    "    try:\n",
    "        result = a / b\n",
    "        print(\"Result:\", result)\n",
    "    except ZeroDivisionError:\n",
    "        print(\"Error: Division by zero is not allowed.\")\n",
    "    except TypeError:\n",
    "        print(\"Error: Only division of numerical values is allowed.\")\n",
    "\n",
    "divide(10, 'Hello World!')   # Error: Only division of numerical values is allowed."
   ]
  },
  {
   "attachments": {},
   "cell_type": "markdown",
   "metadata": {},
   "source": [
    "**Úklid pomocí funkce `finally`**: Blok `finally` je volitelný blok, který lze použít ve spojení s blokem `try-except`. Kód uvnitř bloku `finally` se provede bez ohledu na to, zda došlo k výjimce, nebo ne. Běžně se používá pro úklidové operace, jako je zavírání souborů nebo uvolňování prostředků."
   ]
  },
  {
   "cell_type": "code",
   "execution_count": 8,
   "metadata": {},
   "outputs": [
    {
     "name": "stdout",
     "output_type": "stream",
     "text": [
      "Result: 5.0\n",
      "Finally block executed.\n",
      "Error: Division by zero is not allowed.\n",
      "Finally block executed.\n"
     ]
    }
   ],
   "source": [
    "def divide(a, b):\n",
    "    try:\n",
    "        result = a / b\n",
    "        print(\"Result:\", result)\n",
    "    except ZeroDivisionError:\n",
    "        print(\"Error: Division by zero is not allowed.\")\n",
    "    finally:\n",
    "        print(\"Finally block executed.\")\n",
    "\n",
    "divide(10, 2)   # Result: 5.0, Finally block executed.\n",
    "divide(10, 0)   # Error: Division by zero is not allowed., Finally block executed."
   ]
  },
  {
   "attachments": {},
   "cell_type": "markdown",
   "metadata": {},
   "source": [
    "## Modul `pdb`"
   ]
  },
  {
   "attachments": {},
   "cell_type": "markdown",
   "metadata": {},
   "source": [
    "Modul `pdb` poskytuje vestavěný ladicí program, který umožňuje interaktivní ladění kódu. Umožňuje pozastavit provádění programu, kontrolovat proměnné a výrazy, procházet kód řádek po řádku a identifikovat a opravovat problémy.\n",
    "\n",
    "Zde je základní přehled použití modulu `pdb`:\n",
    "\n",
    "1. Import modulu `pdb`: Začněte importem modulu `pdb` na začátku skriptu.\n",
    "\n",
    "```python\n",
    "import pdb\n",
    "```\n",
    "\n",
    "2. Nastavte bod přerušení: Pro pozastavení provádění kódu na určitém místě můžete vložit příkaz `pdb.set_trace()` na požadované místo v kódu.\n",
    "\n",
    "```python\n",
    "pdb.set_trace()\n",
    "```\n",
    "\n",
    "3. Spusťte svůj program: Spusťte svůj program jako obvykle. Jakmile se objeví příkaz `pdb.set_trace()`, provádění programu se pozastaví a zobrazí se výzva ladicího programu.\n",
    "\n",
    "4. Příkazy pro ladění: Jakmile se zobrazí výzva ladicího programu, můžete použít různé příkazy pro interakci s ladicím programem. Mezi běžné příkazy patří např:\n",
    "\n",
    "   - `n` nebo `next`: Provede aktuální řádek a přejde na další řádek.\n",
    "   - `s` nebo `step`: Krok do volání funkce nebo metody.\n",
    "   - `c` nebo `continue`: Pokračuje ve vykonávání až do dalšího bodu přerušení nebo do konce programu.\n",
    "   - `p <výraz>` nebo `print <výraz>`: Vypíše hodnotu zadaného výrazu.\n",
    "   - `l` nebo `list`: Zobrazí aktuální řádek a okolní kód.\n",
    "   - `q` nebo `quit`: Ukončí ladění a ukončí program.\n",
    "\n",
    "5. Kontrola proměnných: V okně debuggeru můžete zkoumat hodnoty proměnných zadáním jejich názvů nebo příkazem `p` následovaným názvem proměnné.\n",
    "\n",
    "6. Pokračovat v ladění: Můžete pokračovat v procházení kódu, kontrole proměnných a provádění změn, dokud problém neidentifikujete a nevyřešíte. Po ukončení ladění můžete nechat program běžet až do konce nebo jej ručně ukončit."
   ]
  }
 ],
 "metadata": {
  "kernelspec": {
   "display_name": "Python 3",
   "language": "python",
   "name": "python3"
  },
  "language_info": {
   "codemirror_mode": {
    "name": "ipython",
    "version": 3
   },
   "file_extension": ".py",
   "mimetype": "text/x-python",
   "name": "python",
   "nbconvert_exporter": "python",
   "pygments_lexer": "ipython3",
   "version": "3.8.10"
  },
  "orig_nbformat": 4
 },
 "nbformat": 4,
 "nbformat_minor": 2
}

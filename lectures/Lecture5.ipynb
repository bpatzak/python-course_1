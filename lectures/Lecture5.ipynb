{
 "cells": [
  {
   "cell_type": "markdown",
   "id": "91538263",
   "metadata": {},
   "source": [
    "# Lekce 5 - Práce se soubory, formátování \n",
    "Práce se soubory v jazyce Python zahrnuje čtení dat ze souborů, zápis dat do \n",
    "souborů a různé způsoby manipulace se soubory. Dnes se naučíme:\n",
    " * Formátovat výstup funkce print\n",
    " * Otvírat/čist/psát/ukládat soubory různých typů\n"
   ]
  },
  {
   "cell_type": "markdown",
   "id": "a4b62a94",
   "metadata": {},
   "source": [
    "Tisk informací, ať už na obrazovku nebo do souboru patří mezi nejčastější úkony\n",
    "Funkce `print` posílá výstup do souboru *sys.stdout*, který je přesměrován na terminálový výstup\n",
    "\n",
    "Celou syntaxi a d dokumentaci k finkci print získáme pomocí příkazu `help`"
   ]
  },
  {
   "cell_type": "code",
   "execution_count": 7,
   "id": "9df1b69a",
   "metadata": {},
   "outputs": [
    {
     "name": "stdout",
     "output_type": "stream",
     "text": [
      "Help on built-in function print in module builtins:\n",
      "\n",
      "print(...)\n",
      "    print(value, ..., sep=' ', end='\\n', file=sys.stdout, flush=False)\n",
      "    \n",
      "    Prints the values to a stream, or to sys.stdout by default.\n",
      "    Optional keyword arguments:\n",
      "    file:  a file-like object (stream); defaults to the current sys.stdout.\n",
      "    sep:   string inserted between values, default a space.\n",
      "    end:   string appended after the last value, default a newline.\n",
      "    flush: whether to forcibly flush the stream.\n",
      "\n"
     ]
    }
   ],
   "source": [
    "help(print)"
   ]
  },
  {
   "cell_type": "code",
   "execution_count": 8,
   "id": "f2df79c5",
   "metadata": {},
   "outputs": [
    {
     "name": "stdout",
     "output_type": "stream",
     "text": [
      "1:2:3:4:5\n",
      "First output|Second output\n"
     ]
    }
   ],
   "source": [
    "print(1,2,3,4,5,sep=':')\n",
    "print(\"First output\", end=\"|\")\n",
    "print(\"Second output\")"
   ]
  },
  {
   "cell_type": "markdown",
   "id": "f304c510",
   "metadata": {},
   "source": [
    "### Formátování výstupu\n",
    "Existují dvě syntaxe pro formátování výstupu\n",
    "* originální \n",
    "* nová python3 syntaxe s použitím tzv. string formatting "
   ]
  },
  {
   "cell_type": "code",
   "execution_count": 9,
   "id": "0607c000",
   "metadata": {},
   "outputs": [
    {
     "name": "stdout",
     "output_type": "stream",
     "text": [
      "My integer is: 42, my float is 3.142\n",
      "My integer is: 42, my float is 3.142\n"
     ]
    }
   ],
   "source": [
    "print(\"My integer is: %d, my float is %4.3f\" % (42, 3.141592653589793))\n",
    "print(\"My integer is: {}, my float is {:4.3f}\".format(42, 3.141592653589793))"
   ]
  },
  {
   "cell_type": "markdown",
   "id": "d96aa4eb",
   "metadata": {},
   "source": [
    "Specifikace formátu (část následující za dvojtečkou uvnitř složených závorek) má následující syntaxi:\n",
    "\n",
    "```python\n",
    "format_spec ::=  [[fill]align][sign][#][0][width][,][.precision][type]\n",
    "fill        ::=  <any character>\n",
    "align       ::=  \"<\" | \">\" | \"=\" | \"^\"\n",
    "sign        ::=  \"+\" | \"-\" | \" \"\n",
    "width       ::=  integer\n",
    "precision   ::=  integer\n",
    "type        ::=  \"b\" | \"c\" | \"d\" | \"e\" | \"E\" | \"f\" | \"F\" | \"g\" | \"G\" | \"n\" | \"o\" | \"s\" | \"x\" | \"X\" | \"%\"\n",
    "```\n",
    "\n",
    "Pro plnou referenci můžete použít odkaz https://docs.python.org/3/library/string.html#format-string-syntax"
   ]
  },
  {
   "cell_type": "markdown",
   "id": "99d76685",
   "metadata": {},
   "source": [
    "## Práce se soubory\n",
    "* Každý vstup nebo výstup je prováěn prostřednictvím souborů (file). Výstup na obrazovku a a vstup z klávesnice je prostřednictvím defaultních souborů *sys.stdout* a *sys.stdin*\n",
    "* Soubory *sys.stdout* and *sys.stdin* jsou k dispozici defaultně, nemusí se otvírat ani zavírat\n",
    "* Práce se souborem začíná jeho otevřením pomocí funkce **open()**: *file_handle = open(filename_string, mode_string)*\n",
    "* Základní módy jsou \"r\" pro čtení (reading), \"w\" pro zápis (write) a \"a\" pro přidávání (append) k existujícímu obsahu souboru\n",
    "* Po ukončení práce se souborem, je nutno jej zavřít pomocí funkce **close**\n",
    "\n",
    "Funkce open vrací hodnotu typu soubor, která poskytuje následující metody:\n",
    " * read(n): přečte n znaků nebo pokud není n specifikováno, přečte celý obsah souboru jako řetězec.\n",
    " * readline(): pro čtení jednoho řádku po druhém nebo\n",
    " * readlines(): pro čtení všech řádků do seznamu.\n",
    " * write(): pro zápis obsahu do souboru\n",
    " * close(): pro zavření souboru\n"
   ]
  },
  {
   "cell_type": "code",
   "execution_count": null,
   "id": "40214a08",
   "metadata": {},
   "outputs": [
    {
     "name": "stdout",
     "output_type": "stream",
     "text": [
      "Earth has a diameter at the Equator of about 12,756 kilometers, making it the fifth largest planet in the solar system. \n",
      "Earth’s mass is about 5.97 ⨉ 1024 kilograms. \n"
     ]
    }
   ],
   "source": [
    "# Open the file\n",
    "file = open('Data/message.txt', 'r')\n",
    "\n",
    "# Read the whole file in one operation\n",
    "content = file.read()\n",
    "print(content)\n",
    "file.close()"
   ]
  },
  {
   "cell_type": "code",
   "execution_count": 12,
   "id": "e1c3cb5e",
   "metadata": {},
   "outputs": [
    {
     "name": "stdout",
     "output_type": "stream",
     "text": [
      "Earth has a diameter at the Equator of about 12,756 kilometers, making it the fifth largest planet in the solar system. \n",
      "\n",
      "Earth’s mass is about 5.97 ⨉ 1024 kilograms. \n"
     ]
    }
   ],
   "source": [
    "file1 = open( \"Data/message.txt\", 'r' )\n",
    "line = file1.readline()\n",
    "while line:\n",
    "    print(line)\n",
    "    line = file1.readline()\n",
    "\n",
    "file1.close()"
   ]
  },
  {
   "cell_type": "markdown",
   "id": "5eeebd60",
   "metadata": {},
   "source": [
    "Dokonce můžete iterovat přez soubor"
   ]
  },
  {
   "cell_type": "code",
   "execution_count": 14,
   "id": "4ffc3edc",
   "metadata": {},
   "outputs": [
    {
     "name": "stdout",
     "output_type": "stream",
     "text": [
      "Earth has a diameter at the Equator of about 12,756 kilometers, making it the fifth largest planet in the solar system.\n",
      "Earth’s mass is about 5.97 ⨉ 1024 kilograms.\n"
     ]
    }
   ],
   "source": [
    "file1 = open( \"Data/message.txt\", 'r' )\n",
    "\n",
    "for line in file1:\n",
    "    print(line.rstrip())\n",
    "\n",
    "file1.close()"
   ]
  },
  {
   "cell_type": "markdown",
   "id": "2c840f35",
   "metadata": {},
   "source": [
    "## Zápis do souboru\n",
    "Chcete-li zapsat data do souboru, otevřete jej v režimu \n",
    "zápisu (\"w\", \"a\"), použijte metodu `write()` pro zápis dat a \n",
    "poté soubor zavřete pomocí metody `close()`. Případně \n",
    "můžete použít příkaz `with`, který soubor po dokončení \n",
    "automaticky uzavře.\n",
    "\n",
    "V3imn2te si že funkce write vyžaduje explicitní ukončení každého řádku pomocí znaku `\\n`"
   ]
  },
  {
   "cell_type": "code",
   "execution_count": 15,
   "id": "c4d2256c",
   "metadata": {},
   "outputs": [],
   "source": [
    "# Open, write, and close\n",
    "file = open('myfile.txt', 'w')\n",
    "file.write(\"My test output\\n\")\n",
    "file.write(\"The magic number is: {}\\n\".format(42))\n",
    "file.close()"
   ]
  },
  {
   "cell_type": "code",
   "execution_count": null,
   "id": "a421cb16",
   "metadata": {},
   "outputs": [
    {
     "name": "stdout",
     "output_type": "stream",
     "text": [
      "My test output\n",
      "The magic number is: 42\n",
      "\n",
      "\n"
     ]
    }
   ],
   "source": [
    "with open('myfile.txt', 'r') as file:\n",
    "    print (file.read())"
   ]
  },
  {
   "cell_type": "markdown",
   "id": "50c3d34a",
   "metadata": {},
   "source": [
    "Alternativou k funkci write je funkce print s tím, že výstup je třeba do souboru přesměrovat, jinak jde výstup do defaultního souboru *sys.stdout*!\n",
    "    * Funkce print také defaultně připojuje znak konce souboru\n",
    "    * Nezapisování konce řádku můžete vynutit pridáním volitelného argumentu `end=''`"
   ]
  },
  {
   "cell_type": "code",
   "execution_count": 16,
   "id": "24b932e4",
   "metadata": {},
   "outputs": [],
   "source": [
    "# Open, write, and close\n",
    "file2 = open('myfile.txt', 'w')\n",
    "print(\"My test output\", file=file2)\n",
    "print(\"The magic number is: {}\\n\".format(42), file=file2)\n",
    "file2.close()"
   ]
  },
  {
   "cell_type": "markdown",
   "id": "9c71bbd4",
   "metadata": {},
   "source": [
    "Existují specializované moduly pro čtení specializovaných formátů.\n",
    "Například\n",
    "* Modul `csv` poskytuje funkce pro čtení ze souborů CSV a zápis do nich\n",
    "* Modul `json` pro čtení a zápis do strukturovaných json souborů\n",
    "* Modul `pickle` pro serializaci a deserializaci komplexních typů"
   ]
  }
 ],
 "metadata": {
  "kernelspec": {
   "display_name": "Python 3",
   "language": "python",
   "name": "python3"
  },
  "language_info": {
   "codemirror_mode": {
    "name": "ipython",
    "version": 3
   },
   "file_extension": ".py",
   "mimetype": "text/x-python",
   "name": "python",
   "nbconvert_exporter": "python",
   "pygments_lexer": "ipython3",
   "version": "3.8.10"
  }
 },
 "nbformat": 4,
 "nbformat_minor": 5
}

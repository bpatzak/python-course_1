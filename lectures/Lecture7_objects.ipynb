{
 "cells": [
  {
   "attachments": {},
   "cell_type": "markdown",
   "metadata": {},
   "source": [
    "# Týden 7. Objekty"
   ]
  },
  {
   "attachments": {},
   "cell_type": "markdown",
   "metadata": {},
   "source": [
    "## Výchozí třídy objektů\n",
    "V jazyce Python je vše objektem. Objekty jsou instance tříd a jsou základními stavebními kameny programů v jazyce Python. Zapouzdřují data (atributy) a chování (metody) související s určitým konceptem nebo entitou. Už jsme se setkáli s různymi třídami Pythonu, které představují různé typy dat.\n",
    "\n",
    "Jedním z příkladů objektu je řetězec. Objekt je instancí třídy a třída je šablona, který definuje vlastnosti (atributy) a chování (metody), které objekty této třídy mají.\n",
    "Když v jazyce Python vytváříme řetězec, instancujeme objekt třídy `str`. Podívejme se na příklad:"
   ]
  },
  {
   "cell_type": "code",
   "execution_count": 1,
   "metadata": {},
   "outputs": [],
   "source": [
    "my_string = \"Hello, World!\""
   ]
  },
  {
   "attachments": {},
   "cell_type": "markdown",
   "metadata": {},
   "source": [
    "V tomto příkladu je `\"Hello, World!\"` anonýmní řetězec a po přiřazení do proměnné `my_string` se z něj stane objekt třídy `str`.\n",
    "\n",
    "1. Atributy: Atributy představují stav nebo vlastnosti objektu. V případě řetězcového objektu patří mezi běžné atributy délka řetězce, jeho obsah a pozice v paměti."
   ]
  },
  {
   "cell_type": "code",
   "execution_count": 6,
   "metadata": {},
   "outputs": [
    {
     "name": "stdout",
     "output_type": "stream",
     "text": [
      "<class 'str'>\n"
     ]
    }
   ],
   "source": [
    "print(my_string.__class__)  # Output: <class 'str'>"
   ]
  },
  {
   "cell_type": "code",
   "execution_count": 7,
   "metadata": {},
   "outputs": [
    {
     "name": "stdout",
     "output_type": "stream",
     "text": [
      "str(object='') -> str\n",
      "str(bytes_or_buffer[, encoding[, errors]]) -> str\n",
      "\n",
      "Create a new string object from the given object. If encoding or\n",
      "errors is specified, then the object must expose a data buffer\n",
      "that will be decoded using the given encoding and error handler.\n",
      "Otherwise, returns the result of object.__str__() (if defined)\n",
      "or repr(object).\n",
      "encoding defaults to sys.getdefaultencoding().\n",
      "errors defaults to 'strict'.\n"
     ]
    }
   ],
   "source": [
    "print(my_string.__doc__)  # Output: str(object='') -> str"
   ]
  },
  {
   "attachments": {},
   "cell_type": "markdown",
   "metadata": {},
   "source": [
    "Všimněte si, že tyto atributy jsou přístupné pomocí dvojitého podtržítka (`__`) před a za názvem atributu. Jedná se o speciální atributy v jazyce Python, které poskytují určitou funkčnost nebo informace o objektu. Metoda `__len__()` je speciální metoda, která vrací délku objektu. Je volána výchozí funkcí `len()`, když je požadována délka objektu.\n",
    "\n",
    "Když použijeme funkci `len()` na řetězcový objekt, interně zavolá metodu `__len__()` objektu, aby určila jeho délku."
   ]
  },
  {
   "cell_type": "code",
   "execution_count": 8,
   "metadata": {},
   "outputs": [
    {
     "name": "stdout",
     "output_type": "stream",
     "text": [
      "13\n"
     ]
    }
   ],
   "source": [
    "print(my_string.__len__())  # Output: 13"
   ]
  },
  {
   "cell_type": "code",
   "execution_count": 9,
   "metadata": {},
   "outputs": [
    {
     "name": "stdout",
     "output_type": "stream",
     "text": [
      "13\n"
     ]
    }
   ],
   "source": [
    "print(len(my_string))  # Output: 13"
   ]
  },
  {
   "attachments": {},
   "cell_type": "markdown",
   "metadata": {},
   "source": [
    "2. Metody: metody jsou funkce, které jsou přiřazeny k objektu a k nimž se přistupuje pomocí tečkové notace na objektu. Metody představují chování nebo akce, které může objekt provádět. V případě řetězcového objektu jsou k dispozici různé metody pro manipulaci s řetězci a práci s nimi."
   ]
  },
  {
   "cell_type": "code",
   "execution_count": 10,
   "metadata": {},
   "outputs": [
    {
     "name": "stdout",
     "output_type": "stream",
     "text": [
      "hello, world!\n",
      "HELLO, WORLD!\n",
      "False\n",
      "False\n"
     ]
    }
   ],
   "source": [
    "# String object methods\n",
    "print(my_string.lower())  # Output: hello, world!\n",
    "print(my_string.upper())  # Output: HELLO, WORLD!\n",
    "print(my_string.islower())  # Output: False\n",
    "print(my_string.isupper())  # Output: False\n"
   ]
  },
  {
   "attachments": {},
   "cell_type": "markdown",
   "metadata": {},
   "source": [
    "## Definování třídy\n",
    "V jazyce Python se objekty vytvářejí z tříd, které definují data a metody (funkce), které jsou s objektem spojeny. Chcete-li v jazyce Python definovat vlastní třídu, použijte klíčové slovo class následované názvem třídy. Chcete-li například vytvořit objekt třídy `Rectangle` s délkou `4` a šířkou `5`, použijte následující kód:"
   ]
  },
  {
   "cell_type": "code",
   "execution_count": 11,
   "metadata": {},
   "outputs": [],
   "source": [
    "class Rectangle:\n",
    "    def __init__(self, length, width):\n",
    "        self.length = length\n",
    "        self.width = width"
   ]
  },
  {
   "attachments": {},
   "cell_type": "markdown",
   "metadata": {},
   "source": [
    "Metoda `__init__()` je speciální metoda, která se volá při vytváření objektu. Slouží k inicializaci atributů (dat) objektu. Parametr `self` odkazuje na samotný objekt a slouží k přístupu k jeho atributům a metodám. \n",
    "\n",
    "### Vytvoření objektu\n",
    "\n",
    "Následující kód vytvoří instanci třídy (objekt) `rect` třídy `Rectangle` o délce `4` a šířce `5`."
   ]
  },
  {
   "cell_type": "code",
   "execution_count": 12,
   "metadata": {},
   "outputs": [],
   "source": [
    "rect = Rectangle(4, 5)"
   ]
  },
  {
   "attachments": {},
   "cell_type": "markdown",
   "metadata": {},
   "source": [
    "### Přístup k atributům objektu\n",
    "Po vytvoření objektu můžete přistupovat k jeho atributům pomocí operátoru `.` . Například pro přístup k atributu `length` objektu `rect` použijete následující kód:"
   ]
  },
  {
   "cell_type": "code",
   "execution_count": 13,
   "metadata": {},
   "outputs": [
    {
     "name": "stdout",
     "output_type": "stream",
     "text": [
      "4\n"
     ]
    }
   ],
   "source": [
    "print(rect.length)"
   ]
  },
  {
   "attachments": {},
   "cell_type": "markdown",
   "metadata": {},
   "source": [
    "### Volání metod objektu\n",
    "Objekty v jazyce Python mohou mít také metody, což jsou funkce, které pracují s daty objektu. Chcete-li zavolat metodu objektu, použijte operátor `.` následovaný názvem metody a případnými požadovanými argumenty. Například zde je třída `Rectangle` s metodou `calculate_area()`, která vypočítá plochu obdélníku:"
   ]
  },
  {
   "cell_type": "code",
   "execution_count": 20,
   "metadata": {},
   "outputs": [
    {
     "name": "stdout",
     "output_type": "stream",
     "text": [
      "20\n"
     ]
    }
   ],
   "source": [
    "class Rectangle:\n",
    "    def __init__(self, length, width):\n",
    "        self.length = length\n",
    "        self.width = width\n",
    "\n",
    "    def calculate_area(self):\n",
    "        area = self.length * self.width\n",
    "        return area\n",
    "\n",
    "rect = Rectangle(4, 5)\n",
    "area = rect.calculate_area()\n",
    "print(area)"
   ]
  },
  {
   "attachments": {},
   "cell_type": "markdown",
   "metadata": {},
   "source": [
    "Tím se vytvoří objekt `rect` třídy `Rectangle` o délce `4` a šířce `5`. Pak bychom zavolali metodu `calculate_area()` objektu `rect`, která by vypočítala plochu obdélníku (`20`) a vrátila ji do proměnné `area`. Nakonec vypíšeme hodnotu `area`, která by vypíše `20`.\n",
    " \n",
    "## Proměnné tříd a instancí\n",
    "\n",
    "Obecně, proměnné instance jsou určeny pro data jedinečná pro každou instanci a proměnné třídy jsou určeny pro atributy a metody sdílené všemi instancemi třídy. V následujícím příkladu je proměnná `kind` společná pro všechny instance třídy, zatímco proměnná `name` je jedinečná pro každou instanci."
   ]
  },
  {
   "cell_type": "code",
   "execution_count": 1,
   "metadata": {},
   "outputs": [
    {
     "name": "stdout",
     "output_type": "stream",
     "text": [
      "Feline\n",
      "Feline\n",
      "Luna\n",
      "Simba\n"
     ]
    }
   ],
   "source": [
    "class Cat:\n",
    "\n",
    "    kind = 'Feline'         # class variable shared by all instances\n",
    "\n",
    "    def __init__(self, name):\n",
    "        self.name = name    # instance variable unique to each instance\n",
    "\n",
    "a = Cat('Luna')\n",
    "b = Cat('Simba')\n",
    "\n",
    "print(a.kind)               # shared by all cats\n",
    "print(b.kind)               # shared by all cats\n",
    "print(a.name)               # unique to a\n",
    "print(b.name)               # unique to b"
   ]
  },
  {
   "attachments": {},
   "cell_type": "markdown",
   "metadata": {},
   "source": [
    "\n",
    "## Dědičnost\n",
    "\n",
    "Dědičnost tříd nám umožňuje vytvářet specializované třídy, které dědí atributy a metody ze základní třídy a zároveň přidávají své vlastní jedinečné atributy a metody. To usnadňuje psaní a údržbu složitých programů díky uspořádání kódu do modulárních, opakovaně použitelných komponent. V tomto příkladu definujeme základní třídu `Animal`, která má metodu konstruktoru `__init__()`, která přijímá parametr jméno a druh a inicializuje příslušné atributy. Definovali jsme také metodu `make_sound()`, která vypíše obecnou zprávu o tom, že zvíře vydává zvuk."
   ]
  },
  {
   "cell_type": "code",
   "execution_count": 15,
   "metadata": {},
   "outputs": [],
   "source": [
    "class Animal:\n",
    "    def __init__(self, name, species):\n",
    "        self.name = name\n",
    "        self.species = species\n",
    "\n",
    "    def make_sound(self):\n",
    "        print(\"This animal makes a sound.\")"
   ]
  },
  {
   "attachments": {},
   "cell_type": "markdown",
   "metadata": {},
   "source": [
    "Nyní můžeme definovat dvě podtřídy, `Dog` a `Cat`, které dědí od třídy `Animal`. Tyto podtřídy mají vlastní metody konstruktoru, které volají rodičovský konstruktor pomocí funkce `super()`, a přidávají další atributy (`breed`) specifické pro psy a kočky. Každá podtřída také přepisuje metodu `make_sound()`, aby poskytla specifický zvuk pro daný typ zvířete."
   ]
  },
  {
   "cell_type": "code",
   "execution_count": 16,
   "metadata": {},
   "outputs": [],
   "source": [
    "class Dog(Animal):\n",
    "    def __init__(self, name, breed):\n",
    "        super().__init__(name, \"Canine\")\n",
    "        self.breed = breed\n",
    "\n",
    "    def make_sound(self):\n",
    "        print(\"Woof!\")\n",
    "\n",
    "class Cat(Animal):\n",
    "    def __init__(self, name, breed):\n",
    "        super().__init__(name, \"Feline\")\n",
    "        self.breed = breed\n",
    "\n",
    "    def make_sound(self):\n",
    "        print(\"Meow!\")"
   ]
  },
  {
   "attachments": {},
   "cell_type": "markdown",
   "metadata": {},
   "source": [
    "Nakonec jsme vytvořili instance tříd Dog a Cat, vypsali jejich atributy a zavolali jejich metodu `make_sound()`. Po zavolání metody `make_sound()` na objektech `Dog` a `Cat` se vypíše konkrétní zvuk spojený s daným typem zvířete."
   ]
  },
  {
   "cell_type": "code",
   "execution_count": 18,
   "metadata": {},
   "outputs": [
    {
     "name": "stdout",
     "output_type": "stream",
     "text": [
      "Fido Canine Labrador\n",
      "Woof!\n",
      "Whiskers Feline Persian\n",
      "Meow!\n"
     ]
    }
   ],
   "source": [
    "dog = Dog(\"Fido\", \"Labrador\")\n",
    "cat = Cat(\"Whiskers\", \"Persian\")\n",
    "\n",
    "print(dog.name, dog.species, dog.breed)\n",
    "dog.make_sound()\n",
    "\n",
    "print(cat.name, cat.species, cat.breed)\n",
    "cat.make_sound()"
   ]
  },
  {
   "attachments": {},
   "cell_type": "markdown",
   "metadata": {},
   "source": [
    "### Cvičení\n",
    "\n",
    "Napište program v Pythonu, který definuje třídu `Person` s atributy `name` a `age`. Třída `Person` by měla mít také metodu `introduction()`, která vypíše jméno a věk osoby.\n",
    "\n",
    "Zde jsou uvedeny kroky, které je třeba provést:\n",
    "\n",
    "1. Definujte třídu Person. Tato třída by měla mít dva atributy, jméno a věk, a metodu `introduction()`, která vypíše jméno a věk osoby.\n",
    "\n",
    "2. Pomocí funkce `input()` vyzvěte uživatele k zadání jména a věku osoby.\n",
    "\n",
    "3. Vytvořte instanci třídy `Person` s použitím uživatelského vstupu jako argumentů.\n",
    "\n",
    "4. Volejte metodu `introduction()` objektu `Person`."
   ]
  },
  {
   "cell_type": "code",
   "execution_count": null,
   "metadata": {},
   "outputs": [],
   "source": [
    "\n",
    "\n",
    "\n",
    "\n",
    "\n",
    "\n",
    "\n",
    "\n",
    "\n",
    "\n",
    "\n",
    "\n"
   ]
  }
 ],
 "metadata": {
  "kernelspec": {
   "display_name": "base",
   "language": "python",
   "name": "python3"
  },
  "language_info": {
   "codemirror_mode": {
    "name": "ipython",
    "version": 3
   },
   "file_extension": ".py",
   "mimetype": "text/x-python",
   "name": "python",
   "nbconvert_exporter": "python",
   "pygments_lexer": "ipython3",
   "version": "3.10.9"
  },
  "orig_nbformat": 4
 },
 "nbformat": 4,
 "nbformat_minor": 2
}

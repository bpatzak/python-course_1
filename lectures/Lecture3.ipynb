{
 "cells": [
  {
   "cell_type": "markdown",
   "id": "0e343e00",
   "metadata": {},
   "source": [
    "# Lekce 03 Řídící příkazy \n",
    "\n",
    "Řídicí struktury slouží k řízení průběhu provádění programu \n",
    "v jazyce Python. Mezi nejzákladnější řídicí struktury patří příkazy podmínky (if/else) a \n",
    "cykly (for/while)"
   ]
  },
  {
   "cell_type": "markdown",
   "id": "6a9b4b92",
   "metadata": {},
   "source": [
    "## Podmínky (Conditionals)\n",
    "\n",
    "Příkazy `if` umožňují provést blok kódu, pokud je splněna \n",
    "určitá podmínka, případně provést blok kódu, pokud je splěna jiná podmínka (`elif`) nebo nebyla splněna žádná podmínka (`else`)"
   ]
  },
  {
   "cell_type": "code",
   "execution_count": 6,
   "id": "ce62d1d6",
   "metadata": {},
   "outputs": [
    {
     "name": "stdout",
     "output_type": "stream",
     "text": [
      "Lets print\n",
      "many lines\n"
     ]
    }
   ],
   "source": [
    "if False:\n",
    "    print('Stuff here')\n",
    "elif True:\n",
    "    print('Lets print')\n",
    "    print('many lines')\n",
    "else: print('Good bye!')"
   ]
  },
  {
   "cell_type": "code",
   "execution_count": 7,
   "id": "7a351e89",
   "metadata": {},
   "outputs": [
    {
     "name": "stdout",
     "output_type": "stream",
     "text": [
      "The number is negative.\n"
     ]
    }
   ],
   "source": [
    "num = -34\n",
    "if num > 0:\n",
    "  print(\"The number is positive.\")\n",
    "elif num < 0:\n",
    "  print(\"The number is negative.\")\n",
    "else:\n",
    "  print(\"The number is zero.\")"
   ]
  },
  {
   "cell_type": "markdown",
   "id": "67cfd134",
   "metadata": {},
   "source": [
    "### Logické operátory a výrazy\n",
    "\n"
   ]
  },
  {
   "cell_type": "code",
   "execution_count": 8,
   "id": "b94a2a7f",
   "metadata": {},
   "outputs": [
    {
     "name": "stdout",
     "output_type": "stream",
     "text": [
      "True True True\n",
      "True False\n",
      "True False\n",
      "True False\n"
     ]
    }
   ],
   "source": [
    "print( 1 in [1,2,3], 7 not in (4,3,5), 'W' in 'World' )\n",
    "print( 6 != 5, 6 == 5 )\n",
    "print( 6 >= 5, 6 <= 5 )\n",
    "print( 6 >  5, 6 <  5 )"
   ]
  },
  {
   "cell_type": "code",
   "execution_count": 9,
   "id": "c3e119f1",
   "metadata": {},
   "outputs": [
    {
     "name": "stdout",
     "output_type": "stream",
     "text": [
      "True\n",
      "True\n",
      "False\n"
     ]
    }
   ],
   "source": [
    "num = 5\n",
    "print (num > 0 and num < 10)  # True\n",
    "print (num > 0 or num < 10)   # True\n",
    "print (not (num > 0))          # False"
   ]
  },
  {
   "cell_type": "markdown",
   "id": "638311c0",
   "metadata": {},
   "source": [
    "## Smyčky (for loops)\n",
    "\n",
    "Smyčky for umožňují iterovat nad posloupností hodnot."
   ]
  },
  {
   "cell_type": "code",
   "execution_count": 34,
   "id": "ae6dd422",
   "metadata": {},
   "outputs": [
    {
     "name": "stdout",
     "output_type": "stream",
     "text": [
      "0, 1, 2, 3, 4, "
     ]
    }
   ],
   "source": [
    "for i in range(5):\n",
    "    print(i, end=', ')"
   ]
  },
  {
   "cell_type": "code",
   "execution_count": 35,
   "id": "8200e76c",
   "metadata": {},
   "outputs": [
    {
     "name": "stdout",
     "output_type": "stream",
     "text": [
      "1, 3, 5, 7, 9, "
     ]
    }
   ],
   "source": [
    "for i in range(1, 10, 2):\n",
    "    print(i, end=', ')"
   ]
  },
  {
   "cell_type": "markdown",
   "id": "9a531393",
   "metadata": {},
   "source": [
    "Smyčky umí také iterovat přímo nad podporovanými datovými strukturami, jako jsou seznamy či řetezce"
   ]
  },
  {
   "cell_type": "code",
   "execution_count": 36,
   "id": "9e4c033e",
   "metadata": {},
   "outputs": [
    {
     "name": "stdout",
     "output_type": "stream",
     "text": [
      "This\n",
      "is\n",
      "a\n",
      "list\n"
     ]
    }
   ],
   "source": [
    "foo = ['This', 'is', 'a', 'list']\n",
    "for x in foo:\n",
    "    print(x)"
   ]
  },
  {
   "cell_type": "markdown",
   "id": "d6811895",
   "metadata": {},
   "source": [
    "Ireování přez slovník (dictionary) iteruje přez klíče, pokud nespecifikujete jinak"
   ]
  },
  {
   "cell_type": "code",
   "execution_count": 37,
   "id": "886316d7",
   "metadata": {},
   "outputs": [
    {
     "name": "stdout",
     "output_type": "stream",
     "text": [
      "John\n",
      "Sara\n",
      "Lisa\n"
     ]
    }
   ],
   "source": [
    "foo = {'John': 37, 'Sara': 25, 'Lisa': 45}\n",
    "for x in foo:\n",
    "    print(x)"
   ]
  },
  {
   "cell_type": "code",
   "execution_count": 38,
   "id": "1868d8b6",
   "metadata": {},
   "outputs": [
    {
     "name": "stdout",
     "output_type": "stream",
     "text": [
      "('John', 37)\n",
      "('Sara', 25)\n",
      "('Lisa', 45)\n"
     ]
    }
   ],
   "source": [
    "foo = {'John': 37, 'Sara': 25, 'Lisa': 45}\n",
    "for x in foo.items():\n",
    "    print(x)"
   ]
  },
  {
   "cell_type": "markdown",
   "id": "2b2b97e9",
   "metadata": {},
   "source": [
    "Můžete také iterovat přez klíčě a hodnoty zároveň "
   ]
  },
  {
   "cell_type": "code",
   "execution_count": 39,
   "id": "b8ef95f2",
   "metadata": {},
   "outputs": [
    {
     "name": "stdout",
     "output_type": "stream",
     "text": [
      "John is 37 years old\n",
      "Sara is 25 years old\n",
      "Lisa is 45 years old\n"
     ]
    }
   ],
   "source": [
    "for x, y in foo.items():\n",
    "    print(x, \"is\", y, \"years old\")"
   ]
  },
  {
   "cell_type": "markdown",
   "id": "937dc7d5",
   "metadata": {},
   "source": [
    "Pokud potřebujete zároveň index a prvek, můžete použít funkci `enumerate`"
   ]
  },
  {
   "cell_type": "code",
   "execution_count": 40,
   "id": "94444563",
   "metadata": {},
   "outputs": [
    {
     "name": "stdout",
     "output_type": "stream",
     "text": [
      "counter is 0 and foo is This\n",
      "counter is 1 and foo is is\n",
      "counter is 2 and foo is a\n",
      "counter is 3 and foo is list\n"
     ]
    }
   ],
   "source": [
    "foo = ['This', 'is', 'a', 'list']\n",
    "for y, x in enumerate(foo):\n",
    "    print('counter is', y, 'and foo is', x)"
   ]
  },
  {
   "cell_type": "markdown",
   "id": "3e3c0a10",
   "metadata": {},
   "source": [
    "Pokud pořebujete iterovat zároveň přes prvky dvou kontejnerů, můžete použít funkci `zip`, která spojí dílčí hodnoty do sekvence tuplů."
   ]
  },
  {
   "cell_type": "code",
   "execution_count": 41,
   "id": "90cec0c3",
   "metadata": {},
   "outputs": [
    {
     "name": "stdout",
     "output_type": "stream",
     "text": [
      "(3, 'q')\n",
      "(7, 'w')\n",
      "(4, 'e')\n",
      "(9, 'r')\n",
      "(3, 't')\n",
      "(0, 'y')\n"
     ]
    }
   ],
   "source": [
    "x = [3, 7, 4, 9, 3, 0]\n",
    "y = \"qwerty\"\n",
    "for z in zip(x,y):\n",
    "    print(z)"
   ]
  },
  {
   "cell_type": "markdown",
   "id": "73e1529d",
   "metadata": {},
   "source": [
    "## `While` cykly\n",
    "\n",
    "Smyčky myčky while umožňují opakovaně provádět blok kódu, \n",
    "dokud je splněna určitá podmínka. Můžete také použít příkaz break s příkazem if pro \n",
    "předčasné ukončení smyčky, pokud je splněna určitá \n",
    "podmínka.\n"
   ]
  },
  {
   "cell_type": "code",
   "execution_count": 42,
   "id": "ce06df2c",
   "metadata": {},
   "outputs": [
    {
     "name": "stdout",
     "output_type": "stream",
     "text": [
      "3\n",
      "4\n",
      "5\n"
     ]
    }
   ],
   "source": [
    "num = 3\n",
    "while num <= 5:\n",
    " print(num)\n",
    " num += 1"
   ]
  },
  {
   "cell_type": "code",
   "execution_count": 43,
   "id": "3504a910",
   "metadata": {},
   "outputs": [
    {
     "name": "stdout",
     "output_type": "stream",
     "text": [
      "5\n",
      "4\n",
      "3\n",
      "2\n",
      "1\n"
     ]
    }
   ],
   "source": [
    "num=5\n",
    "while True:\n",
    " print(num)\n",
    " num=num-1\n",
    " if num <= 0:\n",
    "   break"
   ]
  },
  {
   "cell_type": "markdown",
   "id": "18356e9b",
   "metadata": {},
   "source": [
    "## List comprehension\n",
    "Je kompaktní zápis umožňující definovat seznamy"
   ]
  },
  {
   "cell_type": "code",
   "execution_count": 44,
   "id": "4f15ed23",
   "metadata": {},
   "outputs": [
    {
     "name": "stdout",
     "output_type": "stream",
     "text": [
      "[0, 1, 4, 9, 16]\n"
     ]
    }
   ],
   "source": [
    "print( [ k**2 for k in range(5) ] )"
   ]
  },
  {
   "cell_type": "code",
   "execution_count": 45,
   "id": "a35c0e0f",
   "metadata": {},
   "outputs": [
    {
     "name": "stdout",
     "output_type": "stream",
     "text": [
      "[1, 9, 25, 49, 81]\n"
     ]
    }
   ],
   "source": [
    "print( [ k**2 for k in range(10) if k % 2 != 0] )"
   ]
  },
  {
   "cell_type": "markdown",
   "id": "538ead55",
   "metadata": {},
   "source": [
    "Syntaxi je také možné použít pro slovníky a množiny (sets)"
   ]
  },
  {
   "cell_type": "code",
   "execution_count": 46,
   "id": "88f7a923",
   "metadata": {},
   "outputs": [
    {
     "name": "stdout",
     "output_type": "stream",
     "text": [
      "{0, 1, 64, 4, 36, 9, 16, 49, 81, 25}\n"
     ]
    }
   ],
   "source": [
    "print(  { k**2 for k in range(10) } )"
   ]
  }
 ],
 "metadata": {
  "kernelspec": {
   "display_name": "Python 3",
   "language": "python",
   "name": "python3"
  },
  "language_info": {
   "codemirror_mode": {
    "name": "ipython",
    "version": 3
   },
   "file_extension": ".py",
   "mimetype": "text/x-python",
   "name": "python",
   "nbconvert_exporter": "python",
   "pygments_lexer": "ipython3",
   "version": "3.8.10"
  }
 },
 "nbformat": 4,
 "nbformat_minor": 5
}

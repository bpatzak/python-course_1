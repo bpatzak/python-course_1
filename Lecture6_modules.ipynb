{
 "cells": [
  {
   "cell_type": "markdown",
   "id": "26b474d7",
   "metadata": {},
   "source": [
    "# Moduly \n",
    "Dnes se naučíme vytvářet a importovat moduly (modules) a knihovny (packages)\n",
    "* Modul je soubor obsahující definice a příkazy jazyka Python. Umožňuje opakované použití kódu v různých programech nebo projektech Pythonu.- \n",
    "* Knihovna nebo balíček je často externí kolekce modulů \n",
    "nebo balíčků, které poskytují předem napsané funkce pro řešení konkrétních \n",
    "problémů nebo provádění konkrétních úkolů. Rozšiřují funkčnost jazyka \n",
    "Python tím, že poskytují hotový kód pro různé účely. Jsou obvykle vyvíjeny a \n",
    "udržovány komunitou Pythonu nebo vývojáři třetích stran\n",
    "\n",
    "Dnes jsou balíčky dostupné prakticky pro všechno - od tvorby webového rozhranní po strojové učení.\n",
    "Dobrým startovacím místem, pokud hledáte balíček pro konrétní věc je jakýkoliv webový vyhledávač, případně také Python Package Index (https://pypi.python.org/pypi), kde je registrováno více jak 690 tisíc balíčků. Často existuje více balíčků pro daný problém. "
   ]
  },
  {
   "cell_type": "markdown",
   "id": "cabc1eb8",
   "metadata": {},
   "source": [
    "\n",
    "* Moduly mohou obsahovat funkce, třídy, proměnné a další definice, přístupné v jejich jmenném prostoru (namespace)\n",
    "* Vlastní moduly můžete vytvářet tak, že kód jazyka Python napíšete do samostatných souborů .py. \n",
    "* Chcete-li modul použít ve svém kódu, musíte jej importovat pomocí příkazu import. \n",
    "* Každý modul \n",
    "* Po importu můžete přistupovat k funkcím, třídám nebo proměnným definovaným v modulu \n",
    "pomocí názvu modulu následovaného tečkovou notací."
   ]
  },
  {
   "cell_type": "code",
   "execution_count": 8,
   "id": "8f887b6c",
   "metadata": {},
   "outputs": [
    {
     "name": "stdout",
     "output_type": "stream",
     "text": [
      "Area of unit circle is 3.141592654\n"
     ]
    }
   ],
   "source": [
    "import math\n",
    "\n",
    "area = math.pi * 1.0 ** 2\n",
    "print(\"Area of unit circle is {:10.9f}\".format(area))"
   ]
  },
  {
   "cell_type": "markdown",
   "id": "3af13531",
   "metadata": {},
   "source": [
    "## Definice vlastního modulu\n",
    "\n",
    "Uvažujme následující soubor `circle.py`:\n",
    "\n",
    "```python\n",
    "import math\n",
    "\n",
    "def area (radius):\n",
    "    return math.pi*radius ** 2\n",
    "\n",
    "def circumference (radius):\n",
    "    return 2.0*math.pi * radius\n",
    "```"
   ]
  },
  {
   "cell_type": "code",
   "execution_count": 9,
   "id": "83930445",
   "metadata": {},
   "outputs": [
    {
     "name": "stdout",
     "output_type": "stream",
     "text": [
      "Area of unit circle is 3.141592654\n",
      "Circumference of unit circle is 6.283185307\n"
     ]
    }
   ],
   "source": [
    "import sys\n",
    "import os\n",
    "\n",
    "# Add a Data directory to the system path, so that we can import modules from there\n",
    "sys.path.append(os.path.join(os.getcwd(), 'lectures/Data')) \n",
    "import circle\n",
    "\n",
    "print(\"Area of unit circle is {:10.9f}\".format(circle.area(1.0)))\n",
    "print(\"Circumference of unit circle is {:10.9f}\".format(circle.circumference(1.0)))"
   ]
  },
  {
   "cell_type": "markdown",
   "id": "93a74c16",
   "metadata": {},
   "source": [
    "## Uvod do základních modulů\n",
    "\n",
    "* NumPy - the library for linear algebra in Python\n",
    "* Matplotlib - Visualization with Python\n",
    "* Pandas - a fast, powerful, flexible and easy to use data analysis and manipulation tool\n"
   ]
  },
  {
   "cell_type": "markdown",
   "id": "d2902104",
   "metadata": {},
   "source": [
    "## NumPy - the library for linear algebra in Python\n",
    "https://numpy.org/\n",
    "\n",
    "Proč NumPy?\n",
    "\n",
    "Python seznamy obsahují odkazy na objekty místo samotných dat. Přestože to činí Python listy velmi flexibilními, z pohledu výkonu nebo využití paměti to není optimální. \n",
    "NumPy ukládá data přímo ve svém objektu pole. Data jsou navíc uložena v paměti kontinuálně, aby se ještě více zlepšil výkon. Poměrně mnoho dalších externích knihoven (například SciPy) očekává, že data budou ve formátu NumPy, aby mohly fungovat nebo fungovat efektivně. \n"
   ]
  },
  {
   "cell_type": "markdown",
   "id": "de9fe99c",
   "metadata": {},
   "source": [
    "Hlavním datovým typem NumPy je objekt pole, který může obsahovat N-dimenzionální pole. Všechny prvky v poli musí být stejného typu. Podporované typy zahrnují: \n",
    "* int8, int16, int32, int64, int (= int32 nebo int64), \n",
    "* uint8, uint16, uint32, uint64, \n",
    "* float16, float32, float64 (= float), \n",
    "* complex64, complex128 (= complex). \n",
    "Typ je automaticky vybrán na základě vstupu, pokud není specifikovaný typ."
   ]
  },
  {
   "cell_type": "code",
   "execution_count": 16,
   "id": "dabda3ba",
   "metadata": {},
   "outputs": [
    {
     "name": "stdout",
     "output_type": "stream",
     "text": [
      "[ 4  7 21]\n",
      "<class 'numpy.int64'>\n"
     ]
    }
   ],
   "source": [
    "import numpy as np\n",
    "a = np.array([1, 3, 4])\n",
    "b = np.array([3, 2, 5], dtype=np.int8)\n",
    "c = a * b + 1\n",
    "print(c)\n",
    "print(type(c[0]))"
   ]
  },
  {
   "cell_type": "markdown",
   "id": "9f39a943",
   "metadata": {},
   "source": [
    "V uvedeném příkladu jsme vytvořili pole NumPy z pythonového seznamu. To je jeden ze způsobů, jak vytvořit pole NumPy, více způsobů bude ukázáno později. \n",
    "\n",
    "Tvar (shape) pole je n-tice. Například můžete použít tvarovou n-tici k vytvoření prázdných polí apod. pomocí funkcí zeros(), ones() nebo empty()."
   ]
  },
  {
   "cell_type": "code",
   "execution_count": 17,
   "id": "e639cae4",
   "metadata": {},
   "outputs": [
    {
     "name": "stdout",
     "output_type": "stream",
     "text": [
      "[[1.  3. ]\n",
      " [2.  7. ]\n",
      " [0.4 6. ]]\n",
      "[[0.+0.j 0.+0.j 0.+0.j 0.+0.j]\n",
      " [0.+0.j 0.+0.j 0.+0.j 0.+0.j]]\n"
     ]
    }
   ],
   "source": [
    "a = np.array([[1., 3.],\n",
    "              [2., 7.],\n",
    "              [.4, 6.]])\n",
    "np.shape(a)\n",
    "print(a)\n",
    "b = np.zeros((2,4), dtype=np.complex64)\n",
    "print(b)"
   ]
  },
  {
   "cell_type": "markdown",
   "id": "3cd65ac7",
   "metadata": {},
   "source": [
    "Pro vytvoření řady čísel můžete použít metodu arange(start=0, stop, step=1) pro celá čísla. \n",
    "Poznámka: stejně jako u krájení, start je včetně, stop je vyjma. \n",
    "\n",
    "Pro desetinná čísla použijte linspace(start, stop, num=10). Poznámka: obě krajní hodnoty jsou včetně!"
   ]
  },
  {
   "cell_type": "code",
   "execution_count": 18,
   "id": "83bdfbf9",
   "metadata": {},
   "outputs": [
    {
     "name": "stdout",
     "output_type": "stream",
     "text": [
      "a = [0 1 2]\n",
      "b = [24 22 20 18 16 14 12]\n",
      "c = [-1.  -0.5  0.   0.5  1. ]\n"
     ]
    }
   ],
   "source": [
    "a = np.arange(3)\n",
    "b = np.arange(stop = 10, start = 24, step = -2)\n",
    "print(\"a = {}\".format(a))\n",
    "print(\"b = {}\".format(b))\n",
    "c = np.linspace (-1, 1, 5)\n",
    "print(\"c = {}\".format(c))"
   ]
  },
  {
   "cell_type": "markdown",
   "id": "827d8d37",
   "metadata": {},
   "source": [
    "Nyní je čas začít pracovat s NumPy.\n",
    "První věc, kterou je třeba poznamenat, je, že při práci s NumPy poli se operace provádějí na každém prvku."
   ]
  },
  {
   "cell_type": "code",
   "execution_count": 19,
   "id": "1283c1f5",
   "metadata": {},
   "outputs": [
    {
     "name": "stdout",
     "output_type": "stream",
     "text": [
      "a = [0 1 2 3]\n",
      "b = [1 2 3 4]\n",
      "c = [1 3 5 7]\n"
     ]
    }
   ],
   "source": [
    "import numpy as np\n",
    "a = np.arange(4)\n",
    "b = a + 1\n",
    "c = a + b\n",
    "print(\"a = {}\".format(a))\n",
    "print(\"b = {}\".format(b))\n",
    "print(\"c = {}\".format(c))"
   ]
  },
  {
   "cell_type": "markdown",
   "id": "fa521e93",
   "metadata": {},
   "source": [
    "I když se násobí, pole NumPy se zpracovávají prvek po prvku, když je to možné."
   ]
  },
  {
   "cell_type": "code",
   "execution_count": 20,
   "id": "64b5c3bd",
   "metadata": {},
   "outputs": [
    {
     "name": "stdout",
     "output_type": "stream",
     "text": [
      "a = [0 1 2 3]\n",
      "b = [1.  1.5 2.  2.5]\n",
      "c = [0.  1.5 4.  7.5]\n"
     ]
    }
   ],
   "source": [
    "a = np.arange(4)\n",
    "b = np.linspace(1, 2.5, 4)\n",
    "c = a * b\n",
    "print(\"a = {}\".format(a))\n",
    "print(\"b = {}\".format(b))\n",
    "print(\"c = {}\".format(c))"
   ]
  },
  {
   "cell_type": "markdown",
   "id": "46922d2f",
   "metadata": {},
   "source": [
    "NumPy automaticky přiřazuje typ každému poli a automaticky povyšuje výsledky operací s poli na správný typ."
   ]
  },
  {
   "cell_type": "code",
   "execution_count": 21,
   "id": "6355ffbd",
   "metadata": {},
   "outputs": [
    {
     "name": "stdout",
     "output_type": "stream",
     "text": [
      "<class 'numpy.int64'> <class 'numpy.float64'> <class 'numpy.float64'>\n"
     ]
    }
   ],
   "source": [
    "print(type(a[0]), type(b[0]), type(c[0]))"
   ]
  },
  {
   "cell_type": "markdown",
   "id": "4862beb6",
   "metadata": {},
   "source": [
    "Pokud jsou tvary operandů nekompatibilní, NumPy vám vyhodí chybu:"
   ]
  },
  {
   "cell_type": "code",
   "execution_count": 22,
   "id": "f6e6e0ba",
   "metadata": {},
   "outputs": [
    {
     "ename": "ValueError",
     "evalue": "operands could not be broadcast together with shapes (4,) (3,) ",
     "output_type": "error",
     "traceback": [
      "\u001b[0;31m---------------------------------------------------------------------------\u001b[0m",
      "\u001b[0;31mValueError\u001b[0m                                Traceback (most recent call last)",
      "Cell \u001b[0;32mIn[22], line 2\u001b[0m\n\u001b[1;32m      1\u001b[0m b \u001b[38;5;241m=\u001b[39m np\u001b[38;5;241m.\u001b[39mlinspace(\u001b[38;5;241m1\u001b[39m, \u001b[38;5;241m2\u001b[39m, \u001b[38;5;241m3\u001b[39m)\n\u001b[0;32m----> 2\u001b[0m c \u001b[38;5;241m=\u001b[39m \u001b[43ma\u001b[49m\u001b[43m \u001b[49m\u001b[38;5;241;43m*\u001b[39;49m\u001b[43m \u001b[49m\u001b[43mb\u001b[49m\n",
      "\u001b[0;31mValueError\u001b[0m: operands could not be broadcast together with shapes (4,) (3,) "
     ]
    }
   ],
   "source": [
    "b = np.linspace(1, 2, 3)\n",
    "c = a * b"
   ]
  },
  {
   "cell_type": "markdown",
   "id": "3b411f8b",
   "metadata": {},
   "source": [
    "## Indexování a řezání (Indexing and Slicing)\n",
    "\n",
    "V mnoha algoritmech musíte pracovat s částmi pole, tj. použít pouze vybrané prvky. \n",
    "Když mluvíme o indexování, vybíráme data pro specifické indexy z pole. Pro indexování můžete použít Python seznamy nebo NumPy pole jako indexová pole."
   ]
  },
  {
   "cell_type": "code",
   "execution_count": 27,
   "id": "53fb60ec",
   "metadata": {},
   "outputs": [
    {
     "name": "stdout",
     "output_type": "stream",
     "text": [
      "a = [ 1.   2.5  4.   5.5  7.   8.5 10. ]\n",
      "index = [0 2 3]\n",
      "\n",
      "1.0\n",
      "[1.  4.  5.5]\n",
      "[1.  4.  5.5]\n"
     ]
    }
   ],
   "source": [
    "a = np.linspace(1., 10., 7)\n",
    "index = np.array([0, 2, 3])\n",
    "\n",
    "print(\"a = {}\".format(a))\n",
    "print(\"index = {}\".format(index))\n",
    "print()\n",
    "print(a[0])          # Single element\n",
    "print(a[ [0, 2, 3] ])# Indexing with index array - Python list\n",
    "print(a[index])      # Indexing with index array - NumPy array"
   ]
  },
  {
   "cell_type": "markdown",
   "id": "a10223cf",
   "metadata": {},
   "source": [
    "Když mluvíme o krájení, vybíráme specifická data kontinuálně nebo v pravidelném vzoru."
   ]
  },
  {
   "cell_type": "code",
   "execution_count": 28,
   "id": "014bd602",
   "metadata": {},
   "outputs": [
    {
     "name": "stdout",
     "output_type": "stream",
     "text": [
      "[1.  2.5]\n",
      "[ 1.  4.  7. 10.]\n",
      "[10.   8.5  7.   5.5  4.   2.5]\n"
     ]
    }
   ],
   "source": [
    "print(a[0:2])        # Slicing: Elements from (and including) no. 0 to no. 2 (not including)\n",
    "print(a[::2])        # Slicing: Every second element from start to end\n",
    "print(a[:0:-1])      # Slicing: Every element _except_ the first one, in reverse order"
   ]
  },
  {
   "cell_type": "markdown",
   "id": "e6ea95aa",
   "metadata": {},
   "source": [
    "Můžete také použít pole booleánů jako \"maskovací\" pole k výběru specifických hodnot."
   ]
  },
  {
   "cell_type": "code",
   "execution_count": 29,
   "id": "fc95969f",
   "metadata": {},
   "outputs": [
    {
     "name": "stdout",
     "output_type": "stream",
     "text": [
      "[False False False  True  True  True  True]\n",
      "[ 5.5  7.   8.5 10. ]\n"
     ]
    }
   ],
   "source": [
    "mask = a > 4\n",
    "print(mask)\n",
    "print(a[mask])"
   ]
  },
  {
   "cell_type": "markdown",
   "id": "f983a511",
   "metadata": {},
   "source": [
    "NumPy pole mohou mít libovolné rozměry, indexování následuje stejný vzor jako pro jedno rozměří. Různé rozměry jsou odděleny čárkou (,)."
   ]
  },
  {
   "cell_type": "code",
   "execution_count": 30,
   "id": "b969acdd",
   "metadata": {},
   "outputs": [
    {
     "name": "stdout",
     "output_type": "stream",
     "text": [
      "a = \n",
      "[[[ 0  1  2  3]\n",
      "  [ 4  5  6  7]]\n",
      "\n",
      " [[ 8  9 10 11]\n",
      "  [12 13 14 15]]\n",
      "\n",
      " [[16 17 18 19]\n",
      "  [20 21 22 23]]]\n",
      "\n",
      "a[0,:,:] = \n",
      "[[0 1 2 3]\n",
      " [4 5 6 7]]\n",
      "\n",
      "a[:,1,:] = \n",
      "[[ 4  5  6  7]\n",
      " [12 13 14 15]\n",
      " [20 21 22 23]]\n",
      "\n",
      "a[:,:,2] = \n",
      "[[ 2  6]\n",
      " [10 14]\n",
      " [18 22]]\n"
     ]
    }
   ],
   "source": [
    "a = np.arange(24).reshape(3, 2, 4)\n",
    "print(\"a = \\n{}\".format(a))\n",
    "print()\n",
    "print(\"a[0,:,:] = \\n{}\".format(a[0,:,:]))    # \"part 0\"\n",
    "print()\n",
    "print(\"a[:,1,:] = \\n{}\".format(a[:,1,:]))    # \"row 1\"\n",
    "print()\n",
    "print(\"a[:,:,2] = \\n{}\".format(a[:,:,2]))    # \"column 2\""
   ]
  },
  {
   "cell_type": "markdown",
   "id": "29242bd8",
   "metadata": {},
   "source": [
    "Velmi silnou funkcí NumPy je tzv. vysílání (broadcasting). \n",
    "\n",
    "Pomocí vysílání lze provádět aritmetické operace na poli s kompatibilními rozměry (tj. tam, kde je počet prvků stejný v zvažovaných rozměrech). \n",
    "\n",
    "Představme si, že chceme vytvořit matici 4x5 násobením prvků jednoho pole o délce 4 (řádky) a jednoho o délce 5 (sloupce). Použijte newaxis."
   ]
  },
  {
   "cell_type": "code",
   "execution_count": 31,
   "id": "51c2a982",
   "metadata": {},
   "outputs": [
    {
     "name": "stdout",
     "output_type": "stream",
     "text": [
      "a = \n",
      "[1.  1.5 2.  2.5]\n",
      "b = \n",
      "[2.  2.5 3.  3.5 4. ]\n",
      "c = \n",
      "[[ 2.    2.5   3.    3.5   4.  ]\n",
      " [ 3.    3.75  4.5   5.25  6.  ]\n",
      " [ 4.    5.    6.    7.    8.  ]\n",
      " [ 5.    6.25  7.5   8.75 10.  ]]\n"
     ]
    }
   ],
   "source": [
    "a = np.linspace( 1., 2.5, 4 )\n",
    "b = np.linspace( 2., 4., 5 )\n",
    "print(\"a = \\n{}\".format(a))\n",
    "print(\"b = \\n{}\".format(b))\n",
    "c = a[ :, np.newaxis ] * b[ np.newaxis, : ]\n",
    "print(\"c = \\n{}\".format(c))"
   ]
  },
  {
   "cell_type": "markdown",
   "id": "faeb509c",
   "metadata": {},
   "source": [
    "Co je vlastně a[ :, np.newaxis] ?"
   ]
  },
  {
   "cell_type": "code",
   "execution_count": 32,
   "id": "67778d6f",
   "metadata": {},
   "outputs": [
    {
     "name": "stdout",
     "output_type": "stream",
     "text": [
      "[[1. ]\n",
      " [1.5]\n",
      " [2. ]\n",
      " [2.5]]\n"
     ]
    }
   ],
   "source": [
    "print(a[ :, np.newaxis ])"
   ]
  },
  {
   "cell_type": "code",
   "execution_count": 33,
   "id": "688686a4",
   "metadata": {},
   "outputs": [
    {
     "name": "stdout",
     "output_type": "stream",
     "text": [
      "[[1.  1.  1.  1.  1. ]\n",
      " [1.5 1.5 1.5 1.5 1.5]\n",
      " [2.  2.  2.  2.  2. ]\n",
      " [2.5 2.5 2.5 2.5 2.5]]\n"
     ]
    }
   ],
   "source": [
    "print (a[ :, np.newaxis ] * np.ones(5))"
   ]
  },
  {
   "cell_type": "markdown",
   "id": "369be729",
   "metadata": {},
   "source": [
    "* nová osa se automaticky rozšíří na potřebný počet prvků, kopírující (broadcasting) data! \n",
    "* Pro další způsoby práce s poli se podívejte na metody NumPy where(), argsort(), concatenate(), hstack() a vstack()"
   ]
  },
  {
   "cell_type": "markdown",
   "id": "60c2a135",
   "metadata": {},
   "source": [
    "## Numerika s NumPy\n",
    "V NumPy je k dispozici mnoho numerických rutin pro manipulaci s jeho poli, ty zahrnují:\n",
    "* Matice a lineární algebru\n",
    "* Fourierovy transformace\n",
    "* Generátory náhodných čísel\n",
    "* Polynomy\n",
    "* Všechny standardní matematické funkce: sin, cosh, exp, log, log10...\n",
    "* Funkce pro zkoumání: max, min, průměr, medián, znaménko, oříznout\n",
    "* Obecné funkce pro pole: součet, součin...\n",
    "* Kumulativní funkce: kumulativní součet, kumulativní součin\n",
    "* Derivace: trapz, diff, gradient\n",
    "* Násobení polí a matic: dot, tensordot, cross, convolv\n",
    "* A více..., podívejte se na referenční příručku NumPy (https://docs.scipy.org/doc/numpy/reference/) pro úplný seznam."
   ]
  },
  {
   "cell_type": "markdown",
   "id": "3ee3cc36",
   "metadata": {},
   "source": [
    "## Příklad: Součty a součiny\n",
    "* Pro součty a součinypoužijte numpy.sum a numpy.prod\n",
    "* Pro práci pouze přes jednu osu přidejte argument * axis=osa_k_součtu *"
   ]
  },
  {
   "cell_type": "code",
   "execution_count": 45,
   "id": "18295588",
   "metadata": {},
   "outputs": [
    {
     "name": "stdout",
     "output_type": "stream",
     "text": [
      "a =\n",
      "[[[ 0  1  2  3]\n",
      "  [ 4  5  6  7]\n",
      "  [ 8  9 10 11]]\n",
      "\n",
      " [[12 13 14 15]\n",
      "  [16 17 18 19]\n",
      "  [20 21 22 23]]]\n",
      "\n",
      "np.prod(a) = 0\n",
      "np.sum(a) = 276\n",
      "\n",
      "np.prod(a, axis=1) =\n",
      "[[   0   45  120  231]\n",
      " [3840 4641 5544 6555]]\n",
      "\n",
      "np.sum(a, axis=2) =\n",
      "[[ 6 22 38]\n",
      " [54 70 86]]\n"
     ]
    }
   ],
   "source": [
    "a = np.arange(24).reshape(2, 3, 4)\n",
    "print(\"a =\\n{}\".format(a))\n",
    "print()\n",
    "print(\"np.prod(a) = {}\".format( np.prod(a) ))\n",
    "print(\"np.sum(a) = {}\".format( np.sum(a) ))\n",
    "print()\n",
    "print(\"np.prod(a, axis=1) =\\n{}\".format( np.prod(a, axis=1) ))\n",
    "print()\n",
    "print(\"np.sum(a, axis=2) =\\n{}\".format( np.sum(a, axis=2) ))"
   ]
  },
  {
   "cell_type": "markdown",
   "id": "f63eb4b5",
   "metadata": {},
   "source": [
    "## Příklad: Diferenciace\n",
    "Pro převzetí rozdílu mezi sousedními prvky použijte numpy.diff( f, n=1, axis=-1)\n",
    "n je počet, kolikrát by měl být rozdíl proveden, axis je osa, na které se má pracovat (výchozí je poslední osa)\n"
   ]
  },
  {
   "cell_type": "markdown",
   "id": "cadc5343",
   "metadata": {},
   "source": [
    "* To approximate the gradient $$\\frac{df(x_n)}{dx} \\approx \\frac{f(x_{n+1} - 2f(x_n) + f(x_{n-1})}{2\\Delta x}$$,\n",
    "    * use **numpy.gradient(f , [dx, dy, ....])**,\n",
    "    * Example $f(x) = \\cos(x)  \\Rightarrow \\frac{df}{dx}(x) = -\\sin(x)$"
   ]
  },
  {
   "cell_type": "code",
   "execution_count": 43,
   "id": "04267602",
   "metadata": {},
   "outputs": [],
   "source": [
    "x = np.linspace(0, 2*np.pi, num=1000)\n",
    "dx = x[1] - x[0]\n",
    "  \n",
    "f = np.cos(x)  \n",
    "df_dx = np.gradient(f, dx)\n",
    "\n",
    "np.testing.assert_array_almost_equal(df_dx, -np.sin(x), decimal=2)"
   ]
  },
  {
   "cell_type": "code",
   "execution_count": 44,
   "id": "063ab5ea",
   "metadata": {},
   "outputs": [
    {
     "data": {
      "text/plain": [
       "Text(0.5, 0, 'x')"
      ]
     },
     "execution_count": 44,
     "metadata": {},
     "output_type": "execute_result"
    },
    {
     "data": {
      "image/png": "[encoded data removed]",
      "text/plain": [
       "<Figure size 640x480 with 1 Axes>"
      ]
     },
     "metadata": {},
     "output_type": "display_data"
    }
   ],
   "source": [
    "import matplotlib.pyplot as plt\n",
    "plt.plot(x, f, 'r')\n",
    "plt.plot(x, df_dx, 'b')\n",
    "plt.legend((\"$f(x)=cos(x)$\", \"$df/dx(x) = -sin(x)$\"))\n",
    "plt.xlabel('x')"
   ]
  },
  {
   "cell_type": "markdown",
   "id": "0a5e5a02",
   "metadata": {},
   "source": [
    "## Příklad: Vektorové a maticové násobení\n",
    "Jak bylo uvedeno výše, všechny (standardní) operace na NumPy poli jsou prováděny prvek po prvku.\n",
    "\n",
    "Pro provedení násobení typu vektor/matice můžete použít metody numpy.dot(a, b) a numpy.cross(a, b). Poznámka: NumPy pole mají také metodu dot, viz příklad níže.\n",
    "\n",
    "Shrnutí:\n",
    "* $a\\cdot b = \\sum_i a_i b_i$ (výsledek je skalární)\n",
    "* $a\\times b = \\sum_{j,k} \\epsilon_{ijk} a_j b_k$ (výsledek je jednorozměrné pole)\n",
    "\n",
    "(Prvky $\\epsilon_{i,j,k}$mají hodnotu 1, pokud jsou indexy ve stejném pořadí nebo permutovaném pořadí, -1 pokud jsou v opačném pořadí a 0 pokud jsou dva indexy stejné: Např. i=1, j=2, k=0 -> 1, i=2, j=1, k=0 -> -1, i,j=2, k=0 -> 0)"
   ]
  },
  {
   "cell_type": "code",
   "execution_count": 46,
   "id": "0f4097eb",
   "metadata": {},
   "outputs": [
    {
     "name": "stdout",
     "output_type": "stream",
     "text": [
      "a = [1. 2. 3.]\n",
      "b = [2. 1. 0.]\n",
      "\n",
      "a . b = 4.0 (dot product)\n",
      "a x b = [-3.  6. -3.] (cross product)\n",
      "\n",
      "a . b = 4.0\n",
      "\n",
      "a * b = [2. 2. 0.] (elementwise)\n"
     ]
    }
   ],
   "source": [
    "a = np.array([1., 2., 3.])\n",
    "b = np.array([2., 1., 0.])\n",
    "print(\"a = {}\".format(a))\n",
    "print(\"b = {}\".format(b))\n",
    "print()\n",
    "print(\"a . b = {} (dot product)\".format(np.dot(a, b)))\n",
    "print(\"a x b = {} (cross product)\".format(np.cross(a, b)))\n",
    "print()\n",
    "print(\"a . b = {}\".format(a.dot(b)))\n",
    "print()\n",
    "print(\"a * b = {} (elementwise)\".format(a * b))"
   ]
  },
  {
   "cell_type": "markdown",
   "id": "5a3ea885",
   "metadata": {},
   "source": [
    "Příklad: Proveďte násobení typu matice a vektoru pomocí jednoho 2D a jednoho 1D pole NumPy:"
   ]
  },
  {
   "cell_type": "code",
   "execution_count": 47,
   "id": "67559f15",
   "metadata": {},
   "outputs": [
    {
     "name": "stdout",
     "output_type": "stream",
     "text": [
      "A =\n",
      "[[0 1 2]\n",
      " [3 4 5]\n",
      " [6 7 8]]\n",
      "b = [1.  1.5 2. ]\n",
      "\n",
      "c = A . b = [ 5.5 19.  32.5]\n"
     ]
    }
   ],
   "source": [
    "A = np.arange(9).reshape((3,3))\n",
    "b = np.linspace(1., 2., 3)\n",
    "\n",
    "print(\"A =\\n{}\".format(A))\n",
    "print(\"b = {}\".format(b))\n",
    "print()\n",
    "\n",
    "c = A.dot(b)\n",
    "print(\"c = A . b = {}\".format(c))"
   ]
  },
  {
   "cell_type": "markdown",
   "id": "5ce08c39",
   "metadata": {},
   "source": [
    "Příklad: Proveďte maticovou násobení typu matice-matice pomocí dvou 2D NumPy polí:"
   ]
  },
  {
   "cell_type": "code",
   "execution_count": 48,
   "id": "c110611b",
   "metadata": {},
   "outputs": [
    {
     "name": "stdout",
     "output_type": "stream",
     "text": [
      "A =\n",
      "[[0 1 2]\n",
      " [3 4 5]\n",
      " [6 7 8]]\n",
      "B =\n",
      "[[2 6 7]\n",
      " [6 1 4]\n",
      " [8 5 3]]\n",
      "\n",
      "C = A . B =\n",
      "[[ 22  11  10]\n",
      " [ 70  47  52]\n",
      " [118  83  94]]\n",
      "\n",
      "A * B =\n",
      "[[ 0  6 14]\n",
      " [18  4 20]\n",
      " [48 35 24]]  (elementwise!)\n"
     ]
    }
   ],
   "source": [
    "A = np.arange(9).reshape((3,3))\n",
    "B = np.random.randint(0,10,(3,3))\n",
    "print(\"A =\\n{}\".format(A))\n",
    "print(\"B =\\n{}\".format(B))\n",
    "print()\n",
    "\n",
    "C = A.dot(B)\n",
    "print(\"C = A . B =\\n{}\".format(C))\n",
    "print()\n",
    "print(\"A * B =\\n{}  (elementwise!)\".format(A*B))"
   ]
  },
  {
   "cell_type": "markdown",
   "id": "1ad7ced8",
   "metadata": {},
   "source": [
    "* Pro 2D pole můžete získat transpozici pomocí zobrazení \"T\", například B.T.  \n",
    "* Stejně tak můžete získat konjugaci pomocí metody conjugate nebo conj.  \n",
    "* Pro obecnější operaci podobnou transpozici se podívejte na metodu swapaxes z modulu array a NumPy, která vám dá pohled na vaše vícerozměrné pole s vyměněnými libovolnými 2 osami. (B.T je jednoduše B.swapaxes(0, 1)!)  \n",
    "* Pomocí podmodulu numpy.linalg můžete provádět další operace na polích podobných maticím.  \n",
    "  * norm(A): norma matice nebo vektoru (výchozí 2-norma)  \n",
    "  * det(A): determinant 2D rovnocenných polí  \n",
    "  * solve(A, b): řešení lineárních rovnic.  \n",
    "  * qr(A) QR-faktorizace  \n",
    "  * inv(A), pinv(A): inverzní matice a pseudo inverzní  \n",
    "  * eig(A), eigvals(A), eigh(A), eigvalsh(A): vlastní hodnoty a vlastní vektory  \n",
    "  * svd(A): dekompozice singulární hodnoty."
   ]
  },
  {
   "cell_type": "markdown",
   "id": "962bbdad",
   "metadata": {},
   "source": [
    "Příklad: inverze "
   ]
  },
  {
   "cell_type": "code",
   "execution_count": 49,
   "id": "64377112",
   "metadata": {},
   "outputs": [
    {
     "name": "stdout",
     "output_type": "stream",
     "text": [
      "B =\n",
      "[[2 6 7]\n",
      " [6 1 4]\n",
      " [8 5 3]]\n",
      "\n",
      "Binv =\n",
      "[[-0.08333333  0.08333333  0.08333333]\n",
      " [ 0.06862745 -0.24509804  0.16666667]\n",
      " [ 0.10784314  0.18627451 -0.16666667]]\n",
      "\n",
      "B . Binv = \n",
      "[[ 1.00000000e+00  0.00000000e+00 -5.55111512e-17]\n",
      " [ 0.00000000e+00  1.00000000e+00 -2.22044605e-16]\n",
      " [ 0.00000000e+00  0.00000000e+00  1.00000000e+00]]\n",
      "\n",
      "Binv . B = \n",
      "[[ 1.00000000e+00 -5.55111512e-17  5.55111512e-17]\n",
      " [ 0.00000000e+00  1.00000000e+00 -5.55111512e-17]\n",
      " [ 0.00000000e+00 -5.55111512e-17  1.00000000e+00]]\n"
     ]
    }
   ],
   "source": [
    "import numpy.linalg as la\n",
    "\n",
    "Binv = la.inv(B)\n",
    "\n",
    "print(\"B =\\n{}\\n\".format(B))\n",
    "print(\"Binv =\\n{}\\n\".format(Binv))\n",
    "\n",
    "print(\"B . Binv = \\n{}\\n\".format(B.dot(Binv)))\n",
    "print(\"Binv . B = \\n{}\".format(Binv.dot(B)))"
   ]
  },
  {
   "cell_type": "markdown",
   "id": "d9472bd5",
   "metadata": {},
   "source": [
    "# Vizualizace\n",
    "\n",
    "* Potřeba vizualizovat výsledky a data pro lepší pochopení je velmi běžný úkol.\n",
    "* Pro Python je dominantní balíček Matplotlib - pro 2D grafy (nějaká podpora pro 3D existuje) \n",
    "  "
   ]
  },
  {
   "cell_type": "markdown",
   "id": "9313f532",
   "metadata": {},
   "source": [
    "## Matplotlib\n",
    "\n",
    "Co je Matplotlib?\n",
    "\n",
    "Z domovské stránky Matplotlib (http://matplotlib.org/):\n",
    "* Matplotlib je 2D knihovna pro vykreslování v Pythonu, která produkuje publikovatelné kvalitní obrázky v různých formátech pro tisk a interaktivní prostředí napříč platformami. Matplotlib lze používat ve skriptech Pythonu, v prostředí python a ipython (podobně jako MATLAB® nebo Mathematica®), na serverech webových aplikací a v šesti sadách nástrojů pro grafické uživatelské rozhraní.\n",
    "* Matplotlib se snaží udělat jednoduché věci jednoduchými a složité věci možnými. Můžete generovat grafy, histogramy, výkonové spektra, sloupcové grafy, chyby grafy, rozptylové grafy atd. jen s několika řádky kódu. Pro ukázku se podívejte na snímky obrazovky, miniatury a adresář příkladů.\n",
    "* Pro jednoduché vykreslování poskytuje rozhraní `pyplot` rozhraní podobné MATLABu, zejména když je kombinováno s IPythonem. Pro pokročilé uživatele máte plnou kontrolu nad styly čar, vlastnostmi písma, vlastnostmi os atd., prostřednictvím orientovaného objektového rozhraní nebo prostřednictvím sady funkcí známých uživatelům MATLABu. Viz https://matplotlib.org/stable/tutorials/pyplot.html#sphx-glr-tutorials-pyplot-py"
   ]
  },
  {
   "cell_type": "code",
   "execution_count": 2,
   "id": "8291c103",
   "metadata": {},
   "outputs": [
    {
     "data": {
      "image/png": "[encoded data removed]",
      "text/plain": [
       "<Figure size 640x480 with 1 Axes>"
      ]
     },
     "metadata": {},
     "output_type": "display_data"
    }
   ],
   "source": [
    "import matplotlib.pyplot as plt\n",
    "\n",
    "plt.plot([1, 2, 3, 4], [1, 4, 9, 16])\n",
    "plt.ylabel('some numbers')\n",
    "plt.show()\n"
   ]
  },
  {
   "cell_type": "markdown",
   "id": "2a037d5c",
   "metadata": {},
   "source": [
    "## Formátování \n"
   ]
  },
  {
   "cell_type": "code",
   "execution_count": 5,
   "id": "f57f050d",
   "metadata": {},
   "outputs": [
    {
     "data": {
      "image/png": "[encoded data removed]",
      "text/plain": [
       "<Figure size 640x480 with 1 Axes>"
      ]
     },
     "metadata": {},
     "output_type": "display_data"
    }
   ],
   "source": [
    "import numpy as np\n",
    "\n",
    "# evenly sampled time at 200ms intervals\n",
    "t = np.arange(0., 5., 0.2)\n",
    "\n",
    "# red dashes, blue squares and green triangles\n",
    "plt.plot(t, t, 'r--', t, t**2, 'bs', t, t**3, 'g^')\n",
    "plt.show()"
   ]
  },
  {
   "cell_type": "markdown",
   "id": "43815bc5",
   "metadata": {},
   "source": [
    "## Podgrafy\n",
    "K vytvoření podgrafů můžete buď použít základní rutiny pyplot:\n",
    "* matplotlib.pyplot.subplots(nrows=1, ncols=1, sharex=False, sharey=False, squeeze=True, subplot_kw=None, gridspec_kw=None, **fig_kw) - vytváří figure a osy pro všechny podgrafy najednou: fig1, (ax1, ax2, ...)\n",
    "* matplotlib.pyplot.subplot(*args, **kwargs) - vytvoří jeden objekt osy, typické použití je:\n",
    "  * subplot(nrows, ncols, plot_number), např. subplot(2, 1, 1), subplot(211)\n",
    "  * Oba tyto příkazy dávají mřížku 2 x 1 a ukazují na první podgraf, podobně jako v Matlabu\n",
    "\n",
    "(Parametr figure figsize se používá společně s metodou pyplot figaspect() k ovládání poměru stran figure, aby se lépe přizpůsobil obrazovce v níže uvedených příkladech)"
   ]
  },
  {
   "cell_type": "markdown",
   "id": "efa6faa1",
   "metadata": {},
   "source": [
    "## Histogramy\n",
    "Histogramy vytváříte pomocí hist(y, bins=10, normed=False, histtype= ...)\n",
    "\n",
    "Podívejte se na vestavěnou nápovědu nebo online dokumentaci pro mnohem více možností!"
   ]
  },
  {
   "cell_type": "code",
   "execution_count": null,
   "id": "78d21af4",
   "metadata": {},
   "outputs": [
    {
     "data": {
      "image/png": "[encoded data removed]",
      "text/plain": [
       "<Figure size 1600x400 with 2 Axes>"
      ]
     },
     "metadata": {},
     "output_type": "display_data"
    }
   ],
   "source": [
    "ar = 0.25\n",
    "x = 100 + 15 * np.random.randn(10000)\n",
    "\n",
    "fig1 = plt.figure(figsize=plt.figaspect(ar))\n",
    "\n",
    "ax1 = fig1.add_subplot(121)\n",
    "ax1.hist(x, bins=40, density=True, facecolor='g', alpha=0.75)\n",
    "\n",
    "ax2 = fig1.add_subplot(122)\n",
    "ax2.hist(x, bins=20, histtype='stepfilled', facecolor='PowderBlue', alpha=0.5)\n",
    "plt.text(60, .025, r'$\\mu=100,\\ \\sigma=15$')\n",
    "plt.show()"
   ]
  },
  {
   "cell_type": "markdown",
   "id": "320d317b",
   "metadata": {},
   "source": [
    "## Další populární moduly\n",
    "* Data Science and Numerical Computing\n",
    "  * SciPy: Builds on NumPy for advanced scientific computations like optimization, integration, and signal processing.\n",
    "* Machine Learning and AI\n",
    "  * TensorFlow: A robust framework for building and training machine learning models.\n",
    "  * PyTorch: Popular for deep learning, offering dynamic computation graphs.\n",
    "* Web Development\n",
    "  * Flask: Lightweight web framework for building APIs and web applications.\n",
    "  * Django: Full-stack web framework with built-in ORM, admin panel, and security features.\n",
    "  * FastAPI: High-performance framework for building APIs with automatic OpenAPI documentation.\n",
    "  * Requests: Simplifies HTTP requests for web scraping and API interactions.\n",
    "* Database and Storage\n",
    "  * SQL Database Support\n",
    "    * SQLAlchemy: ORM and SQL toolkit\n",
    "    * psycopg2: Native PostgreSQL driver\n",
    "    * mysql-connector: Official MySQL interface\n",
    "  * NoSQL Integration\n",
    "    * pymongo: MongoDB driver\n",
    "    * redis-py: Redis client\n",
    "    * cassandra-driver: Apache Cassandra interface\n",
    "  * Cloud Storage Access\n",
    "    * boto3: Amazon S3 operations\n",
    "    * google-cloud-storage: GCP storage\n",
    "    * azure-storage-blob: Azure blob storage\n",
    "* Unit testing tools\n",
    "  * unittest\tBuilt-in assertions, test case classes\tStandard testing needs\n",
    "  * PyTest\tFixtures, plugins, parameterization\tAdvanced testing scenarios\n",
    "  * nose2\tTest discovery, plugins\tExtended unittest functionality\n",
    "* GUI frameworks\n",
    "  * Tkinter\tSimple apps\tBasic widgets, easy to learn\tAll platforms\n",
    "  * PyQt/PySide\tEnterprise apps\tRich component set, Qt integration\tCross-platform\n",
    "  * wxPython\tNative look apps\tOS-native widgets\tWindows, Mac, Linux\n",
    "* Data persistence\n",
    "  * Pickle\n",
    "  * json\n",
    "  * marshal\n",
    "\n",
    "\n",
    "\n",
    "\n"
   ]
  }
 ],
 "metadata": {
  "kernelspec": {
   "display_name": "Python 3",
   "language": "python",
   "name": "python3"
  },
  "language_info": {
   "codemirror_mode": {
    "name": "ipython",
    "version": 3
   },
   "file_extension": ".py",
   "mimetype": "text/x-python",
   "name": "python",
   "nbconvert_exporter": "python",
   "pygments_lexer": "ipython3",
   "version": "3.8.10"
  }
 },
 "nbformat": 4,
 "nbformat_minor": 5
}

{
 "cells": [
  {
   "cell_type": "markdown",
   "id": "26b474d7",
   "metadata": {},
   "source": [
    "# Moduly \n",
    "Dnes se naučíme vytvářet a importovat moduly (modules) a knihovny (packages)\n",
    "* Modul je soubor obsahující definice a příkazy jazyka Python. Umožňuje opakované použití kódu v různých programech nebo projektech Pythonu.- \n",
    "* Knihovna nebo balíček je často externí kolekce modulů \n",
    "nebo balíčků, které poskytují předem napsané funkce pro řešení konkrétních \n",
    "problémů nebo provádění konkrétních úkolů. Rozšiřují funkčnost jazyka \n",
    "Python tím, že poskytují hotový kód pro různé účely. Jsou obvykle vyvíjeny a \n",
    "udržovány komunitou Pythonu nebo vývojáři třetích stran\n",
    "\n",
    "Dnes jsou balíčky dostupné prakticky pro všechno - od tvorby webového rozhranní po strojové učení.\n",
    "Dobrým startovacím místem, pokud hledáte balíček pro konrétní věc je jakýkoliv webový vyhledávač, případně také Python Package Index (https://pypi.python.org/pypi), kde je registrováno více jak 690 tisíc balíčků. Často existuje více balíčků pro daný problém. "
   ]
  },
  {
   "cell_type": "markdown",
   "id": "cabc1eb8",
   "metadata": {},
   "source": [
    "\n",
    "* Moduly mohou obsahovat funkce, třídy, proměnné a další definice, přístupné v jejich jmenném prostoru (namespace)\n",
    "* Vlastní moduly můžete vytvářet tak, že kód jazyka Python napíšete do samostatných souborů .py. \n",
    "* Chcete-li modul použít ve svém kódu, musíte jej importovat pomocí příkazu import. \n",
    "* Každý modul \n",
    "* Po importu můžete přistupovat k funkcím, třídám nebo proměnným definovaným v modulu \n",
    "pomocí názvu modulu následovaného tečkovou notací."
   ]
  },
  {
   "cell_type": "code",
   "execution_count": 1,
   "id": "8f887b6c",
   "metadata": {},
   "outputs": [
    {
     "name": "stdout",
     "output_type": "stream",
     "text": [
      "Area of unit circle is 3.141592654\n"
     ]
    }
   ],
   "source": [
    "import math\n",
    "\n",
    "area = math.pi * 1.0 ** 2\n",
    "print(\"Area of unit circle is {:10.9f}\".format(area))"
   ]
  },
  {
   "cell_type": "markdown",
   "id": "3af13531",
   "metadata": {},
   "source": [
    "## Definice vlastního modulu\n",
    "\n",
    "Uvažujme následující soubor `circle.py`:\n",
    "\n",
    "```python\n",
    "import math\n",
    "\n",
    "def area (radius):\n",
    "    return math.pi*radius ** 2\n",
    "\n",
    "def circumference (radius):\n",
    "    return 2.0*math.pi * radius\n",
    "```"
   ]
  },
  {
   "cell_type": "code",
   "execution_count": 2,
   "id": "83930445",
   "metadata": {},
   "outputs": [
    {
     "name": "stdout",
     "output_type": "stream",
     "text": [
      "Area of unit circle is 3.141592654\n",
      "Circumference of unit circle is 6.283185307\n"
     ]
    }
   ],
   "source": [
    "import sys\n",
    "import os\n",
    "\n",
    "# Add a Data directory to the system path, so that we can import modules from there\n",
    "sys.path.append(os.path.join(os.getcwd(), 'lectures/Data')) \n",
    "import circle\n",
    "\n",
    "print(\"Area of unit circle is {:10.9f}\".format(circle.area(1.0)))\n",
    "print(\"Circumference of unit circle is {:10.9f}\".format(circle.circumference(1.0)))"
   ]
  }
 ],
 "metadata": {
  "kernelspec": {
   "display_name": "Python 3",
   "language": "python",
   "name": "python3"
  },
  "language_info": {
   "codemirror_mode": {
    "name": "ipython",
    "version": 3
   },
   "file_extension": ".py",
   "mimetype": "text/x-python",
   "name": "python",
   "nbconvert_exporter": "python",
   "pygments_lexer": "ipython3",
   "version": "3.8.10"
  }
 },
 "nbformat": 4,
 "nbformat_minor": 5
}
